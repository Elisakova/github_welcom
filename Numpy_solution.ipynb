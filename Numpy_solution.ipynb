{
  "nbformat": 4,
  "nbformat_minor": 0,
  "metadata": {
    "colab": {
      "provenance": [],
      "collapsed_sections": [],
      "authorship_tag": "ABX9TyOIC0gWNWPCzuaMfUyNBT7B",
      "include_colab_link": true
    },
    "kernelspec": {
      "name": "python3",
      "display_name": "Python 3"
    },
    "language_info": {
      "name": "python"
    }
  },
  "cells": [
    {
      "cell_type": "markdown",
      "metadata": {
        "id": "view-in-github",
        "colab_type": "text"
      },
      "source": [
        "<a href=\"https://colab.research.google.com/github/Elisakova/github_welcom/blob/main/Numpy_solution.ipynb\" target=\"_parent\"><img src=\"https://colab.research.google.com/assets/colab-badge.svg\" alt=\"Open In Colab\"/></a>"
      ]
    },
    {
      "cell_type": "code",
      "execution_count": null,
      "metadata": {
        "colab": {
          "base_uri": "https://localhost:8080/"
        },
        "id": "QpYv_rlOLUkJ",
        "outputId": "6e36128a-dbc9-463b-cbfb-9832d255cbcc"
      },
      "outputs": [
        {
          "output_type": "stream",
          "name": "stdout",
          "text": [
            "hi\n"
          ]
        }
      ],
      "source": [
        "print(\"hi\")\n",
        "      "
      ]
    },
    {
      "cell_type": "code",
      "source": [
        "import numpy as np\n",
        "arr1=np.zeros(10)\n",
        "print(arr1)"
      ],
      "metadata": {
        "colab": {
          "base_uri": "https://localhost:8080/"
        },
        "id": "eUl-pq-VLgCj",
        "outputId": "183ca01d-26ae-4d06-96d5-88ad5fc836ca"
      },
      "execution_count": null,
      "outputs": [
        {
          "output_type": "stream",
          "name": "stdout",
          "text": [
            "[0. 0. 0. 0. 0. 0. 0. 0. 0. 0.]\n"
          ]
        }
      ]
    },
    {
      "cell_type": "code",
      "source": [
        "#c\n",
        "arr2=np.ones(10)\n",
        "print(arr2)"
      ],
      "metadata": {
        "colab": {
          "base_uri": "https://localhost:8080/"
        },
        "id": "C5SuOAeMME-b",
        "outputId": "52984a88-b456-457a-ce52-600a39c6c26e"
      },
      "execution_count": null,
      "outputs": [
        {
          "output_type": "stream",
          "name": "stdout",
          "text": [
            "[1. 1. 1. 1. 1. 1. 1. 1. 1. 1.]\n"
          ]
        }
      ]
    },
    {
      "cell_type": "code",
      "source": [
        "#Создать массив из 10 пятерок\n",
        "print(np.full(10,5))"
      ],
      "metadata": {
        "colab": {
          "base_uri": "https://localhost:8080/"
        },
        "id": "O6zLdJnxMY-i",
        "outputId": "f79f38d6-6646-429f-bb46-4826b54099b3"
      },
      "execution_count": null,
      "outputs": [
        {
          "output_type": "stream",
          "name": "stdout",
          "text": [
            "[5 5 5 5 5 5 5 5 5 5]\n"
          ]
        }
      ]
    },
    {
      "cell_type": "code",
      "source": [
        "#Создать массив из целых чисел от 10 до 50\n",
        "print(np.arange(10,51))"
      ],
      "metadata": {
        "colab": {
          "base_uri": "https://localhost:8080/"
        },
        "id": "F_Xyeo_fOWb9",
        "outputId": "a6c87851-c2b6-406c-c89a-ea7c9f423d30"
      },
      "execution_count": null,
      "outputs": [
        {
          "output_type": "stream",
          "name": "stdout",
          "text": [
            "[10 11 12 13 14 15 16 17 18 19 20 21 22 23 24 25 26 27 28 29 30 31 32 33\n",
            " 34 35 36 37 38 39 40 41 42 43 44 45 46 47 48 49 50]\n"
          ]
        }
      ]
    },
    {
      "cell_type": "code",
      "source": [
        "#Создать массив из целых чисел от 10 до 50\n",
        "print(np.arange(10,51,2))"
      ],
      "metadata": {
        "colab": {
          "base_uri": "https://localhost:8080/"
        },
        "id": "-f54MJxWPsJU",
        "outputId": "5251a0e4-5d36-4afa-b22e-8133417639aa"
      },
      "execution_count": null,
      "outputs": [
        {
          "output_type": "stream",
          "name": "stdout",
          "text": [
            "[10 12 14 16 18 20 22 24 26 28 30 32 34 36 38 40 42 44 46 48 50]\n"
          ]
        }
      ]
    },
    {
      "cell_type": "code",
      "source": [
        "#Создать матрицу 3х3 с числами от 0 до 8\n",
        "arr=np.arange(0,9)\n",
        "print(arr)\n",
        "matrix=arr.reshape((3,3))\n",
        "print(matrix)"
      ],
      "metadata": {
        "colab": {
          "base_uri": "https://localhost:8080/"
        },
        "id": "mh-04HbvP7K8",
        "outputId": "de69b3f3-f2de-4ecb-c5c6-ad104a53b0f8"
      },
      "execution_count": null,
      "outputs": [
        {
          "output_type": "stream",
          "name": "stdout",
          "text": [
            "[0 1 2 3 4 5 6 7 8]\n",
            "[[0 1 2]\n",
            " [3 4 5]\n",
            " [6 7 8]]\n"
          ]
        }
      ]
    },
    {
      "cell_type": "code",
      "source": [
        "#Создать единичную матрицу 3x3\n",
        "print(np.eye(3))"
      ],
      "metadata": {
        "colab": {
          "base_uri": "https://localhost:8080/"
        },
        "id": "C3pBwRq2ScEk",
        "outputId": "264f924b-9cc6-438c-bd2a-e039fcf889e4"
      },
      "execution_count": null,
      "outputs": [
        {
          "output_type": "stream",
          "name": "stdout",
          "text": [
            "[[1. 0. 0.]\n",
            " [0. 1. 0.]\n",
            " [0. 0. 1.]]\n"
          ]
        }
      ]
    },
    {
      "cell_type": "code",
      "source": [
        "#Используйте NumPy для генерации случайного числа от 0 до 1\n",
        "a=np.random.randint(0, 1)\n",
        "print(a)"
      ],
      "metadata": {
        "colab": {
          "base_uri": "https://localhost:8080/"
        },
        "id": "sWX87Rj6Tmvs",
        "outputId": "1e4b4bf0-b4ca-43c9-fff3-fb70370f0902"
      },
      "execution_count": null,
      "outputs": [
        {
          "output_type": "stream",
          "name": "stdout",
          "text": [
            "0\n"
          ]
        }
      ]
    },
    {
      "cell_type": "code",
      "source": [
        "#Используйте NumPy для генерации массива из 25 случайных чисел,взятых из стандартного нормального распределения\n",
        "a=np.random.randn(25)\n",
        "print(a)"
      ],
      "metadata": {
        "colab": {
          "base_uri": "https://localhost:8080/"
        },
        "id": "RCQ_G9poVDrc",
        "outputId": "30484fa1-59d6-40d6-feec-10c87bc96453"
      },
      "execution_count": null,
      "outputs": [
        {
          "output_type": "stream",
          "name": "stdout",
          "text": [
            "[ 0.53933188  0.55739996 -0.24583903  1.81328862 -1.01809008  0.07677036\n",
            "  0.52541525  1.80635571 -1.12906763 -2.26002054 -0.06537615  0.68251555\n",
            "  0.2650284  -1.04430507 -0.26655041 -1.17062408  0.22129653  1.20684605\n",
            " -0.2249262  -1.73197359 -1.19145941 -0.30203267 -1.6058194  -0.42356304\n",
            "  0.96530006]\n"
          ]
        }
      ]
    },
    {
      "cell_type": "code",
      "source": [
        "#Создайте следующую матрицу используя функции библиотеки NumPy:\n",
        "\n",
        "arr1=np.arange(0.01,1.01,0.01)\n",
        "\n",
        "print(arr1.reshape(10,10))"
      ],
      "metadata": {
        "colab": {
          "base_uri": "https://localhost:8080/"
        },
        "id": "xkIJz3MbXEE1",
        "outputId": "43d58101-24d2-49bb-b2d5-9fa0e4f6baf7"
      },
      "execution_count": null,
      "outputs": [
        {
          "output_type": "stream",
          "name": "stdout",
          "text": [
            "[[0.01 0.02 0.03 0.04 0.05 0.06 0.07 0.08 0.09 0.1 ]\n",
            " [0.11 0.12 0.13 0.14 0.15 0.16 0.17 0.18 0.19 0.2 ]\n",
            " [0.21 0.22 0.23 0.24 0.25 0.26 0.27 0.28 0.29 0.3 ]\n",
            " [0.31 0.32 0.33 0.34 0.35 0.36 0.37 0.38 0.39 0.4 ]\n",
            " [0.41 0.42 0.43 0.44 0.45 0.46 0.47 0.48 0.49 0.5 ]\n",
            " [0.51 0.52 0.53 0.54 0.55 0.56 0.57 0.58 0.59 0.6 ]\n",
            " [0.61 0.62 0.63 0.64 0.65 0.66 0.67 0.68 0.69 0.7 ]\n",
            " [0.71 0.72 0.73 0.74 0.75 0.76 0.77 0.78 0.79 0.8 ]\n",
            " [0.81 0.82 0.83 0.84 0.85 0.86 0.87 0.88 0.89 0.9 ]\n",
            " [0.91 0.92 0.93 0.94 0.95 0.96 0.97 0.98 0.99 1.  ]]\n"
          ]
        }
      ]
    },
    {
      "cell_type": "code",
      "source": [
        " #I ) это наша стартовая матрица \n",
        "mat = np.arange(1,26).reshape(5,5)\n",
        "print(mat)\n",
        "print('__________________')\n",
        "print(mat[2:,1:])"
      ],
      "metadata": {
        "colab": {
          "base_uri": "https://localhost:8080/"
        },
        "id": "ngQ2HHVrZebn",
        "outputId": "7405c0a8-7ce9-46d1-b1a3-54bb357536ee"
      },
      "execution_count": null,
      "outputs": [
        {
          "output_type": "stream",
          "name": "stdout",
          "text": [
            "[[ 1  2  3  4  5]\n",
            " [ 6  7  8  9 10]\n",
            " [11 12 13 14 15]\n",
            " [16 17 18 19 20]\n",
            " [21 22 23 24 25]]\n",
            "__________________\n",
            "[[12 13 14 15]\n",
            " [17 18 19 20]\n",
            " [22 23 24 25]]\n"
          ]
        }
      ]
    },
    {
      "cell_type": "code",
      "source": [
        "#m.Написать код обращения к элементу который вернет значение  20\n",
        "print(mat[3, 4])"
      ],
      "metadata": {
        "colab": {
          "base_uri": "https://localhost:8080/"
        },
        "id": "pi-YlMzhfXAo",
        "outputId": "f4ece345-3d1a-495d-9641-0b1b7f05dc98"
      },
      "execution_count": null,
      "outputs": [
        {
          "output_type": "stream",
          "name": "stdout",
          "text": [
            "20\n"
          ]
        }
      ]
    },
    {
      "cell_type": "code",
      "source": [
        "#n.Написать код к стартовой матрице задачи l \n",
        "arr1=(mat[0:3,1])\n",
        "arr2=np.reshape(arr1,(3,1))\n",
        "print(arr2)"
      ],
      "metadata": {
        "colab": {
          "base_uri": "https://localhost:8080/"
        },
        "id": "CLvO4eK0glCI",
        "outputId": "5bc94de7-8734-404e-ebc0-adea5ff337cb"
      },
      "execution_count": null,
      "outputs": [
        {
          "output_type": "stream",
          "name": "stdout",
          "text": [
            "[[ 2]\n",
            " [ 7]\n",
            " [12]]\n"
          ]
        }
      ]
    },
    {
      "cell_type": "code",
      "source": [
        "#o.Написать код к стартовой матрице задачи l \n",
        "print(mat[4:])\n"
      ],
      "metadata": {
        "colab": {
          "base_uri": "https://localhost:8080/"
        },
        "id": "3GUfMj2CU-qs",
        "outputId": "a5fd234b-180d-4928-b5b6-61436cd0cfff"
      },
      "execution_count": null,
      "outputs": [
        {
          "output_type": "stream",
          "name": "stdout",
          "text": [
            "[[21 22 23 24 25]]\n"
          ]
        }
      ]
    },
    {
      "cell_type": "code",
      "source": [
        "#p.Написать код к стартовой матрице задачи l\n",
        "print(mat[3:])"
      ],
      "metadata": {
        "colab": {
          "base_uri": "https://localhost:8080/"
        },
        "id": "WhQS3LWJvB0q",
        "outputId": "e5fffad2-618b-4b06-dd1c-059a71b28812"
      },
      "execution_count": null,
      "outputs": [
        {
          "output_type": "stream",
          "name": "stdout",
          "text": [
            "[[16 17 18 19 20]\n",
            " [21 22 23 24 25]]\n"
          ]
        }
      ]
    },
    {
      "cell_type": "code",
      "source": [
        "#q.Получить сумму всех значений в стартовой матрице mat\n",
        "x=(np.sum(mat))\n",
        "print(f'сумма всех значений в матрице - {x}')"
      ],
      "metadata": {
        "colab": {
          "base_uri": "https://localhost:8080/"
        },
        "id": "t0IWR8rSvT0i",
        "outputId": "75a76b65-6639-4de2-e04c-ee97dc76be95"
      },
      "execution_count": null,
      "outputs": [
        {
          "output_type": "stream",
          "name": "stdout",
          "text": [
            "сумма всех значений в матрице - 325\n"
          ]
        }
      ]
    },
    {
      "cell_type": "code",
      "source": [
        "#Получить стандартное отклонение в стартовой матрице mat\n",
        "x=np.std(mat)\n",
        "print(f'стандартное отклонение в матрице равно : {x}')"
      ],
      "metadata": {
        "colab": {
          "base_uri": "https://localhost:8080/"
        },
        "id": "2SsyGc-1w6CL",
        "outputId": "034c7da6-8a13-403e-885d-dab5589a1e97"
      },
      "execution_count": null,
      "outputs": [
        {
          "output_type": "stream",
          "name": "stdout",
          "text": [
            "стандартное отклонение в матрице равно : 7.211102550927978\n"
          ]
        }
      ]
    },
    {
      "cell_type": "code",
      "source": [
        "#s.Получить сумму значений в колонках в стартовой матрице\n",
        "x=mat.sum(axis=0)\n",
        "y=mat.sum(axis=1)\n",
        "print(f'сумма значений в столбцах = {x}')\n",
        "print(f'свмма значений в строках = {y}')"
      ],
      "metadata": {
        "colab": {
          "base_uri": "https://localhost:8080/"
        },
        "id": "xqi7MsRuxiGz",
        "outputId": "c7a0edea-bdf8-451e-8541-e38ee2bc145a"
      },
      "execution_count": null,
      "outputs": [
        {
          "output_type": "stream",
          "name": "stdout",
          "text": [
            "сумма значений в столбцах = [55 60 65 70 75]\n",
            "свмма значений в строках = [ 15  40  65  90 115]\n"
          ]
        }
      ]
    }
  ]
}