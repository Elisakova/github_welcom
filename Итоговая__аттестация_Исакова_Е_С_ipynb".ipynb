{
  "nbformat": 4,
  "nbformat_minor": 0,
  "metadata": {
    "colab": {
      "provenance": [],
      "include_colab_link": true
    },
    "kernelspec": {
      "name": "python3",
      "display_name": "Python 3"
    },
    "language_info": {
      "name": "python"
    }
  },
  "cells": [
    {
      "cell_type": "markdown",
      "metadata": {
        "id": "view-in-github",
        "colab_type": "text"
      },
      "source": [
        "<a href=\"https://colab.research.google.com/github/Elisakova/github_welcom/blob/main/%D0%98%D1%82%D0%BE%D0%B3%D0%BE%D0%B2%D0%B0%D1%8F__%D0%B0%D1%82%D1%82%D0%B5%D1%81%D1%82%D0%B0%D1%86%D0%B8%D1%8F_%D0%98%D1%81%D0%B0%D0%BA%D0%BE%D0%B2%D0%B0_%D0%95_%D0%A1_ipynb%22.ipynb\" target=\"_parent\"><img src=\"https://colab.research.google.com/assets/colab-badge.svg\" alt=\"Open In Colab\"/></a>"
      ]
    },
    {
      "cell_type": "markdown",
      "metadata": {
        "id": "mXOkIsa2OJWh"
      },
      "source": [
        "# Предсказание временных рядов"
      ]
    },
    {
      "cell_type": "markdown",
      "metadata": {
        "id": "1zQr-DRYOJUN"
      },
      "source": [
        "## Введение. Постановка целей и задач."
      ]
    },
    {
      "cell_type": "markdown",
      "metadata": {
        "id": "yV73bSO2OJR7"
      },
      "source": [
        "Изменения в солнечной активности   связывают с изменением климата,  влияние на  здоровье человека . Ученые видят зависимость количества  пятен на солнце с уровнем солнечной активности , например, в период уменьшения количества наблюдалось похолодание климата. \n",
        "Цень данной работы создать модель для  прогноза количества пятен на солнце. "
      ]
    },
    {
      "cell_type": "markdown",
      "metadata": {
        "id": "fsEnvXWXUe2z"
      },
      "source": [
        "### Импорт Датафрейма, библиотек, написание функций."
      ]
    },
    {
      "cell_type": "markdown",
      "metadata": {
        "id": "otOFZm6dUexQ"
      },
      "source": [
        "В этом блоке мы импортируем все, что нам нужно для работы: библиотеки, отдельные функции, сам датасет."
      ]
    },
    {
      "cell_type": "code",
      "source": [
        "!pip install pmdarima"
      ],
      "metadata": {
        "colab": {
          "base_uri": "https://localhost:8080/"
        },
        "id": "neCtTr7ikVAz",
        "outputId": "40c1db53-6453-4686-be91-e469128899d5"
      },
      "execution_count": 29,
      "outputs": [
        {
          "output_type": "stream",
          "name": "stdout",
          "text": [
            "Looking in indexes: https://pypi.org/simple, https://us-python.pkg.dev/colab-wheels/public/simple/\n",
            "Requirement already satisfied: pmdarima in /usr/local/lib/python3.8/dist-packages (2.0.2)\n",
            "Requirement already satisfied: Cython!=0.29.18,!=0.29.31,>=0.29 in /usr/local/lib/python3.8/dist-packages (from pmdarima) (0.29.33)\n",
            "Requirement already satisfied: pandas>=0.19 in /usr/local/lib/python3.8/dist-packages (from pmdarima) (1.3.5)\n",
            "Requirement already satisfied: numpy>=1.21.2 in /usr/local/lib/python3.8/dist-packages (from pmdarima) (1.21.6)\n",
            "Requirement already satisfied: statsmodels>=0.13.2 in /usr/local/lib/python3.8/dist-packages (from pmdarima) (0.13.5)\n",
            "Requirement already satisfied: scikit-learn>=0.22 in /usr/local/lib/python3.8/dist-packages (from pmdarima) (1.0.2)\n",
            "Requirement already satisfied: scipy>=1.3.2 in /usr/local/lib/python3.8/dist-packages (from pmdarima) (1.7.3)\n",
            "Requirement already satisfied: setuptools!=50.0.0,>=38.6.0 in /usr/local/lib/python3.8/dist-packages (from pmdarima) (57.4.0)\n",
            "Requirement already satisfied: urllib3 in /usr/local/lib/python3.8/dist-packages (from pmdarima) (1.24.3)\n",
            "Requirement already satisfied: joblib>=0.11 in /usr/local/lib/python3.8/dist-packages (from pmdarima) (1.2.0)\n",
            "Requirement already satisfied: python-dateutil>=2.7.3 in /usr/local/lib/python3.8/dist-packages (from pandas>=0.19->pmdarima) (2.8.2)\n",
            "Requirement already satisfied: pytz>=2017.3 in /usr/local/lib/python3.8/dist-packages (from pandas>=0.19->pmdarima) (2022.7.1)\n",
            "Requirement already satisfied: threadpoolctl>=2.0.0 in /usr/local/lib/python3.8/dist-packages (from scikit-learn>=0.22->pmdarima) (3.1.0)\n",
            "Requirement already satisfied: packaging>=21.3 in /usr/local/lib/python3.8/dist-packages (from statsmodels>=0.13.2->pmdarima) (23.0)\n",
            "Requirement already satisfied: patsy>=0.5.2 in /usr/local/lib/python3.8/dist-packages (from statsmodels>=0.13.2->pmdarima) (0.5.3)\n",
            "Requirement already satisfied: six in /usr/local/lib/python3.8/dist-packages (from patsy>=0.5.2->statsmodels>=0.13.2->pmdarima) (1.15.0)\n"
          ]
        }
      ]
    },
    {
      "cell_type": "code",
      "metadata": {
        "id": "Y9HhQemGU6vC"
      },
      "source": [
        "import numpy as np\n",
        "import pandas as pd\n",
        "import matplotlib.pyplot as plt\n",
        "import seaborn as sns\n",
        "import warnings\n",
        "warnings.filterwarnings('ignore')\n",
        "%matplotlib inline\n",
        "from statsmodels.tsa.statespace.sarimax import SARIMAX\n",
        "from statsmodels.graphics.tsaplots import plot_acf , plot_pacf\n",
        "from statsmodels.tsa.seasonal import seasonal_decompose\n",
        "from pmdarima import auto_arima \n"
      ],
      "execution_count": 43,
      "outputs": []
    },
    {
      "cell_type": "code",
      "metadata": {
        "id": "Sx_GJx5XU8Zi"
      },
      "source": [
        "import statsmodels.api as sm\n",
        "data = sm.datasets.sunspots.load_pandas()"
      ],
      "execution_count": 31,
      "outputs": []
    },
    {
      "cell_type": "code",
      "metadata": {
        "id": "Iqtl_rYgVCrb",
        "colab": {
          "base_uri": "https://localhost:8080/",
          "height": 206
        },
        "outputId": "bcfdf1ed-d3ab-4d63-8afa-9eff7df5777d"
      },
      "source": [
        "df=data.data\n",
        "\n",
        "df.tail()"
      ],
      "execution_count": 237,
      "outputs": [
        {
          "output_type": "execute_result",
          "data": {
            "text/plain": [
              "            YEAR  SUNACTIVITY        DATE\n",
              "2004-12-31  2004         40.4  2004-01-01\n",
              "2005-12-31  2005         29.8  2005-01-01\n",
              "2006-12-31  2006         15.2  2006-01-01\n",
              "2007-12-31  2007          7.5  2007-01-01\n",
              "2008-12-31  2008          2.9  2008-01-01"
            ],
            "text/html": [
              "\n",
              "  <div id=\"df-15c20aa8-0ce3-4a70-9e7d-6093b5d684e9\">\n",
              "    <div class=\"colab-df-container\">\n",
              "      <div>\n",
              "<style scoped>\n",
              "    .dataframe tbody tr th:only-of-type {\n",
              "        vertical-align: middle;\n",
              "    }\n",
              "\n",
              "    .dataframe tbody tr th {\n",
              "        vertical-align: top;\n",
              "    }\n",
              "\n",
              "    .dataframe thead th {\n",
              "        text-align: right;\n",
              "    }\n",
              "</style>\n",
              "<table border=\"1\" class=\"dataframe\">\n",
              "  <thead>\n",
              "    <tr style=\"text-align: right;\">\n",
              "      <th></th>\n",
              "      <th>YEAR</th>\n",
              "      <th>SUNACTIVITY</th>\n",
              "      <th>DATE</th>\n",
              "    </tr>\n",
              "  </thead>\n",
              "  <tbody>\n",
              "    <tr>\n",
              "      <th>2004-12-31</th>\n",
              "      <td>2004</td>\n",
              "      <td>40.4</td>\n",
              "      <td>2004-01-01</td>\n",
              "    </tr>\n",
              "    <tr>\n",
              "      <th>2005-12-31</th>\n",
              "      <td>2005</td>\n",
              "      <td>29.8</td>\n",
              "      <td>2005-01-01</td>\n",
              "    </tr>\n",
              "    <tr>\n",
              "      <th>2006-12-31</th>\n",
              "      <td>2006</td>\n",
              "      <td>15.2</td>\n",
              "      <td>2006-01-01</td>\n",
              "    </tr>\n",
              "    <tr>\n",
              "      <th>2007-12-31</th>\n",
              "      <td>2007</td>\n",
              "      <td>7.5</td>\n",
              "      <td>2007-01-01</td>\n",
              "    </tr>\n",
              "    <tr>\n",
              "      <th>2008-12-31</th>\n",
              "      <td>2008</td>\n",
              "      <td>2.9</td>\n",
              "      <td>2008-01-01</td>\n",
              "    </tr>\n",
              "  </tbody>\n",
              "</table>\n",
              "</div>\n",
              "      <button class=\"colab-df-convert\" onclick=\"convertToInteractive('df-15c20aa8-0ce3-4a70-9e7d-6093b5d684e9')\"\n",
              "              title=\"Convert this dataframe to an interactive table.\"\n",
              "              style=\"display:none;\">\n",
              "        \n",
              "  <svg xmlns=\"http://www.w3.org/2000/svg\" height=\"24px\"viewBox=\"0 0 24 24\"\n",
              "       width=\"24px\">\n",
              "    <path d=\"M0 0h24v24H0V0z\" fill=\"none\"/>\n",
              "    <path d=\"M18.56 5.44l.94 2.06.94-2.06 2.06-.94-2.06-.94-.94-2.06-.94 2.06-2.06.94zm-11 1L8.5 8.5l.94-2.06 2.06-.94-2.06-.94L8.5 2.5l-.94 2.06-2.06.94zm10 10l.94 2.06.94-2.06 2.06-.94-2.06-.94-.94-2.06-.94 2.06-2.06.94z\"/><path d=\"M17.41 7.96l-1.37-1.37c-.4-.4-.92-.59-1.43-.59-.52 0-1.04.2-1.43.59L10.3 9.45l-7.72 7.72c-.78.78-.78 2.05 0 2.83L4 21.41c.39.39.9.59 1.41.59.51 0 1.02-.2 1.41-.59l7.78-7.78 2.81-2.81c.8-.78.8-2.07 0-2.86zM5.41 20L4 18.59l7.72-7.72 1.47 1.35L5.41 20z\"/>\n",
              "  </svg>\n",
              "      </button>\n",
              "      \n",
              "  <style>\n",
              "    .colab-df-container {\n",
              "      display:flex;\n",
              "      flex-wrap:wrap;\n",
              "      gap: 12px;\n",
              "    }\n",
              "\n",
              "    .colab-df-convert {\n",
              "      background-color: #E8F0FE;\n",
              "      border: none;\n",
              "      border-radius: 50%;\n",
              "      cursor: pointer;\n",
              "      display: none;\n",
              "      fill: #1967D2;\n",
              "      height: 32px;\n",
              "      padding: 0 0 0 0;\n",
              "      width: 32px;\n",
              "    }\n",
              "\n",
              "    .colab-df-convert:hover {\n",
              "      background-color: #E2EBFA;\n",
              "      box-shadow: 0px 1px 2px rgba(60, 64, 67, 0.3), 0px 1px 3px 1px rgba(60, 64, 67, 0.15);\n",
              "      fill: #174EA6;\n",
              "    }\n",
              "\n",
              "    [theme=dark] .colab-df-convert {\n",
              "      background-color: #3B4455;\n",
              "      fill: #D2E3FC;\n",
              "    }\n",
              "\n",
              "    [theme=dark] .colab-df-convert:hover {\n",
              "      background-color: #434B5C;\n",
              "      box-shadow: 0px 1px 3px 1px rgba(0, 0, 0, 0.15);\n",
              "      filter: drop-shadow(0px 1px 2px rgba(0, 0, 0, 0.3));\n",
              "      fill: #FFFFFF;\n",
              "    }\n",
              "  </style>\n",
              "\n",
              "      <script>\n",
              "        const buttonEl =\n",
              "          document.querySelector('#df-15c20aa8-0ce3-4a70-9e7d-6093b5d684e9 button.colab-df-convert');\n",
              "        buttonEl.style.display =\n",
              "          google.colab.kernel.accessAllowed ? 'block' : 'none';\n",
              "\n",
              "        async function convertToInteractive(key) {\n",
              "          const element = document.querySelector('#df-15c20aa8-0ce3-4a70-9e7d-6093b5d684e9');\n",
              "          const dataTable =\n",
              "            await google.colab.kernel.invokeFunction('convertToInteractive',\n",
              "                                                     [key], {});\n",
              "          if (!dataTable) return;\n",
              "\n",
              "          const docLinkHtml = 'Like what you see? Visit the ' +\n",
              "            '<a target=\"_blank\" href=https://colab.research.google.com/notebooks/data_table.ipynb>data table notebook</a>'\n",
              "            + ' to learn more about interactive tables.';\n",
              "          element.innerHTML = '';\n",
              "          dataTable['output_type'] = 'display_data';\n",
              "          await google.colab.output.renderOutput(dataTable, element);\n",
              "          const docLink = document.createElement('div');\n",
              "          docLink.innerHTML = docLinkHtml;\n",
              "          element.appendChild(docLink);\n",
              "        }\n",
              "      </script>\n",
              "    </div>\n",
              "  </div>\n",
              "  "
            ]
          },
          "metadata": {},
          "execution_count": 237
        }
      ]
    },
    {
      "cell_type": "markdown",
      "source": [
        "Знакомство с данными."
      ],
      "metadata": {
        "id": "Sf0L8F4GiTbG"
      }
    },
    {
      "cell_type": "code",
      "source": [
        "df.info()"
      ],
      "metadata": {
        "colab": {
          "base_uri": "https://localhost:8080/"
        },
        "id": "LxpA9usiV947",
        "outputId": "6a615632-afba-47f7-858c-556fff3bb06a"
      },
      "execution_count": null,
      "outputs": [
        {
          "output_type": "stream",
          "name": "stdout",
          "text": [
            "<class 'pandas.core.frame.DataFrame'>\n",
            "DatetimeIndex: 309 entries, 1700-12-31 to 2008-12-31\n",
            "Freq: A-DEC\n",
            "Data columns (total 1 columns):\n",
            " #   Column       Non-Null Count  Dtype  \n",
            "---  ------       --------------  -----  \n",
            " 0   SUNACTIVITY  309 non-null    float64\n",
            "dtypes: float64(1)\n",
            "memory usage: 4.8 KB\n"
          ]
        }
      ]
    },
    {
      "cell_type": "code",
      "source": [
        "df.dtypes"
      ],
      "metadata": {
        "colab": {
          "base_uri": "https://localhost:8080/"
        },
        "id": "Z1Q2yHVSWo3A",
        "outputId": "ba0cbf7d-5681-4395-d24d-a178c3f88e6b"
      },
      "execution_count": null,
      "outputs": [
        {
          "output_type": "execute_result",
          "data": {
            "text/plain": [
              "YEAR           float64\n",
              "SUNACTIVITY    float64\n",
              "dtype: object"
            ]
          },
          "metadata": {},
          "execution_count": 6
        }
      ]
    },
    {
      "cell_type": "code",
      "source": [
        "df.shape"
      ],
      "metadata": {
        "colab": {
          "base_uri": "https://localhost:8080/"
        },
        "id": "tWBD8bdhWt4E",
        "outputId": "9535ebba-2e40-4d66-9935-38575860c23c"
      },
      "execution_count": null,
      "outputs": [
        {
          "output_type": "execute_result",
          "data": {
            "text/plain": [
              "(309, 2)"
            ]
          },
          "metadata": {},
          "execution_count": 7
        }
      ]
    },
    {
      "cell_type": "code",
      "source": [
        "df.isnull().sum()"
      ],
      "metadata": {
        "colab": {
          "base_uri": "https://localhost:8080/"
        },
        "id": "ewBZgkmmWyn4",
        "outputId": "85ec7a38-46da-47a2-a0bb-f25e6066ccf7"
      },
      "execution_count": null,
      "outputs": [
        {
          "output_type": "execute_result",
          "data": {
            "text/plain": [
              "YEAR           0\n",
              "SUNACTIVITY    0\n",
              "dtype: int64"
            ]
          },
          "metadata": {},
          "execution_count": 12
        }
      ]
    },
    {
      "cell_type": "markdown",
      "source": [
        "Выводы по разделу: Датасет  содержит 309  наблюдений, две  переменные , тип переменной -float , переменная  YEAR -  год  наблюжени, SUNACTIVITY -  количество  пятен на солнце.  SUNACTIVITY - целевая переменная . В данных  нет пропущених значений. \n",
        "\n"
      ],
      "metadata": {
        "id": "yLdIL5n3ik9n"
      }
    },
    {
      "cell_type": "markdown",
      "metadata": {
        "id": "Efv0vhWsUepF"
      },
      "source": [
        "## Предобработка данных"
      ]
    },
    {
      "cell_type": "code",
      "source": [
        "import datetime\n",
        "df['YEAR'] = df['YEAR'].astype('int')\n",
        "df['DATE'] = df['YEAR'].map(lambda x: datetime.date(x, 1, 1))\n",
        "df.head()\n"
      ],
      "metadata": {
        "id": "NO6jVkfvp2Qg",
        "colab": {
          "base_uri": "https://localhost:8080/",
          "height": 206
        },
        "outputId": "972a8d92-6612-48dc-bda0-1b180267b3b2"
      },
      "execution_count": 238,
      "outputs": [
        {
          "output_type": "execute_result",
          "data": {
            "text/plain": [
              "            YEAR  SUNACTIVITY        DATE\n",
              "1700-12-31  1700          5.0  1700-01-01\n",
              "1701-12-31  1701         11.0  1701-01-01\n",
              "1702-12-31  1702         16.0  1702-01-01\n",
              "1703-12-31  1703         23.0  1703-01-01\n",
              "1704-12-31  1704         36.0  1704-01-01"
            ],
            "text/html": [
              "\n",
              "  <div id=\"df-c1f123e1-1f18-4f91-bfda-319d44a676cc\">\n",
              "    <div class=\"colab-df-container\">\n",
              "      <div>\n",
              "<style scoped>\n",
              "    .dataframe tbody tr th:only-of-type {\n",
              "        vertical-align: middle;\n",
              "    }\n",
              "\n",
              "    .dataframe tbody tr th {\n",
              "        vertical-align: top;\n",
              "    }\n",
              "\n",
              "    .dataframe thead th {\n",
              "        text-align: right;\n",
              "    }\n",
              "</style>\n",
              "<table border=\"1\" class=\"dataframe\">\n",
              "  <thead>\n",
              "    <tr style=\"text-align: right;\">\n",
              "      <th></th>\n",
              "      <th>YEAR</th>\n",
              "      <th>SUNACTIVITY</th>\n",
              "      <th>DATE</th>\n",
              "    </tr>\n",
              "  </thead>\n",
              "  <tbody>\n",
              "    <tr>\n",
              "      <th>1700-12-31</th>\n",
              "      <td>1700</td>\n",
              "      <td>5.0</td>\n",
              "      <td>1700-01-01</td>\n",
              "    </tr>\n",
              "    <tr>\n",
              "      <th>1701-12-31</th>\n",
              "      <td>1701</td>\n",
              "      <td>11.0</td>\n",
              "      <td>1701-01-01</td>\n",
              "    </tr>\n",
              "    <tr>\n",
              "      <th>1702-12-31</th>\n",
              "      <td>1702</td>\n",
              "      <td>16.0</td>\n",
              "      <td>1702-01-01</td>\n",
              "    </tr>\n",
              "    <tr>\n",
              "      <th>1703-12-31</th>\n",
              "      <td>1703</td>\n",
              "      <td>23.0</td>\n",
              "      <td>1703-01-01</td>\n",
              "    </tr>\n",
              "    <tr>\n",
              "      <th>1704-12-31</th>\n",
              "      <td>1704</td>\n",
              "      <td>36.0</td>\n",
              "      <td>1704-01-01</td>\n",
              "    </tr>\n",
              "  </tbody>\n",
              "</table>\n",
              "</div>\n",
              "      <button class=\"colab-df-convert\" onclick=\"convertToInteractive('df-c1f123e1-1f18-4f91-bfda-319d44a676cc')\"\n",
              "              title=\"Convert this dataframe to an interactive table.\"\n",
              "              style=\"display:none;\">\n",
              "        \n",
              "  <svg xmlns=\"http://www.w3.org/2000/svg\" height=\"24px\"viewBox=\"0 0 24 24\"\n",
              "       width=\"24px\">\n",
              "    <path d=\"M0 0h24v24H0V0z\" fill=\"none\"/>\n",
              "    <path d=\"M18.56 5.44l.94 2.06.94-2.06 2.06-.94-2.06-.94-.94-2.06-.94 2.06-2.06.94zm-11 1L8.5 8.5l.94-2.06 2.06-.94-2.06-.94L8.5 2.5l-.94 2.06-2.06.94zm10 10l.94 2.06.94-2.06 2.06-.94-2.06-.94-.94-2.06-.94 2.06-2.06.94z\"/><path d=\"M17.41 7.96l-1.37-1.37c-.4-.4-.92-.59-1.43-.59-.52 0-1.04.2-1.43.59L10.3 9.45l-7.72 7.72c-.78.78-.78 2.05 0 2.83L4 21.41c.39.39.9.59 1.41.59.51 0 1.02-.2 1.41-.59l7.78-7.78 2.81-2.81c.8-.78.8-2.07 0-2.86zM5.41 20L4 18.59l7.72-7.72 1.47 1.35L5.41 20z\"/>\n",
              "  </svg>\n",
              "      </button>\n",
              "      \n",
              "  <style>\n",
              "    .colab-df-container {\n",
              "      display:flex;\n",
              "      flex-wrap:wrap;\n",
              "      gap: 12px;\n",
              "    }\n",
              "\n",
              "    .colab-df-convert {\n",
              "      background-color: #E8F0FE;\n",
              "      border: none;\n",
              "      border-radius: 50%;\n",
              "      cursor: pointer;\n",
              "      display: none;\n",
              "      fill: #1967D2;\n",
              "      height: 32px;\n",
              "      padding: 0 0 0 0;\n",
              "      width: 32px;\n",
              "    }\n",
              "\n",
              "    .colab-df-convert:hover {\n",
              "      background-color: #E2EBFA;\n",
              "      box-shadow: 0px 1px 2px rgba(60, 64, 67, 0.3), 0px 1px 3px 1px rgba(60, 64, 67, 0.15);\n",
              "      fill: #174EA6;\n",
              "    }\n",
              "\n",
              "    [theme=dark] .colab-df-convert {\n",
              "      background-color: #3B4455;\n",
              "      fill: #D2E3FC;\n",
              "    }\n",
              "\n",
              "    [theme=dark] .colab-df-convert:hover {\n",
              "      background-color: #434B5C;\n",
              "      box-shadow: 0px 1px 3px 1px rgba(0, 0, 0, 0.15);\n",
              "      filter: drop-shadow(0px 1px 2px rgba(0, 0, 0, 0.3));\n",
              "      fill: #FFFFFF;\n",
              "    }\n",
              "  </style>\n",
              "\n",
              "      <script>\n",
              "        const buttonEl =\n",
              "          document.querySelector('#df-c1f123e1-1f18-4f91-bfda-319d44a676cc button.colab-df-convert');\n",
              "        buttonEl.style.display =\n",
              "          google.colab.kernel.accessAllowed ? 'block' : 'none';\n",
              "\n",
              "        async function convertToInteractive(key) {\n",
              "          const element = document.querySelector('#df-c1f123e1-1f18-4f91-bfda-319d44a676cc');\n",
              "          const dataTable =\n",
              "            await google.colab.kernel.invokeFunction('convertToInteractive',\n",
              "                                                     [key], {});\n",
              "          if (!dataTable) return;\n",
              "\n",
              "          const docLinkHtml = 'Like what you see? Visit the ' +\n",
              "            '<a target=\"_blank\" href=https://colab.research.google.com/notebooks/data_table.ipynb>data table notebook</a>'\n",
              "            + ' to learn more about interactive tables.';\n",
              "          element.innerHTML = '';\n",
              "          dataTable['output_type'] = 'display_data';\n",
              "          await google.colab.output.renderOutput(dataTable, element);\n",
              "          const docLink = document.createElement('div');\n",
              "          docLink.innerHTML = docLinkHtml;\n",
              "          element.appendChild(docLink);\n",
              "        }\n",
              "      </script>\n",
              "    </div>\n",
              "  </div>\n",
              "  "
            ]
          },
          "metadata": {},
          "execution_count": 238
        }
      ]
    },
    {
      "cell_type": "code",
      "source": [
        "df.index=pd.Index(pd.date_range(\"1700\", end=\"2009\", freq=\"A-DEC\"))\n",
        "df.head()"
      ],
      "metadata": {
        "colab": {
          "base_uri": "https://localhost:8080/",
          "height": 206
        },
        "id": "tOeVOgVBcSkr",
        "outputId": "5c8f2b6d-aeb0-4b56-9b6f-41c1badbc35b"
      },
      "execution_count": 239,
      "outputs": [
        {
          "output_type": "execute_result",
          "data": {
            "text/plain": [
              "            YEAR  SUNACTIVITY        DATE\n",
              "1700-12-31  1700          5.0  1700-01-01\n",
              "1701-12-31  1701         11.0  1701-01-01\n",
              "1702-12-31  1702         16.0  1702-01-01\n",
              "1703-12-31  1703         23.0  1703-01-01\n",
              "1704-12-31  1704         36.0  1704-01-01"
            ],
            "text/html": [
              "\n",
              "  <div id=\"df-1f293aac-e00d-4739-9c6a-3e43add3de13\">\n",
              "    <div class=\"colab-df-container\">\n",
              "      <div>\n",
              "<style scoped>\n",
              "    .dataframe tbody tr th:only-of-type {\n",
              "        vertical-align: middle;\n",
              "    }\n",
              "\n",
              "    .dataframe tbody tr th {\n",
              "        vertical-align: top;\n",
              "    }\n",
              "\n",
              "    .dataframe thead th {\n",
              "        text-align: right;\n",
              "    }\n",
              "</style>\n",
              "<table border=\"1\" class=\"dataframe\">\n",
              "  <thead>\n",
              "    <tr style=\"text-align: right;\">\n",
              "      <th></th>\n",
              "      <th>YEAR</th>\n",
              "      <th>SUNACTIVITY</th>\n",
              "      <th>DATE</th>\n",
              "    </tr>\n",
              "  </thead>\n",
              "  <tbody>\n",
              "    <tr>\n",
              "      <th>1700-12-31</th>\n",
              "      <td>1700</td>\n",
              "      <td>5.0</td>\n",
              "      <td>1700-01-01</td>\n",
              "    </tr>\n",
              "    <tr>\n",
              "      <th>1701-12-31</th>\n",
              "      <td>1701</td>\n",
              "      <td>11.0</td>\n",
              "      <td>1701-01-01</td>\n",
              "    </tr>\n",
              "    <tr>\n",
              "      <th>1702-12-31</th>\n",
              "      <td>1702</td>\n",
              "      <td>16.0</td>\n",
              "      <td>1702-01-01</td>\n",
              "    </tr>\n",
              "    <tr>\n",
              "      <th>1703-12-31</th>\n",
              "      <td>1703</td>\n",
              "      <td>23.0</td>\n",
              "      <td>1703-01-01</td>\n",
              "    </tr>\n",
              "    <tr>\n",
              "      <th>1704-12-31</th>\n",
              "      <td>1704</td>\n",
              "      <td>36.0</td>\n",
              "      <td>1704-01-01</td>\n",
              "    </tr>\n",
              "  </tbody>\n",
              "</table>\n",
              "</div>\n",
              "      <button class=\"colab-df-convert\" onclick=\"convertToInteractive('df-1f293aac-e00d-4739-9c6a-3e43add3de13')\"\n",
              "              title=\"Convert this dataframe to an interactive table.\"\n",
              "              style=\"display:none;\">\n",
              "        \n",
              "  <svg xmlns=\"http://www.w3.org/2000/svg\" height=\"24px\"viewBox=\"0 0 24 24\"\n",
              "       width=\"24px\">\n",
              "    <path d=\"M0 0h24v24H0V0z\" fill=\"none\"/>\n",
              "    <path d=\"M18.56 5.44l.94 2.06.94-2.06 2.06-.94-2.06-.94-.94-2.06-.94 2.06-2.06.94zm-11 1L8.5 8.5l.94-2.06 2.06-.94-2.06-.94L8.5 2.5l-.94 2.06-2.06.94zm10 10l.94 2.06.94-2.06 2.06-.94-2.06-.94-.94-2.06-.94 2.06-2.06.94z\"/><path d=\"M17.41 7.96l-1.37-1.37c-.4-.4-.92-.59-1.43-.59-.52 0-1.04.2-1.43.59L10.3 9.45l-7.72 7.72c-.78.78-.78 2.05 0 2.83L4 21.41c.39.39.9.59 1.41.59.51 0 1.02-.2 1.41-.59l7.78-7.78 2.81-2.81c.8-.78.8-2.07 0-2.86zM5.41 20L4 18.59l7.72-7.72 1.47 1.35L5.41 20z\"/>\n",
              "  </svg>\n",
              "      </button>\n",
              "      \n",
              "  <style>\n",
              "    .colab-df-container {\n",
              "      display:flex;\n",
              "      flex-wrap:wrap;\n",
              "      gap: 12px;\n",
              "    }\n",
              "\n",
              "    .colab-df-convert {\n",
              "      background-color: #E8F0FE;\n",
              "      border: none;\n",
              "      border-radius: 50%;\n",
              "      cursor: pointer;\n",
              "      display: none;\n",
              "      fill: #1967D2;\n",
              "      height: 32px;\n",
              "      padding: 0 0 0 0;\n",
              "      width: 32px;\n",
              "    }\n",
              "\n",
              "    .colab-df-convert:hover {\n",
              "      background-color: #E2EBFA;\n",
              "      box-shadow: 0px 1px 2px rgba(60, 64, 67, 0.3), 0px 1px 3px 1px rgba(60, 64, 67, 0.15);\n",
              "      fill: #174EA6;\n",
              "    }\n",
              "\n",
              "    [theme=dark] .colab-df-convert {\n",
              "      background-color: #3B4455;\n",
              "      fill: #D2E3FC;\n",
              "    }\n",
              "\n",
              "    [theme=dark] .colab-df-convert:hover {\n",
              "      background-color: #434B5C;\n",
              "      box-shadow: 0px 1px 3px 1px rgba(0, 0, 0, 0.15);\n",
              "      filter: drop-shadow(0px 1px 2px rgba(0, 0, 0, 0.3));\n",
              "      fill: #FFFFFF;\n",
              "    }\n",
              "  </style>\n",
              "\n",
              "      <script>\n",
              "        const buttonEl =\n",
              "          document.querySelector('#df-1f293aac-e00d-4739-9c6a-3e43add3de13 button.colab-df-convert');\n",
              "        buttonEl.style.display =\n",
              "          google.colab.kernel.accessAllowed ? 'block' : 'none';\n",
              "\n",
              "        async function convertToInteractive(key) {\n",
              "          const element = document.querySelector('#df-1f293aac-e00d-4739-9c6a-3e43add3de13');\n",
              "          const dataTable =\n",
              "            await google.colab.kernel.invokeFunction('convertToInteractive',\n",
              "                                                     [key], {});\n",
              "          if (!dataTable) return;\n",
              "\n",
              "          const docLinkHtml = 'Like what you see? Visit the ' +\n",
              "            '<a target=\"_blank\" href=https://colab.research.google.com/notebooks/data_table.ipynb>data table notebook</a>'\n",
              "            + ' to learn more about interactive tables.';\n",
              "          element.innerHTML = '';\n",
              "          dataTable['output_type'] = 'display_data';\n",
              "          await google.colab.output.renderOutput(dataTable, element);\n",
              "          const docLink = document.createElement('div');\n",
              "          docLink.innerHTML = docLinkHtml;\n",
              "          element.appendChild(docLink);\n",
              "        }\n",
              "      </script>\n",
              "    </div>\n",
              "  </div>\n",
              "  "
            ]
          },
          "metadata": {},
          "execution_count": 239
        }
      ]
    },
    {
      "cell_type": "markdown",
      "source": [
        "### Вывод по этапу. Т.к. датасете не  было пропущенных  данных,  дублирующих  значений и  данных  типа object или str не применялись методы обработки данных. Нормализация данных  включала  только  подготовку атрибута дата для анализа сезонной состовляющей \n"
      ],
      "metadata": {
        "id": "q8gTgMtTVpYE"
      }
    },
    {
      "cell_type": "markdown",
      "source": [
        "## EDA или разведочный анализ данных."
      ],
      "metadata": {
        "id": "ychutOlHtcz_"
      }
    },
    {
      "cell_type": "code",
      "source": [
        "df.describe()"
      ],
      "metadata": {
        "colab": {
          "base_uri": "https://localhost:8080/",
          "height": 300
        },
        "id": "uDFKt1KdOy3D",
        "outputId": "3079ff6c-2eb1-49c9-fe78-bd8bb4463986"
      },
      "execution_count": 240,
      "outputs": [
        {
          "output_type": "execute_result",
          "data": {
            "text/plain": [
              "              YEAR  SUNACTIVITY\n",
              "count   309.000000   309.000000\n",
              "mean   1854.000000    49.752104\n",
              "std      89.344838    40.452595\n",
              "min    1700.000000     0.000000\n",
              "25%    1777.000000    16.000000\n",
              "50%    1854.000000    40.000000\n",
              "75%    1931.000000    69.800000\n",
              "max    2008.000000   190.200000"
            ],
            "text/html": [
              "\n",
              "  <div id=\"df-2331a736-a6b9-4e63-bde4-ddab6c8d8646\">\n",
              "    <div class=\"colab-df-container\">\n",
              "      <div>\n",
              "<style scoped>\n",
              "    .dataframe tbody tr th:only-of-type {\n",
              "        vertical-align: middle;\n",
              "    }\n",
              "\n",
              "    .dataframe tbody tr th {\n",
              "        vertical-align: top;\n",
              "    }\n",
              "\n",
              "    .dataframe thead th {\n",
              "        text-align: right;\n",
              "    }\n",
              "</style>\n",
              "<table border=\"1\" class=\"dataframe\">\n",
              "  <thead>\n",
              "    <tr style=\"text-align: right;\">\n",
              "      <th></th>\n",
              "      <th>YEAR</th>\n",
              "      <th>SUNACTIVITY</th>\n",
              "    </tr>\n",
              "  </thead>\n",
              "  <tbody>\n",
              "    <tr>\n",
              "      <th>count</th>\n",
              "      <td>309.000000</td>\n",
              "      <td>309.000000</td>\n",
              "    </tr>\n",
              "    <tr>\n",
              "      <th>mean</th>\n",
              "      <td>1854.000000</td>\n",
              "      <td>49.752104</td>\n",
              "    </tr>\n",
              "    <tr>\n",
              "      <th>std</th>\n",
              "      <td>89.344838</td>\n",
              "      <td>40.452595</td>\n",
              "    </tr>\n",
              "    <tr>\n",
              "      <th>min</th>\n",
              "      <td>1700.000000</td>\n",
              "      <td>0.000000</td>\n",
              "    </tr>\n",
              "    <tr>\n",
              "      <th>25%</th>\n",
              "      <td>1777.000000</td>\n",
              "      <td>16.000000</td>\n",
              "    </tr>\n",
              "    <tr>\n",
              "      <th>50%</th>\n",
              "      <td>1854.000000</td>\n",
              "      <td>40.000000</td>\n",
              "    </tr>\n",
              "    <tr>\n",
              "      <th>75%</th>\n",
              "      <td>1931.000000</td>\n",
              "      <td>69.800000</td>\n",
              "    </tr>\n",
              "    <tr>\n",
              "      <th>max</th>\n",
              "      <td>2008.000000</td>\n",
              "      <td>190.200000</td>\n",
              "    </tr>\n",
              "  </tbody>\n",
              "</table>\n",
              "</div>\n",
              "      <button class=\"colab-df-convert\" onclick=\"convertToInteractive('df-2331a736-a6b9-4e63-bde4-ddab6c8d8646')\"\n",
              "              title=\"Convert this dataframe to an interactive table.\"\n",
              "              style=\"display:none;\">\n",
              "        \n",
              "  <svg xmlns=\"http://www.w3.org/2000/svg\" height=\"24px\"viewBox=\"0 0 24 24\"\n",
              "       width=\"24px\">\n",
              "    <path d=\"M0 0h24v24H0V0z\" fill=\"none\"/>\n",
              "    <path d=\"M18.56 5.44l.94 2.06.94-2.06 2.06-.94-2.06-.94-.94-2.06-.94 2.06-2.06.94zm-11 1L8.5 8.5l.94-2.06 2.06-.94-2.06-.94L8.5 2.5l-.94 2.06-2.06.94zm10 10l.94 2.06.94-2.06 2.06-.94-2.06-.94-.94-2.06-.94 2.06-2.06.94z\"/><path d=\"M17.41 7.96l-1.37-1.37c-.4-.4-.92-.59-1.43-.59-.52 0-1.04.2-1.43.59L10.3 9.45l-7.72 7.72c-.78.78-.78 2.05 0 2.83L4 21.41c.39.39.9.59 1.41.59.51 0 1.02-.2 1.41-.59l7.78-7.78 2.81-2.81c.8-.78.8-2.07 0-2.86zM5.41 20L4 18.59l7.72-7.72 1.47 1.35L5.41 20z\"/>\n",
              "  </svg>\n",
              "      </button>\n",
              "      \n",
              "  <style>\n",
              "    .colab-df-container {\n",
              "      display:flex;\n",
              "      flex-wrap:wrap;\n",
              "      gap: 12px;\n",
              "    }\n",
              "\n",
              "    .colab-df-convert {\n",
              "      background-color: #E8F0FE;\n",
              "      border: none;\n",
              "      border-radius: 50%;\n",
              "      cursor: pointer;\n",
              "      display: none;\n",
              "      fill: #1967D2;\n",
              "      height: 32px;\n",
              "      padding: 0 0 0 0;\n",
              "      width: 32px;\n",
              "    }\n",
              "\n",
              "    .colab-df-convert:hover {\n",
              "      background-color: #E2EBFA;\n",
              "      box-shadow: 0px 1px 2px rgba(60, 64, 67, 0.3), 0px 1px 3px 1px rgba(60, 64, 67, 0.15);\n",
              "      fill: #174EA6;\n",
              "    }\n",
              "\n",
              "    [theme=dark] .colab-df-convert {\n",
              "      background-color: #3B4455;\n",
              "      fill: #D2E3FC;\n",
              "    }\n",
              "\n",
              "    [theme=dark] .colab-df-convert:hover {\n",
              "      background-color: #434B5C;\n",
              "      box-shadow: 0px 1px 3px 1px rgba(0, 0, 0, 0.15);\n",
              "      filter: drop-shadow(0px 1px 2px rgba(0, 0, 0, 0.3));\n",
              "      fill: #FFFFFF;\n",
              "    }\n",
              "  </style>\n",
              "\n",
              "      <script>\n",
              "        const buttonEl =\n",
              "          document.querySelector('#df-2331a736-a6b9-4e63-bde4-ddab6c8d8646 button.colab-df-convert');\n",
              "        buttonEl.style.display =\n",
              "          google.colab.kernel.accessAllowed ? 'block' : 'none';\n",
              "\n",
              "        async function convertToInteractive(key) {\n",
              "          const element = document.querySelector('#df-2331a736-a6b9-4e63-bde4-ddab6c8d8646');\n",
              "          const dataTable =\n",
              "            await google.colab.kernel.invokeFunction('convertToInteractive',\n",
              "                                                     [key], {});\n",
              "          if (!dataTable) return;\n",
              "\n",
              "          const docLinkHtml = 'Like what you see? Visit the ' +\n",
              "            '<a target=\"_blank\" href=https://colab.research.google.com/notebooks/data_table.ipynb>data table notebook</a>'\n",
              "            + ' to learn more about interactive tables.';\n",
              "          element.innerHTML = '';\n",
              "          dataTable['output_type'] = 'display_data';\n",
              "          await google.colab.output.renderOutput(dataTable, element);\n",
              "          const docLink = document.createElement('div');\n",
              "          docLink.innerHTML = docLinkHtml;\n",
              "          element.appendChild(docLink);\n",
              "        }\n",
              "      </script>\n",
              "    </div>\n",
              "  </div>\n",
              "  "
            ]
          },
          "metadata": {},
          "execution_count": 240
        }
      ]
    },
    {
      "cell_type": "code",
      "source": [
        "import plotly.express as px\n",
        "fig=px.line(df, x='YEAR', y='SUNACTIVITY', title=\"Количество солнечных  пятен по годам\" )\n",
        "fig.show()\n"
      ],
      "metadata": {
        "colab": {
          "base_uri": "https://localhost:8080/",
          "height": 542
        },
        "id": "g_IGCJ0wUIBs",
        "outputId": "8ecfc6c1-7103-4fd9-d4b8-911c7c029306"
      },
      "execution_count": 36,
      "outputs": [
        {
          "output_type": "display_data",
          "data": {
            "text/html": [
              "<html>\n",
              "<head><meta charset=\"utf-8\" /></head>\n",
              "<body>\n",
              "    <div>            <script src=\"https://cdnjs.cloudflare.com/ajax/libs/mathjax/2.7.5/MathJax.js?config=TeX-AMS-MML_SVG\"></script><script type=\"text/javascript\">if (window.MathJax) {MathJax.Hub.Config({SVG: {font: \"STIX-Web\"}});}</script>                <script type=\"text/javascript\">window.PlotlyConfig = {MathJaxConfig: 'local'};</script>\n",
              "        <script src=\"https://cdn.plot.ly/plotly-2.8.3.min.js\"></script>                <div id=\"cb4ccc88-9f2c-47cd-81ea-2d209b0612ee\" class=\"plotly-graph-div\" style=\"height:525px; width:100%;\"></div>            <script type=\"text/javascript\">                                    window.PLOTLYENV=window.PLOTLYENV || {};                                    if (document.getElementById(\"cb4ccc88-9f2c-47cd-81ea-2d209b0612ee\")) {                    Plotly.newPlot(                        \"cb4ccc88-9f2c-47cd-81ea-2d209b0612ee\",                        [{\"hovertemplate\":\"YEAR=%{x}<br>SUNACTIVITY=%{y}<extra></extra>\",\"legendgroup\":\"\",\"line\":{\"color\":\"#636efa\",\"dash\":\"solid\"},\"marker\":{\"symbol\":\"circle\"},\"mode\":\"lines\",\"name\":\"\",\"orientation\":\"v\",\"showlegend\":false,\"x\":[1700,1701,1702,1703,1704,1705,1706,1707,1708,1709,1710,1711,1712,1713,1714,1715,1716,1717,1718,1719,1720,1721,1722,1723,1724,1725,1726,1727,1728,1729,1730,1731,1732,1733,1734,1735,1736,1737,1738,1739,1740,1741,1742,1743,1744,1745,1746,1747,1748,1749,1750,1751,1752,1753,1754,1755,1756,1757,1758,1759,1760,1761,1762,1763,1764,1765,1766,1767,1768,1769,1770,1771,1772,1773,1774,1775,1776,1777,1778,1779,1780,1781,1782,1783,1784,1785,1786,1787,1788,1789,1790,1791,1792,1793,1794,1795,1796,1797,1798,1799,1800,1801,1802,1803,1804,1805,1806,1807,1808,1809,1810,1811,1812,1813,1814,1815,1816,1817,1818,1819,1820,1821,1822,1823,1824,1825,1826,1827,1828,1829,1830,1831,1832,1833,1834,1835,1836,1837,1838,1839,1840,1841,1842,1843,1844,1845,1846,1847,1848,1849,1850,1851,1852,1853,1854,1855,1856,1857,1858,1859,1860,1861,1862,1863,1864,1865,1866,1867,1868,1869,1870,1871,1872,1873,1874,1875,1876,1877,1878,1879,1880,1881,1882,1883,1884,1885,1886,1887,1888,1889,1890,1891,1892,1893,1894,1895,1896,1897,1898,1899,1900,1901,1902,1903,1904,1905,1906,1907,1908,1909,1910,1911,1912,1913,1914,1915,1916,1917,1918,1919,1920,1921,1922,1923,1924,1925,1926,1927,1928,1929,1930,1931,1932,1933,1934,1935,1936,1937,1938,1939,1940,1941,1942,1943,1944,1945,1946,1947,1948,1949,1950,1951,1952,1953,1954,1955,1956,1957,1958,1959,1960,1961,1962,1963,1964,1965,1966,1967,1968,1969,1970,1971,1972,1973,1974,1975,1976,1977,1978,1979,1980,1981,1982,1983,1984,1985,1986,1987,1988,1989,1990,1991,1992,1993,1994,1995,1996,1997,1998,1999,2000,2001,2002,2003,2004,2005,2006,2007,2008],\"xaxis\":\"x\",\"y\":[5.0,11.0,16.0,23.0,36.0,58.0,29.0,20.0,10.0,8.0,3.0,0.0,0.0,2.0,11.0,27.0,47.0,63.0,60.0,39.0,28.0,26.0,22.0,11.0,21.0,40.0,78.0,122.0,103.0,73.0,47.0,35.0,11.0,5.0,16.0,34.0,70.0,81.0,111.0,101.0,73.0,40.0,20.0,16.0,5.0,11.0,22.0,40.0,60.0,80.9,83.4,47.7,47.8,30.7,12.2,9.6,10.2,32.4,47.6,54.0,62.9,85.9,61.2,45.1,36.4,20.9,11.4,37.8,69.8,106.1,100.8,81.6,66.5,34.8,30.6,7.0,19.8,92.5,154.4,125.9,84.8,68.1,38.5,22.8,10.2,24.1,82.9,132.0,130.9,118.1,89.9,66.6,60.0,46.9,41.0,21.3,16.0,6.4,4.1,6.8,14.5,34.0,45.0,43.1,47.5,42.2,28.1,10.1,8.1,2.5,0.0,1.4,5.0,12.2,13.9,35.4,45.8,41.1,30.1,23.9,15.6,6.6,4.0,1.8,8.5,16.6,36.3,49.6,64.2,67.0,70.9,47.8,27.5,8.5,13.2,56.9,121.5,138.3,103.2,85.7,64.6,36.7,24.2,10.7,15.0,40.1,61.5,98.5,124.7,96.3,66.6,64.5,54.1,39.0,20.6,6.7,4.3,22.7,54.8,93.8,95.8,77.2,59.1,44.0,47.0,30.5,16.3,7.3,37.6,74.0,139.0,111.2,101.6,66.2,44.7,17.0,11.3,12.4,3.4,6.0,32.3,54.3,59.7,63.7,63.5,52.2,25.4,13.1,6.8,6.3,7.1,35.6,73.0,85.1,78.0,64.0,41.8,26.2,26.7,12.1,9.5,2.7,5.0,24.4,42.0,63.5,53.8,62.0,48.5,43.9,18.6,5.7,3.6,1.4,9.6,47.4,57.1,103.9,80.6,63.6,37.6,26.1,14.2,5.8,16.7,44.3,63.9,69.0,77.8,64.9,35.7,21.2,11.1,5.7,8.7,36.1,79.7,114.4,109.6,88.8,67.8,47.5,30.6,16.3,9.6,33.2,92.6,151.6,136.3,134.7,83.9,69.4,31.5,13.9,4.4,38.0,141.7,190.2,184.8,159.0,112.3,53.9,37.6,27.9,10.2,15.1,47.0,93.8,105.9,105.5,104.5,66.6,68.9,38.0,34.5,15.5,12.6,27.5,92.5,155.4,154.6,140.4,115.9,66.6,45.9,17.9,13.4,29.4,100.2,157.6,142.6,145.7,94.3,54.6,29.9,17.5,8.6,21.5,64.3,93.3,119.6,111.0,104.0,63.7,40.4,29.8,15.2,7.5,2.9],\"yaxis\":\"y\",\"type\":\"scatter\"}],                        {\"template\":{\"data\":{\"bar\":[{\"error_x\":{\"color\":\"#2a3f5f\"},\"error_y\":{\"color\":\"#2a3f5f\"},\"marker\":{\"line\":{\"color\":\"#E5ECF6\",\"width\":0.5},\"pattern\":{\"fillmode\":\"overlay\",\"size\":10,\"solidity\":0.2}},\"type\":\"bar\"}],\"barpolar\":[{\"marker\":{\"line\":{\"color\":\"#E5ECF6\",\"width\":0.5},\"pattern\":{\"fillmode\":\"overlay\",\"size\":10,\"solidity\":0.2}},\"type\":\"barpolar\"}],\"carpet\":[{\"aaxis\":{\"endlinecolor\":\"#2a3f5f\",\"gridcolor\":\"white\",\"linecolor\":\"white\",\"minorgridcolor\":\"white\",\"startlinecolor\":\"#2a3f5f\"},\"baxis\":{\"endlinecolor\":\"#2a3f5f\",\"gridcolor\":\"white\",\"linecolor\":\"white\",\"minorgridcolor\":\"white\",\"startlinecolor\":\"#2a3f5f\"},\"type\":\"carpet\"}],\"choropleth\":[{\"colorbar\":{\"outlinewidth\":0,\"ticks\":\"\"},\"type\":\"choropleth\"}],\"contour\":[{\"colorbar\":{\"outlinewidth\":0,\"ticks\":\"\"},\"colorscale\":[[0.0,\"#0d0887\"],[0.1111111111111111,\"#46039f\"],[0.2222222222222222,\"#7201a8\"],[0.3333333333333333,\"#9c179e\"],[0.4444444444444444,\"#bd3786\"],[0.5555555555555556,\"#d8576b\"],[0.6666666666666666,\"#ed7953\"],[0.7777777777777778,\"#fb9f3a\"],[0.8888888888888888,\"#fdca26\"],[1.0,\"#f0f921\"]],\"type\":\"contour\"}],\"contourcarpet\":[{\"colorbar\":{\"outlinewidth\":0,\"ticks\":\"\"},\"type\":\"contourcarpet\"}],\"heatmap\":[{\"colorbar\":{\"outlinewidth\":0,\"ticks\":\"\"},\"colorscale\":[[0.0,\"#0d0887\"],[0.1111111111111111,\"#46039f\"],[0.2222222222222222,\"#7201a8\"],[0.3333333333333333,\"#9c179e\"],[0.4444444444444444,\"#bd3786\"],[0.5555555555555556,\"#d8576b\"],[0.6666666666666666,\"#ed7953\"],[0.7777777777777778,\"#fb9f3a\"],[0.8888888888888888,\"#fdca26\"],[1.0,\"#f0f921\"]],\"type\":\"heatmap\"}],\"heatmapgl\":[{\"colorbar\":{\"outlinewidth\":0,\"ticks\":\"\"},\"colorscale\":[[0.0,\"#0d0887\"],[0.1111111111111111,\"#46039f\"],[0.2222222222222222,\"#7201a8\"],[0.3333333333333333,\"#9c179e\"],[0.4444444444444444,\"#bd3786\"],[0.5555555555555556,\"#d8576b\"],[0.6666666666666666,\"#ed7953\"],[0.7777777777777778,\"#fb9f3a\"],[0.8888888888888888,\"#fdca26\"],[1.0,\"#f0f921\"]],\"type\":\"heatmapgl\"}],\"histogram\":[{\"marker\":{\"pattern\":{\"fillmode\":\"overlay\",\"size\":10,\"solidity\":0.2}},\"type\":\"histogram\"}],\"histogram2d\":[{\"colorbar\":{\"outlinewidth\":0,\"ticks\":\"\"},\"colorscale\":[[0.0,\"#0d0887\"],[0.1111111111111111,\"#46039f\"],[0.2222222222222222,\"#7201a8\"],[0.3333333333333333,\"#9c179e\"],[0.4444444444444444,\"#bd3786\"],[0.5555555555555556,\"#d8576b\"],[0.6666666666666666,\"#ed7953\"],[0.7777777777777778,\"#fb9f3a\"],[0.8888888888888888,\"#fdca26\"],[1.0,\"#f0f921\"]],\"type\":\"histogram2d\"}],\"histogram2dcontour\":[{\"colorbar\":{\"outlinewidth\":0,\"ticks\":\"\"},\"colorscale\":[[0.0,\"#0d0887\"],[0.1111111111111111,\"#46039f\"],[0.2222222222222222,\"#7201a8\"],[0.3333333333333333,\"#9c179e\"],[0.4444444444444444,\"#bd3786\"],[0.5555555555555556,\"#d8576b\"],[0.6666666666666666,\"#ed7953\"],[0.7777777777777778,\"#fb9f3a\"],[0.8888888888888888,\"#fdca26\"],[1.0,\"#f0f921\"]],\"type\":\"histogram2dcontour\"}],\"mesh3d\":[{\"colorbar\":{\"outlinewidth\":0,\"ticks\":\"\"},\"type\":\"mesh3d\"}],\"parcoords\":[{\"line\":{\"colorbar\":{\"outlinewidth\":0,\"ticks\":\"\"}},\"type\":\"parcoords\"}],\"pie\":[{\"automargin\":true,\"type\":\"pie\"}],\"scatter\":[{\"marker\":{\"colorbar\":{\"outlinewidth\":0,\"ticks\":\"\"}},\"type\":\"scatter\"}],\"scatter3d\":[{\"line\":{\"colorbar\":{\"outlinewidth\":0,\"ticks\":\"\"}},\"marker\":{\"colorbar\":{\"outlinewidth\":0,\"ticks\":\"\"}},\"type\":\"scatter3d\"}],\"scattercarpet\":[{\"marker\":{\"colorbar\":{\"outlinewidth\":0,\"ticks\":\"\"}},\"type\":\"scattercarpet\"}],\"scattergeo\":[{\"marker\":{\"colorbar\":{\"outlinewidth\":0,\"ticks\":\"\"}},\"type\":\"scattergeo\"}],\"scattergl\":[{\"marker\":{\"colorbar\":{\"outlinewidth\":0,\"ticks\":\"\"}},\"type\":\"scattergl\"}],\"scattermapbox\":[{\"marker\":{\"colorbar\":{\"outlinewidth\":0,\"ticks\":\"\"}},\"type\":\"scattermapbox\"}],\"scatterpolar\":[{\"marker\":{\"colorbar\":{\"outlinewidth\":0,\"ticks\":\"\"}},\"type\":\"scatterpolar\"}],\"scatterpolargl\":[{\"marker\":{\"colorbar\":{\"outlinewidth\":0,\"ticks\":\"\"}},\"type\":\"scatterpolargl\"}],\"scatterternary\":[{\"marker\":{\"colorbar\":{\"outlinewidth\":0,\"ticks\":\"\"}},\"type\":\"scatterternary\"}],\"surface\":[{\"colorbar\":{\"outlinewidth\":0,\"ticks\":\"\"},\"colorscale\":[[0.0,\"#0d0887\"],[0.1111111111111111,\"#46039f\"],[0.2222222222222222,\"#7201a8\"],[0.3333333333333333,\"#9c179e\"],[0.4444444444444444,\"#bd3786\"],[0.5555555555555556,\"#d8576b\"],[0.6666666666666666,\"#ed7953\"],[0.7777777777777778,\"#fb9f3a\"],[0.8888888888888888,\"#fdca26\"],[1.0,\"#f0f921\"]],\"type\":\"surface\"}],\"table\":[{\"cells\":{\"fill\":{\"color\":\"#EBF0F8\"},\"line\":{\"color\":\"white\"}},\"header\":{\"fill\":{\"color\":\"#C8D4E3\"},\"line\":{\"color\":\"white\"}},\"type\":\"table\"}]},\"layout\":{\"annotationdefaults\":{\"arrowcolor\":\"#2a3f5f\",\"arrowhead\":0,\"arrowwidth\":1},\"autotypenumbers\":\"strict\",\"coloraxis\":{\"colorbar\":{\"outlinewidth\":0,\"ticks\":\"\"}},\"colorscale\":{\"diverging\":[[0,\"#8e0152\"],[0.1,\"#c51b7d\"],[0.2,\"#de77ae\"],[0.3,\"#f1b6da\"],[0.4,\"#fde0ef\"],[0.5,\"#f7f7f7\"],[0.6,\"#e6f5d0\"],[0.7,\"#b8e186\"],[0.8,\"#7fbc41\"],[0.9,\"#4d9221\"],[1,\"#276419\"]],\"sequential\":[[0.0,\"#0d0887\"],[0.1111111111111111,\"#46039f\"],[0.2222222222222222,\"#7201a8\"],[0.3333333333333333,\"#9c179e\"],[0.4444444444444444,\"#bd3786\"],[0.5555555555555556,\"#d8576b\"],[0.6666666666666666,\"#ed7953\"],[0.7777777777777778,\"#fb9f3a\"],[0.8888888888888888,\"#fdca26\"],[1.0,\"#f0f921\"]],\"sequentialminus\":[[0.0,\"#0d0887\"],[0.1111111111111111,\"#46039f\"],[0.2222222222222222,\"#7201a8\"],[0.3333333333333333,\"#9c179e\"],[0.4444444444444444,\"#bd3786\"],[0.5555555555555556,\"#d8576b\"],[0.6666666666666666,\"#ed7953\"],[0.7777777777777778,\"#fb9f3a\"],[0.8888888888888888,\"#fdca26\"],[1.0,\"#f0f921\"]]},\"colorway\":[\"#636efa\",\"#EF553B\",\"#00cc96\",\"#ab63fa\",\"#FFA15A\",\"#19d3f3\",\"#FF6692\",\"#B6E880\",\"#FF97FF\",\"#FECB52\"],\"font\":{\"color\":\"#2a3f5f\"},\"geo\":{\"bgcolor\":\"white\",\"lakecolor\":\"white\",\"landcolor\":\"#E5ECF6\",\"showlakes\":true,\"showland\":true,\"subunitcolor\":\"white\"},\"hoverlabel\":{\"align\":\"left\"},\"hovermode\":\"closest\",\"mapbox\":{\"style\":\"light\"},\"paper_bgcolor\":\"white\",\"plot_bgcolor\":\"#E5ECF6\",\"polar\":{\"angularaxis\":{\"gridcolor\":\"white\",\"linecolor\":\"white\",\"ticks\":\"\"},\"bgcolor\":\"#E5ECF6\",\"radialaxis\":{\"gridcolor\":\"white\",\"linecolor\":\"white\",\"ticks\":\"\"}},\"scene\":{\"xaxis\":{\"backgroundcolor\":\"#E5ECF6\",\"gridcolor\":\"white\",\"gridwidth\":2,\"linecolor\":\"white\",\"showbackground\":true,\"ticks\":\"\",\"zerolinecolor\":\"white\"},\"yaxis\":{\"backgroundcolor\":\"#E5ECF6\",\"gridcolor\":\"white\",\"gridwidth\":2,\"linecolor\":\"white\",\"showbackground\":true,\"ticks\":\"\",\"zerolinecolor\":\"white\"},\"zaxis\":{\"backgroundcolor\":\"#E5ECF6\",\"gridcolor\":\"white\",\"gridwidth\":2,\"linecolor\":\"white\",\"showbackground\":true,\"ticks\":\"\",\"zerolinecolor\":\"white\"}},\"shapedefaults\":{\"line\":{\"color\":\"#2a3f5f\"}},\"ternary\":{\"aaxis\":{\"gridcolor\":\"white\",\"linecolor\":\"white\",\"ticks\":\"\"},\"baxis\":{\"gridcolor\":\"white\",\"linecolor\":\"white\",\"ticks\":\"\"},\"bgcolor\":\"#E5ECF6\",\"caxis\":{\"gridcolor\":\"white\",\"linecolor\":\"white\",\"ticks\":\"\"}},\"title\":{\"x\":0.05},\"xaxis\":{\"automargin\":true,\"gridcolor\":\"white\",\"linecolor\":\"white\",\"ticks\":\"\",\"title\":{\"standoff\":15},\"zerolinecolor\":\"white\",\"zerolinewidth\":2},\"yaxis\":{\"automargin\":true,\"gridcolor\":\"white\",\"linecolor\":\"white\",\"ticks\":\"\",\"title\":{\"standoff\":15},\"zerolinecolor\":\"white\",\"zerolinewidth\":2}}},\"xaxis\":{\"anchor\":\"y\",\"domain\":[0.0,1.0],\"title\":{\"text\":\"YEAR\"}},\"yaxis\":{\"anchor\":\"x\",\"domain\":[0.0,1.0],\"title\":{\"text\":\"SUNACTIVITY\"}},\"legend\":{\"tracegroupgap\":0},\"title\":{\"text\":\"\\u041a\\u043e\\u043b\\u0438\\u0447\\u0435\\u0441\\u0442\\u0432\\u043e \\u0441\\u043e\\u043b\\u043d\\u0435\\u0447\\u043d\\u044b\\u0445  \\u043f\\u044f\\u0442\\u0435\\u043d \\u043f\\u043e \\u0433\\u043e\\u0434\\u0430\\u043c\"}},                        {\"responsive\": true}                    ).then(function(){\n",
              "                            \n",
              "var gd = document.getElementById('cb4ccc88-9f2c-47cd-81ea-2d209b0612ee');\n",
              "var x = new MutationObserver(function (mutations, observer) {{\n",
              "        var display = window.getComputedStyle(gd).display;\n",
              "        if (!display || display === 'none') {{\n",
              "            console.log([gd, 'removed!']);\n",
              "            Plotly.purge(gd);\n",
              "            observer.disconnect();\n",
              "        }}\n",
              "}});\n",
              "\n",
              "// Listen for the removal of the full notebook cells\n",
              "var notebookContainer = gd.closest('#notebook-container');\n",
              "if (notebookContainer) {{\n",
              "    x.observe(notebookContainer, {childList: true});\n",
              "}}\n",
              "\n",
              "// Listen for the clearing of the current output cell\n",
              "var outputEl = gd.closest('.output');\n",
              "if (outputEl) {{\n",
              "    x.observe(outputEl, {childList: true});\n",
              "}}\n",
              "\n",
              "                        })                };                            </script>        </div>\n",
              "</body>\n",
              "</html>"
            ]
          },
          "metadata": {}
        }
      ]
    },
    {
      "cell_type": "markdown",
      "source": [
        "ETS декомпозиция"
      ],
      "metadata": {
        "id": "YkW57UocKZwP"
      }
    },
    {
      "cell_type": "code",
      "source": [
        "decomposition=sm.tsa.seasonal_decompose(df['SUNACTIVITY'], model='additive')\n",
        "result=seasonal_decompose(df['SUNACTIVITY'], model='add')\n",
        "result.plot()"
      ],
      "metadata": {
        "colab": {
          "base_uri": "https://localhost:8080/",
          "height": 577
        },
        "id": "gHP3R4GjKdkr",
        "outputId": "782abe37-8402-42b3-f4bd-5568036ee8b5"
      },
      "execution_count": 37,
      "outputs": [
        {
          "output_type": "execute_result",
          "data": {
            "text/plain": [
              "<Figure size 432x288 with 4 Axes>"
            ],
            "image/png": "[encoded data removed]"
          },
          "metadata": {},
          "execution_count": 37
        },
        {
          "output_type": "display_data",
          "data": {
            "text/plain": [
              "<Figure size 432x288 with 4 Axes>"
            ],
            "image/png": "[encoded data removed]"
          },
          "metadata": {
            "needs_background": "light"
          }
        }
      ]
    },
    {
      "cell_type": "markdown",
      "source": [
        "**Построение моделей, анализ результатов.**"
      ],
      "metadata": {
        "id": "YSkFYlhHL8QJ"
      }
    },
    {
      "cell_type": "markdown",
      "source": [
        "Модель ARIMA.\n",
        "\n",
        "Наиболее популярная модель для прогноза временных рядов -ARIMA \n",
        "Описание  модели :ARIMA описывает корреляцию между точками данных и учитывает разницу значений.\n",
        "ARIMA использует три основных параметра (p, d, q).Эти три параметра учитывают сезонность, тенденцию и шум в наборах данных.\n",
        "AR (авторегрессия)-p, I (разность) -d и MA (скользящая средняя)-q.\n",
        "При построении модели будем использовать Auto ARIMA для  определения значения p и q. "
      ],
      "metadata": {
        "id": "E20SG8KzO27h"
      }
    },
    {
      "cell_type": "markdown",
      "source": [
        "1.Делим данные на обучающую и проверочную выборки"
      ],
      "metadata": {
        "id": "UP6xCpAdps3E"
      }
    },
    {
      "cell_type": "code",
      "source": [
        "train_arima= df.iloc[:-15]\n",
        "test_arima=df.iloc[-15:]  \n",
        "train_arima.shape\n",
        "\n"
      ],
      "metadata": {
        "colab": {
          "base_uri": "https://localhost:8080/"
        },
        "id": "ZOgg4cRqp1AB",
        "outputId": "84693d87-4507-4d24-ea7b-d584cb26a17a"
      },
      "execution_count": 241,
      "outputs": [
        {
          "output_type": "execute_result",
          "data": {
            "text/plain": [
              "(294, 3)"
            ]
          },
          "metadata": {},
          "execution_count": 241
        }
      ]
    },
    {
      "cell_type": "markdown",
      "source": [
        "строим график наших данных"
      ],
      "metadata": {
        "id": "9osr3GOwqSFF"
      }
    },
    {
      "cell_type": "code",
      "source": [
        "train_arima['SUNACTIVITY'].plot()\n",
        "test_arima['SUNACTIVITY'].plot()"
      ],
      "metadata": {
        "colab": {
          "base_uri": "https://localhost:8080/",
          "height": 282
        },
        "id": "JEHR1ksBqMR8",
        "outputId": "799a437e-097f-4a33-d2f6-a6cec8e0c2fd"
      },
      "execution_count": 242,
      "outputs": [
        {
          "output_type": "execute_result",
          "data": {
            "text/plain": [
              "<matplotlib.axes._subplots.AxesSubplot at 0x7f74417d5490>"
            ]
          },
          "metadata": {},
          "execution_count": 242
        },
        {
          "output_type": "display_data",
          "data": {
            "text/plain": [
              "<Figure size 432x288 with 1 Axes>"
            ],
            "image/png": "[encoded data removed]"
          },
          "metadata": {
            "needs_background": "light"
          }
        }
      ]
    },
    {
      "cell_type": "markdown",
      "source": [
        "2.Строим модель"
      ],
      "metadata": {
        "id": "hhOgcKpeJjgf"
      }
    },
    {
      "cell_type": "markdown",
      "source": [
        "2.1. Расчет гиперпараметров (p,d,q)"
      ],
      "metadata": {
        "id": "O1KdgiNfpsH1"
      }
    },
    {
      "cell_type": "code",
      "source": [
        "\n",
        "from pmdarima.arima.auto import AutoARIMA\n",
        "auto_arima(df['SUNACTIVITY'], seasonal=False).summary()"
      ],
      "metadata": {
        "colab": {
          "base_uri": "https://localhost:8080/",
          "height": 483
        },
        "id": "-75qlVwBMtCz",
        "outputId": "ce2070fa-5527-4d39-ed94-60dd886edccb"
      },
      "execution_count": 243,
      "outputs": [
        {
          "output_type": "execute_result",
          "data": {
            "text/plain": [
              "<class 'statsmodels.iolib.summary.Summary'>\n",
              "\"\"\"\n",
              "                               SARIMAX Results                                \n",
              "==============================================================================\n",
              "Dep. Variable:                      y   No. Observations:                  309\n",
              "Model:               SARIMAX(2, 1, 3)   Log Likelihood               -1280.477\n",
              "Date:                Sun, 05 Feb 2023   AIC                           2572.954\n",
              "Time:                        16:43:23   BIC                           2595.335\n",
              "Sample:                    12-31-1700   HQIC                          2581.903\n",
              "                         - 12-31-2008                                         \n",
              "Covariance Type:                  opg                                         \n",
              "==============================================================================\n",
              "                 coef    std err          z      P>|z|      [0.025      0.975]\n",
              "------------------------------------------------------------------------------\n",
              "ar.L1          1.6145      0.026     62.096      0.000       1.564       1.665\n",
              "ar.L2         -0.9354      0.022    -41.820      0.000      -0.979      -0.892\n",
              "ma.L1         -1.4392      0.059    -24.590      0.000      -1.554      -1.324\n",
              "ma.L2          0.4545      0.095      4.783      0.000       0.268       0.641\n",
              "ma.L3          0.1285      0.060      2.143      0.032       0.011       0.246\n",
              "sigma2       236.7573     16.333     14.495      0.000     204.744     268.770\n",
              "===================================================================================\n",
              "Ljung-Box (L1) (Q):                   0.00   Jarque-Bera (JB):                43.72\n",
              "Prob(Q):                              0.95   Prob(JB):                         0.00\n",
              "Heteroskedasticity (H):               1.34   Skew:                             0.54\n",
              "Prob(H) (two-sided):                  0.14   Kurtosis:                         4.50\n",
              "===================================================================================\n",
              "\n",
              "Warnings:\n",
              "[1] Covariance matrix calculated using the outer product of gradients (complex-step).\n",
              "\"\"\""
            ],
            "text/html": [
              "<table class=\"simpletable\">\n",
              "<caption>SARIMAX Results</caption>\n",
              "<tr>\n",
              "  <th>Dep. Variable:</th>           <td>y</td>        <th>  No. Observations:  </th>    <td>309</td>   \n",
              "</tr>\n",
              "<tr>\n",
              "  <th>Model:</th>           <td>SARIMAX(2, 1, 3)</td> <th>  Log Likelihood     </th> <td>-1280.477</td>\n",
              "</tr>\n",
              "<tr>\n",
              "  <th>Date:</th>            <td>Sun, 05 Feb 2023</td> <th>  AIC                </th> <td>2572.954</td> \n",
              "</tr>\n",
              "<tr>\n",
              "  <th>Time:</th>                <td>16:43:23</td>     <th>  BIC                </th> <td>2595.335</td> \n",
              "</tr>\n",
              "<tr>\n",
              "  <th>Sample:</th>             <td>12-31-1700</td>    <th>  HQIC               </th> <td>2581.903</td> \n",
              "</tr>\n",
              "<tr>\n",
              "  <th></th>                   <td>- 12-31-2008</td>   <th>                     </th>     <td> </td>    \n",
              "</tr>\n",
              "<tr>\n",
              "  <th>Covariance Type:</th>        <td>opg</td>       <th>                     </th>     <td> </td>    \n",
              "</tr>\n",
              "</table>\n",
              "<table class=\"simpletable\">\n",
              "<tr>\n",
              "     <td></td>       <th>coef</th>     <th>std err</th>      <th>z</th>      <th>P>|z|</th>  <th>[0.025</th>    <th>0.975]</th>  \n",
              "</tr>\n",
              "<tr>\n",
              "  <th>ar.L1</th>  <td>    1.6145</td> <td>    0.026</td> <td>   62.096</td> <td> 0.000</td> <td>    1.564</td> <td>    1.665</td>\n",
              "</tr>\n",
              "<tr>\n",
              "  <th>ar.L2</th>  <td>   -0.9354</td> <td>    0.022</td> <td>  -41.820</td> <td> 0.000</td> <td>   -0.979</td> <td>   -0.892</td>\n",
              "</tr>\n",
              "<tr>\n",
              "  <th>ma.L1</th>  <td>   -1.4392</td> <td>    0.059</td> <td>  -24.590</td> <td> 0.000</td> <td>   -1.554</td> <td>   -1.324</td>\n",
              "</tr>\n",
              "<tr>\n",
              "  <th>ma.L2</th>  <td>    0.4545</td> <td>    0.095</td> <td>    4.783</td> <td> 0.000</td> <td>    0.268</td> <td>    0.641</td>\n",
              "</tr>\n",
              "<tr>\n",
              "  <th>ma.L3</th>  <td>    0.1285</td> <td>    0.060</td> <td>    2.143</td> <td> 0.032</td> <td>    0.011</td> <td>    0.246</td>\n",
              "</tr>\n",
              "<tr>\n",
              "  <th>sigma2</th> <td>  236.7573</td> <td>   16.333</td> <td>   14.495</td> <td> 0.000</td> <td>  204.744</td> <td>  268.770</td>\n",
              "</tr>\n",
              "</table>\n",
              "<table class=\"simpletable\">\n",
              "<tr>\n",
              "  <th>Ljung-Box (L1) (Q):</th>     <td>0.00</td> <th>  Jarque-Bera (JB):  </th> <td>43.72</td>\n",
              "</tr>\n",
              "<tr>\n",
              "  <th>Prob(Q):</th>                <td>0.95</td> <th>  Prob(JB):          </th> <td>0.00</td> \n",
              "</tr>\n",
              "<tr>\n",
              "  <th>Heteroskedasticity (H):</th> <td>1.34</td> <th>  Skew:              </th> <td>0.54</td> \n",
              "</tr>\n",
              "<tr>\n",
              "  <th>Prob(H) (two-sided):</th>    <td>0.14</td> <th>  Kurtosis:          </th> <td>4.50</td> \n",
              "</tr>\n",
              "</table><br/><br/>Warnings:<br/>[1] Covariance matrix calculated using the outer product of gradients (complex-step)."
            ]
          },
          "metadata": {},
          "execution_count": 243
        }
      ]
    },
    {
      "cell_type": "markdown",
      "source": [
        "\tSARIMAX(2, 1, 3)\t- гиперпараметры "
      ],
      "metadata": {
        "id": "Ra5t-IfBS00-"
      }
    },
    {
      "cell_type": "markdown",
      "source": [
        "3.Создаем и обучаем модель "
      ],
      "metadata": {
        "id": "5vcf6I4qg8xS"
      }
    },
    {
      "cell_type": "code",
      "source": [
        "model_arima=SARIMAX(train['SUNACTIVITY'], order=(2,1,3)).fit()\n",
        "model_arima.summary()\n"
      ],
      "metadata": {
        "colab": {
          "base_uri": "https://localhost:8080/",
          "height": 483
        },
        "id": "-9QqNsdIJy04",
        "outputId": "3404d162-a588-4ae6-d6e9-a1cc7fdce817"
      },
      "execution_count": 244,
      "outputs": [
        {
          "output_type": "execute_result",
          "data": {
            "text/plain": [
              "<class 'statsmodels.iolib.summary.Summary'>\n",
              "\"\"\"\n",
              "                               SARIMAX Results                                \n",
              "==============================================================================\n",
              "Dep. Variable:            SUNACTIVITY   No. Observations:                  294\n",
              "Model:               SARIMAX(2, 1, 3)   Log Likelihood               -1221.343\n",
              "Date:                Sun, 05 Feb 2023   AIC                           2454.687\n",
              "Time:                        16:43:56   BIC                           2476.768\n",
              "Sample:                    12-31-1700   HQIC                          2463.530\n",
              "                         - 12-31-1993                                         \n",
              "Covariance Type:                  opg                                         \n",
              "==============================================================================\n",
              "                 coef    std err          z      P>|z|      [0.025      0.975]\n",
              "------------------------------------------------------------------------------\n",
              "ar.L1          1.6061      0.028     57.845      0.000       1.552       1.661\n",
              "ar.L2         -0.9304      0.023    -39.601      0.000      -0.976      -0.884\n",
              "ma.L1         -1.4290      0.060    -23.660      0.000      -1.547      -1.311\n",
              "ma.L2          0.4439      0.097      4.556      0.000       0.253       0.635\n",
              "ma.L3          0.1254      0.063      1.998      0.046       0.002       0.248\n",
              "sigma2       241.9604     17.176     14.087      0.000     208.297     275.624\n",
              "===================================================================================\n",
              "Ljung-Box (L1) (Q):                   0.00   Jarque-Bera (JB):                38.04\n",
              "Prob(Q):                              0.96   Prob(JB):                         0.00\n",
              "Heteroskedasticity (H):               1.34   Skew:                             0.53\n",
              "Prob(H) (two-sided):                  0.15   Kurtosis:                         4.42\n",
              "===================================================================================\n",
              "\n",
              "Warnings:\n",
              "[1] Covariance matrix calculated using the outer product of gradients (complex-step).\n",
              "\"\"\""
            ],
            "text/html": [
              "<table class=\"simpletable\">\n",
              "<caption>SARIMAX Results</caption>\n",
              "<tr>\n",
              "  <th>Dep. Variable:</th>      <td>SUNACTIVITY</td>   <th>  No. Observations:  </th>    <td>294</td>   \n",
              "</tr>\n",
              "<tr>\n",
              "  <th>Model:</th>           <td>SARIMAX(2, 1, 3)</td> <th>  Log Likelihood     </th> <td>-1221.343</td>\n",
              "</tr>\n",
              "<tr>\n",
              "  <th>Date:</th>            <td>Sun, 05 Feb 2023</td> <th>  AIC                </th> <td>2454.687</td> \n",
              "</tr>\n",
              "<tr>\n",
              "  <th>Time:</th>                <td>16:43:56</td>     <th>  BIC                </th> <td>2476.768</td> \n",
              "</tr>\n",
              "<tr>\n",
              "  <th>Sample:</th>             <td>12-31-1700</td>    <th>  HQIC               </th> <td>2463.530</td> \n",
              "</tr>\n",
              "<tr>\n",
              "  <th></th>                   <td>- 12-31-1993</td>   <th>                     </th>     <td> </td>    \n",
              "</tr>\n",
              "<tr>\n",
              "  <th>Covariance Type:</th>        <td>opg</td>       <th>                     </th>     <td> </td>    \n",
              "</tr>\n",
              "</table>\n",
              "<table class=\"simpletable\">\n",
              "<tr>\n",
              "     <td></td>       <th>coef</th>     <th>std err</th>      <th>z</th>      <th>P>|z|</th>  <th>[0.025</th>    <th>0.975]</th>  \n",
              "</tr>\n",
              "<tr>\n",
              "  <th>ar.L1</th>  <td>    1.6061</td> <td>    0.028</td> <td>   57.845</td> <td> 0.000</td> <td>    1.552</td> <td>    1.661</td>\n",
              "</tr>\n",
              "<tr>\n",
              "  <th>ar.L2</th>  <td>   -0.9304</td> <td>    0.023</td> <td>  -39.601</td> <td> 0.000</td> <td>   -0.976</td> <td>   -0.884</td>\n",
              "</tr>\n",
              "<tr>\n",
              "  <th>ma.L1</th>  <td>   -1.4290</td> <td>    0.060</td> <td>  -23.660</td> <td> 0.000</td> <td>   -1.547</td> <td>   -1.311</td>\n",
              "</tr>\n",
              "<tr>\n",
              "  <th>ma.L2</th>  <td>    0.4439</td> <td>    0.097</td> <td>    4.556</td> <td> 0.000</td> <td>    0.253</td> <td>    0.635</td>\n",
              "</tr>\n",
              "<tr>\n",
              "  <th>ma.L3</th>  <td>    0.1254</td> <td>    0.063</td> <td>    1.998</td> <td> 0.046</td> <td>    0.002</td> <td>    0.248</td>\n",
              "</tr>\n",
              "<tr>\n",
              "  <th>sigma2</th> <td>  241.9604</td> <td>   17.176</td> <td>   14.087</td> <td> 0.000</td> <td>  208.297</td> <td>  275.624</td>\n",
              "</tr>\n",
              "</table>\n",
              "<table class=\"simpletable\">\n",
              "<tr>\n",
              "  <th>Ljung-Box (L1) (Q):</th>     <td>0.00</td> <th>  Jarque-Bera (JB):  </th> <td>38.04</td>\n",
              "</tr>\n",
              "<tr>\n",
              "  <th>Prob(Q):</th>                <td>0.96</td> <th>  Prob(JB):          </th> <td>0.00</td> \n",
              "</tr>\n",
              "<tr>\n",
              "  <th>Heteroskedasticity (H):</th> <td>1.34</td> <th>  Skew:              </th> <td>0.53</td> \n",
              "</tr>\n",
              "<tr>\n",
              "  <th>Prob(H) (two-sided):</th>    <td>0.15</td> <th>  Kurtosis:          </th> <td>4.42</td> \n",
              "</tr>\n",
              "</table><br/><br/>Warnings:<br/>[1] Covariance matrix calculated using the outer product of gradients (complex-step)."
            ]
          },
          "metadata": {},
          "execution_count": 244
        }
      ]
    },
    {
      "cell_type": "markdown",
      "source": [
        "4.Делаем прогноз"
      ],
      "metadata": {
        "id": "Rg9UnqrNgwyT"
      }
    },
    {
      "cell_type": "code",
      "source": [
        "fcast_arima = model_arima.forecast(15)\n",
        "fcast_arima"
      ],
      "metadata": {
        "colab": {
          "base_uri": "https://localhost:8080/"
        },
        "id": "MUbn1IkQsVxa",
        "outputId": "7abba917-eb3a-4bbb-8cc9-acd64395744f"
      },
      "execution_count": 246,
      "outputs": [
        {
          "output_type": "execute_result",
          "data": {
            "text/plain": [
              "1994-12-31     29.307723\n",
              "1995-12-31     21.009065\n",
              "1996-12-31     31.010730\n",
              "1997-12-31     54.796233\n",
              "1998-12-31     83.693245\n",
              "1999-12-31    107.975074\n",
              "2000-12-31    120.088311\n",
              "2001-12-31    116.951177\n",
              "2002-12-31    100.641873\n",
              "2003-12-31     77.365691\n",
              "2004-12-31     55.155586\n",
              "2005-12-31     41.140002\n",
              "2006-12-31     39.294082\n",
              "2007-12-31     49.369900\n",
              "2008-12-31     67.270628\n",
              "Freq: A-DEC, Name: predicted_mean, dtype: float64"
            ]
          },
          "metadata": {},
          "execution_count": 246
        }
      ]
    },
    {
      "cell_type": "markdown",
      "source": [
        "5.Сравниваем предсказание с данными обучающей выборки "
      ],
      "metadata": {
        "id": "AjbxChJl6Hf9"
      }
    },
    {
      "cell_type": "code",
      "source": [
        "for i in range(len(fcast_arima)):\n",
        "  print(f\"predicted={fcast_arima[i]:<11.10}, expected={test_arima['SUNACTIVITY'][i]}\")"
      ],
      "metadata": {
        "colab": {
          "base_uri": "https://localhost:8080/"
        },
        "id": "EzzYfbkdybul",
        "outputId": "d4333c70-d9a0-479b-d5f9-057a14a97351"
      },
      "execution_count": 247,
      "outputs": [
        {
          "output_type": "stream",
          "name": "stdout",
          "text": [
            "predicted=29.30772315, expected=29.9\n",
            "predicted=21.00906473, expected=17.5\n",
            "predicted=31.01073035, expected=8.6\n",
            "predicted=54.79623266, expected=21.5\n",
            "predicted=83.69324525, expected=64.3\n",
            "predicted=107.9750744, expected=93.3\n",
            "predicted=120.0883108, expected=119.6\n",
            "predicted=116.9511771, expected=111.0\n",
            "predicted=100.6418734, expected=104.0\n",
            "predicted=77.36569112, expected=63.7\n",
            "predicted=55.15558595, expected=40.4\n",
            "predicted=41.14000245, expected=29.8\n",
            "predicted=39.29408226, expected=15.2\n",
            "predicted=49.36989976, expected=7.5\n",
            "predicted=67.27062796, expected=2.9\n"
          ]
        }
      ]
    },
    {
      "cell_type": "code",
      "source": [
        "xtitle=\"Количество солнечных  пятен по годам\"\n",
        "\n",
        "ax=test_arima['SUNACTIVITY'].plot(legend=True, figsize=(12,6), title=xtitle)\n",
        "fcast_arima.plot(legend=True)\n",
        "ax.autoscale(axis='x', tight=True)\n"
      ],
      "metadata": {
        "colab": {
          "base_uri": "https://localhost:8080/",
          "height": 390
        },
        "id": "FVJX7QZQzISe",
        "outputId": "4a7cfdd3-84ed-43f7-833e-541e09458592"
      },
      "execution_count": 248,
      "outputs": [
        {
          "output_type": "display_data",
          "data": {
            "text/plain": [
              "<Figure size 864x432 with 1 Axes>"
            ],
            "image/png": "[encoded data removed]"
          },
          "metadata": {
            "needs_background": "light"
          }
        }
      ]
    },
    {
      "cell_type": "markdown",
      "source": [
        "6.Рассчитываем качество полученной модели и прогноза\n",
        "\n"
      ],
      "metadata": {
        "id": "ldA7FnWWhhD_"
      }
    },
    {
      "cell_type": "code",
      "source": [
        "from sklearn.metrics import mean_squared_error\n",
        "error_mse=mean_squared_error(test_arima['SUNACTIVITY'], fcast_arima)\n",
        "print(f\"SARIMAX(2, 1, 3) MSE error:{error_mse}\")\n"
      ],
      "metadata": {
        "id": "eEaDboLGhk_Q",
        "colab": {
          "base_uri": "https://localhost:8080/"
        },
        "outputId": "57a031c4-4210-4895-be35-ecc4d94e1e31"
      },
      "execution_count": 249,
      "outputs": [
        {
          "output_type": "stream",
          "name": "stdout",
          "text": [
            "SARIMAX(2, 1, 3) MSE error:618.1464764830586\n"
          ]
        }
      ]
    },
    {
      "cell_type": "code",
      "source": [
        "from statsmodels.tools.eval_measures import rmse\n",
        "error_rmse=rmse(test_arima['SUNACTIVITY'], fcast_arima)\n",
        "print(f\"SARIMAX(2, 1, 3)\tRMSE error:{error_rmse}\")"
      ],
      "metadata": {
        "colab": {
          "base_uri": "https://localhost:8080/"
        },
        "id": "a_JFgmFI7oyK",
        "outputId": "0121efac-0400-405c-fbe0-44669c1ab740"
      },
      "execution_count": 250,
      "outputs": [
        {
          "output_type": "stream",
          "name": "stdout",
          "text": [
            "SARIMAX(2, 1, 3)\tRMSE error:24.86255168889667\n"
          ]
        }
      ]
    },
    {
      "cell_type": "code",
      "source": [
        "from sklearn.metrics import mean_absolute_error\n",
        "\n",
        "print(\"SARIMAX(2, 1, 3) Mean Absolute Error (MAE):\", mean_absolute_error(test_arima['SUNACTIVITY'], fcast_arima)) "
      ],
      "metadata": {
        "colab": {
          "base_uri": "https://localhost:8080/"
        },
        "id": "plFcyEQAOCEO",
        "outputId": "3b9fdba4-3edc-4430-c4d2-b3bf6c52f047"
      },
      "execution_count": 251,
      "outputs": [
        {
          "output_type": "stream",
          "name": "stdout",
          "text": [
            "SARIMAX(2, 1, 3) Mean Absolute Error (MAE): 18.251341886514407\n"
          ]
        }
      ]
    },
    {
      "cell_type": "markdown",
      "source": [
        "6.Применяем модель  ко всей выборке и сторим прогноз"
      ],
      "metadata": {
        "id": "0Q30bx534R_a"
      }
    },
    {
      "cell_type": "code",
      "source": [
        "model_full_arima=SARIMAX(df['SUNACTIVITY'], order=(2,1,3))\n",
        "result=model_full_arima.fit()\n",
        "\n",
        "fcast_full_arima=result.predict(len(df), len(df)+15, typ='levels' ).rename( 'predicrion SARIMAX(2, 1, 3)\t')\n",
        "fcast_full_arima"
      ],
      "metadata": {
        "id": "D64Jusad4gUf",
        "colab": {
          "base_uri": "https://localhost:8080/"
        },
        "outputId": "6e2e5be2-1ea0-4ae2-94b7-4eaf7268ccc1"
      },
      "execution_count": 340,
      "outputs": [
        {
          "output_type": "execute_result",
          "data": {
            "text/plain": [
              "309    25.823885\n",
              "310    55.697823\n",
              "311    79.746206\n",
              "312    90.630207\n",
              "313    85.708851\n",
              "314    67.582655\n",
              "315    42.920522\n",
              "316    20.057197\n",
              "317     6.211590\n",
              "318     5.242866\n",
              "319    16.629494\n",
              "320    35.919719\n",
              "321    56.413844\n",
              "322    71.458982\n",
              "323    76.580448\n",
              "324    70.776576\n",
              "Name: predicrion SARIMAX(2, 1, 3)\\t, dtype: float64"
            ]
          },
          "metadata": {},
          "execution_count": 340
        }
      ]
    },
    {
      "cell_type": "code",
      "source": [
        "xtitle=\"Количество солнечных  пятен по годам: прогноз\"\n",
        "\n",
        "ax=test_arima['SUNACTIVITY'].plot(legend=True, figsize=(12,6), title=xtitle)\n",
        "fcast_full_arima.plot(legend=True)\n",
        "ax.autoscale(axis='x', tight=True)\n"
      ],
      "metadata": {
        "colab": {
          "base_uri": "https://localhost:8080/",
          "height": 390
        },
        "id": "acM-kC-B7gXl",
        "outputId": "3a357875-072e-48d0-a7ae-0b0bfd9ba165"
      },
      "execution_count": 256,
      "outputs": [
        {
          "output_type": "display_data",
          "data": {
            "text/plain": [
              "<Figure size 864x432 with 1 Axes>"
            ],
            "image/png": "[encoded data removed]"
          },
          "metadata": {
            "needs_background": "light"
          }
        }
      ]
    },
    {
      "cell_type": "markdown",
      "source": [
        "**Модель Prophet**\n",
        "\n",
        "в основе этой методологии лежит процедура подгонки аддитивных регрессионных моделей. Временной ряд  = Тренд + Сезонность + Праздник + Ошибка"
      ],
      "metadata": {
        "id": "AVLFTRwdh0nZ"
      }
    },
    {
      "cell_type": "markdown",
      "source": [
        "Импорт библиотек "
      ],
      "metadata": {
        "id": "2fbEPFwekAn-"
      }
    },
    {
      "cell_type": "code",
      "source": [
        "!pip install prophet"
      ],
      "metadata": {
        "colab": {
          "base_uri": "https://localhost:8080/"
        },
        "id": "m-8ITsX6jz8-",
        "outputId": "9d95e9ad-f1d6-45e7-aca1-468663ee89cc"
      },
      "execution_count": 129,
      "outputs": [
        {
          "output_type": "stream",
          "name": "stdout",
          "text": [
            "Looking in indexes: https://pypi.org/simple, https://us-python.pkg.dev/colab-wheels/public/simple/\n",
            "Requirement already satisfied: prophet in /usr/local/lib/python3.8/dist-packages (1.1.2)\n",
            "Requirement already satisfied: LunarCalendar>=0.0.9 in /usr/local/lib/python3.8/dist-packages (from prophet) (0.0.9)\n",
            "Collecting cmdstanpy>=1.0.4\n",
            "  Downloading cmdstanpy-1.1.0-py3-none-any.whl (83 kB)\n",
            "\u001b[2K     \u001b[90m━━━━━━━━━━━━━━━━━━━━━━━━━━━━━━━━━━━━━━━━\u001b[0m \u001b[32m83.2/83.2 KB\u001b[0m \u001b[31m3.2 MB/s\u001b[0m eta \u001b[36m0:00:00\u001b[0m\n",
            "\u001b[?25hRequirement already satisfied: numpy>=1.15.4 in /usr/local/lib/python3.8/dist-packages (from prophet) (1.21.6)\n",
            "Requirement already satisfied: pandas>=1.0.4 in /usr/local/lib/python3.8/dist-packages (from prophet) (1.3.5)\n",
            "Requirement already satisfied: convertdate>=2.1.2 in /usr/local/lib/python3.8/dist-packages (from prophet) (2.4.0)\n",
            "Requirement already satisfied: tqdm>=4.36.1 in /usr/local/lib/python3.8/dist-packages (from prophet) (4.64.1)\n",
            "Requirement already satisfied: holidays>=0.14.2 in /usr/local/lib/python3.8/dist-packages (from prophet) (0.19)\n",
            "Requirement already satisfied: matplotlib>=2.0.0 in /usr/local/lib/python3.8/dist-packages (from prophet) (3.2.2)\n",
            "Requirement already satisfied: python-dateutil>=2.8.0 in /usr/local/lib/python3.8/dist-packages (from prophet) (2.8.2)\n",
            "Requirement already satisfied: pymeeus<=1,>=0.3.13 in /usr/local/lib/python3.8/dist-packages (from convertdate>=2.1.2->prophet) (0.5.12)\n",
            "Requirement already satisfied: korean-lunar-calendar in /usr/local/lib/python3.8/dist-packages (from holidays>=0.14.2->prophet) (0.3.1)\n",
            "Requirement already satisfied: hijri-converter in /usr/local/lib/python3.8/dist-packages (from holidays>=0.14.2->prophet) (2.2.4)\n",
            "Requirement already satisfied: pytz in /usr/local/lib/python3.8/dist-packages (from LunarCalendar>=0.0.9->prophet) (2022.7.1)\n",
            "Requirement already satisfied: ephem>=3.7.5.3 in /usr/local/lib/python3.8/dist-packages (from LunarCalendar>=0.0.9->prophet) (4.1.4)\n",
            "Requirement already satisfied: cycler>=0.10 in /usr/local/lib/python3.8/dist-packages (from matplotlib>=2.0.0->prophet) (0.11.0)\n",
            "Requirement already satisfied: pyparsing!=2.0.4,!=2.1.2,!=2.1.6,>=2.0.1 in /usr/local/lib/python3.8/dist-packages (from matplotlib>=2.0.0->prophet) (3.0.9)\n",
            "Requirement already satisfied: kiwisolver>=1.0.1 in /usr/local/lib/python3.8/dist-packages (from matplotlib>=2.0.0->prophet) (1.4.4)\n",
            "Requirement already satisfied: six>=1.5 in /usr/local/lib/python3.8/dist-packages (from python-dateutil>=2.8.0->prophet) (1.15.0)\n",
            "Installing collected packages: cmdstanpy\n",
            "  Attempting uninstall: cmdstanpy\n",
            "    Found existing installation: cmdstanpy 0.9.5\n",
            "    Uninstalling cmdstanpy-0.9.5:\n",
            "      Successfully uninstalled cmdstanpy-0.9.5\n",
            "Successfully installed cmdstanpy-1.1.0\n"
          ]
        }
      ]
    },
    {
      "cell_type": "code",
      "source": [
        "from prophet import Prophet"
      ],
      "metadata": {
        "id": "ayal3817uSno"
      },
      "execution_count": 338,
      "outputs": []
    },
    {
      "cell_type": "code",
      "source": [
        "import statsmodels.api as sm\n",
        "data = sm.datasets.sunspots.load_pandas()\n",
        "df=data.data.copy()\n",
        "df"
      ],
      "metadata": {
        "colab": {
          "base_uri": "https://localhost:8080/",
          "height": 423
        },
        "id": "fRzH67zVlYXg",
        "outputId": "e2253e34-c43a-4972-cff4-e067d05b973c"
      },
      "execution_count": 304,
      "outputs": [
        {
          "output_type": "execute_result",
          "data": {
            "text/plain": [
              "       YEAR  SUNACTIVITY\n",
              "0    1700.0          5.0\n",
              "1    1701.0         11.0\n",
              "2    1702.0         16.0\n",
              "3    1703.0         23.0\n",
              "4    1704.0         36.0\n",
              "..      ...          ...\n",
              "304  2004.0         40.4\n",
              "305  2005.0         29.8\n",
              "306  2006.0         15.2\n",
              "307  2007.0          7.5\n",
              "308  2008.0          2.9\n",
              "\n",
              "[309 rows x 2 columns]"
            ],
            "text/html": [
              "\n",
              "  <div id=\"df-71737fdc-04f1-4744-9c66-908aa326d273\">\n",
              "    <div class=\"colab-df-container\">\n",
              "      <div>\n",
              "<style scoped>\n",
              "    .dataframe tbody tr th:only-of-type {\n",
              "        vertical-align: middle;\n",
              "    }\n",
              "\n",
              "    .dataframe tbody tr th {\n",
              "        vertical-align: top;\n",
              "    }\n",
              "\n",
              "    .dataframe thead th {\n",
              "        text-align: right;\n",
              "    }\n",
              "</style>\n",
              "<table border=\"1\" class=\"dataframe\">\n",
              "  <thead>\n",
              "    <tr style=\"text-align: right;\">\n",
              "      <th></th>\n",
              "      <th>YEAR</th>\n",
              "      <th>SUNACTIVITY</th>\n",
              "    </tr>\n",
              "  </thead>\n",
              "  <tbody>\n",
              "    <tr>\n",
              "      <th>0</th>\n",
              "      <td>1700.0</td>\n",
              "      <td>5.0</td>\n",
              "    </tr>\n",
              "    <tr>\n",
              "      <th>1</th>\n",
              "      <td>1701.0</td>\n",
              "      <td>11.0</td>\n",
              "    </tr>\n",
              "    <tr>\n",
              "      <th>2</th>\n",
              "      <td>1702.0</td>\n",
              "      <td>16.0</td>\n",
              "    </tr>\n",
              "    <tr>\n",
              "      <th>3</th>\n",
              "      <td>1703.0</td>\n",
              "      <td>23.0</td>\n",
              "    </tr>\n",
              "    <tr>\n",
              "      <th>4</th>\n",
              "      <td>1704.0</td>\n",
              "      <td>36.0</td>\n",
              "    </tr>\n",
              "    <tr>\n",
              "      <th>...</th>\n",
              "      <td>...</td>\n",
              "      <td>...</td>\n",
              "    </tr>\n",
              "    <tr>\n",
              "      <th>304</th>\n",
              "      <td>2004.0</td>\n",
              "      <td>40.4</td>\n",
              "    </tr>\n",
              "    <tr>\n",
              "      <th>305</th>\n",
              "      <td>2005.0</td>\n",
              "      <td>29.8</td>\n",
              "    </tr>\n",
              "    <tr>\n",
              "      <th>306</th>\n",
              "      <td>2006.0</td>\n",
              "      <td>15.2</td>\n",
              "    </tr>\n",
              "    <tr>\n",
              "      <th>307</th>\n",
              "      <td>2007.0</td>\n",
              "      <td>7.5</td>\n",
              "    </tr>\n",
              "    <tr>\n",
              "      <th>308</th>\n",
              "      <td>2008.0</td>\n",
              "      <td>2.9</td>\n",
              "    </tr>\n",
              "  </tbody>\n",
              "</table>\n",
              "<p>309 rows × 2 columns</p>\n",
              "</div>\n",
              "      <button class=\"colab-df-convert\" onclick=\"convertToInteractive('df-71737fdc-04f1-4744-9c66-908aa326d273')\"\n",
              "              title=\"Convert this dataframe to an interactive table.\"\n",
              "              style=\"display:none;\">\n",
              "        \n",
              "  <svg xmlns=\"http://www.w3.org/2000/svg\" height=\"24px\"viewBox=\"0 0 24 24\"\n",
              "       width=\"24px\">\n",
              "    <path d=\"M0 0h24v24H0V0z\" fill=\"none\"/>\n",
              "    <path d=\"M18.56 5.44l.94 2.06.94-2.06 2.06-.94-2.06-.94-.94-2.06-.94 2.06-2.06.94zm-11 1L8.5 8.5l.94-2.06 2.06-.94-2.06-.94L8.5 2.5l-.94 2.06-2.06.94zm10 10l.94 2.06.94-2.06 2.06-.94-2.06-.94-.94-2.06-.94 2.06-2.06.94z\"/><path d=\"M17.41 7.96l-1.37-1.37c-.4-.4-.92-.59-1.43-.59-.52 0-1.04.2-1.43.59L10.3 9.45l-7.72 7.72c-.78.78-.78 2.05 0 2.83L4 21.41c.39.39.9.59 1.41.59.51 0 1.02-.2 1.41-.59l7.78-7.78 2.81-2.81c.8-.78.8-2.07 0-2.86zM5.41 20L4 18.59l7.72-7.72 1.47 1.35L5.41 20z\"/>\n",
              "  </svg>\n",
              "      </button>\n",
              "      \n",
              "  <style>\n",
              "    .colab-df-container {\n",
              "      display:flex;\n",
              "      flex-wrap:wrap;\n",
              "      gap: 12px;\n",
              "    }\n",
              "\n",
              "    .colab-df-convert {\n",
              "      background-color: #E8F0FE;\n",
              "      border: none;\n",
              "      border-radius: 50%;\n",
              "      cursor: pointer;\n",
              "      display: none;\n",
              "      fill: #1967D2;\n",
              "      height: 32px;\n",
              "      padding: 0 0 0 0;\n",
              "      width: 32px;\n",
              "    }\n",
              "\n",
              "    .colab-df-convert:hover {\n",
              "      background-color: #E2EBFA;\n",
              "      box-shadow: 0px 1px 2px rgba(60, 64, 67, 0.3), 0px 1px 3px 1px rgba(60, 64, 67, 0.15);\n",
              "      fill: #174EA6;\n",
              "    }\n",
              "\n",
              "    [theme=dark] .colab-df-convert {\n",
              "      background-color: #3B4455;\n",
              "      fill: #D2E3FC;\n",
              "    }\n",
              "\n",
              "    [theme=dark] .colab-df-convert:hover {\n",
              "      background-color: #434B5C;\n",
              "      box-shadow: 0px 1px 3px 1px rgba(0, 0, 0, 0.15);\n",
              "      filter: drop-shadow(0px 1px 2px rgba(0, 0, 0, 0.3));\n",
              "      fill: #FFFFFF;\n",
              "    }\n",
              "  </style>\n",
              "\n",
              "      <script>\n",
              "        const buttonEl =\n",
              "          document.querySelector('#df-71737fdc-04f1-4744-9c66-908aa326d273 button.colab-df-convert');\n",
              "        buttonEl.style.display =\n",
              "          google.colab.kernel.accessAllowed ? 'block' : 'none';\n",
              "\n",
              "        async function convertToInteractive(key) {\n",
              "          const element = document.querySelector('#df-71737fdc-04f1-4744-9c66-908aa326d273');\n",
              "          const dataTable =\n",
              "            await google.colab.kernel.invokeFunction('convertToInteractive',\n",
              "                                                     [key], {});\n",
              "          if (!dataTable) return;\n",
              "\n",
              "          const docLinkHtml = 'Like what you see? Visit the ' +\n",
              "            '<a target=\"_blank\" href=https://colab.research.google.com/notebooks/data_table.ipynb>data table notebook</a>'\n",
              "            + ' to learn more about interactive tables.';\n",
              "          element.innerHTML = '';\n",
              "          dataTable['output_type'] = 'display_data';\n",
              "          await google.colab.output.renderOutput(dataTable, element);\n",
              "          const docLink = document.createElement('div');\n",
              "          docLink.innerHTML = docLinkHtml;\n",
              "          element.appendChild(docLink);\n",
              "        }\n",
              "      </script>\n",
              "    </div>\n",
              "  </div>\n",
              "  "
            ]
          },
          "metadata": {},
          "execution_count": 304
        }
      ]
    },
    {
      "cell_type": "markdown",
      "source": [
        "Создать входные данные  Prophet - фрейм данных: ds и y.\n",
        "\n",
        "ds - столбец с датой\n",
        "y - числовой столбец, который мы хотим  спрогнозировать"
      ],
      "metadata": {
        "id": "rXCuvhWVkk9P"
      }
    },
    {
      "cell_type": "code",
      "source": [
        "df['YEAR'] = df['YEAR'].astype('int')\n",
        "df['DATE'] = df['YEAR'].map(lambda x: datetime.date(x, 1, 1))\n",
        "df.tail()"
      ],
      "metadata": {
        "colab": {
          "base_uri": "https://localhost:8080/",
          "height": 206
        },
        "id": "QSCnLgD3mjs6",
        "outputId": "a577db99-5640-4bc2-ef28-94fdbdf70e3f"
      },
      "execution_count": 306,
      "outputs": [
        {
          "output_type": "execute_result",
          "data": {
            "text/plain": [
              "     YEAR  SUNACTIVITY        DATE\n",
              "304  2004         40.4  2004-01-01\n",
              "305  2005         29.8  2005-01-01\n",
              "306  2006         15.2  2006-01-01\n",
              "307  2007          7.5  2007-01-01\n",
              "308  2008          2.9  2008-01-01"
            ],
            "text/html": [
              "\n",
              "  <div id=\"df-ffa3c2a6-ba74-4e58-a915-b8fd75c032c4\">\n",
              "    <div class=\"colab-df-container\">\n",
              "      <div>\n",
              "<style scoped>\n",
              "    .dataframe tbody tr th:only-of-type {\n",
              "        vertical-align: middle;\n",
              "    }\n",
              "\n",
              "    .dataframe tbody tr th {\n",
              "        vertical-align: top;\n",
              "    }\n",
              "\n",
              "    .dataframe thead th {\n",
              "        text-align: right;\n",
              "    }\n",
              "</style>\n",
              "<table border=\"1\" class=\"dataframe\">\n",
              "  <thead>\n",
              "    <tr style=\"text-align: right;\">\n",
              "      <th></th>\n",
              "      <th>YEAR</th>\n",
              "      <th>SUNACTIVITY</th>\n",
              "      <th>DATE</th>\n",
              "    </tr>\n",
              "  </thead>\n",
              "  <tbody>\n",
              "    <tr>\n",
              "      <th>304</th>\n",
              "      <td>2004</td>\n",
              "      <td>40.4</td>\n",
              "      <td>2004-01-01</td>\n",
              "    </tr>\n",
              "    <tr>\n",
              "      <th>305</th>\n",
              "      <td>2005</td>\n",
              "      <td>29.8</td>\n",
              "      <td>2005-01-01</td>\n",
              "    </tr>\n",
              "    <tr>\n",
              "      <th>306</th>\n",
              "      <td>2006</td>\n",
              "      <td>15.2</td>\n",
              "      <td>2006-01-01</td>\n",
              "    </tr>\n",
              "    <tr>\n",
              "      <th>307</th>\n",
              "      <td>2007</td>\n",
              "      <td>7.5</td>\n",
              "      <td>2007-01-01</td>\n",
              "    </tr>\n",
              "    <tr>\n",
              "      <th>308</th>\n",
              "      <td>2008</td>\n",
              "      <td>2.9</td>\n",
              "      <td>2008-01-01</td>\n",
              "    </tr>\n",
              "  </tbody>\n",
              "</table>\n",
              "</div>\n",
              "      <button class=\"colab-df-convert\" onclick=\"convertToInteractive('df-ffa3c2a6-ba74-4e58-a915-b8fd75c032c4')\"\n",
              "              title=\"Convert this dataframe to an interactive table.\"\n",
              "              style=\"display:none;\">\n",
              "        \n",
              "  <svg xmlns=\"http://www.w3.org/2000/svg\" height=\"24px\"viewBox=\"0 0 24 24\"\n",
              "       width=\"24px\">\n",
              "    <path d=\"M0 0h24v24H0V0z\" fill=\"none\"/>\n",
              "    <path d=\"M18.56 5.44l.94 2.06.94-2.06 2.06-.94-2.06-.94-.94-2.06-.94 2.06-2.06.94zm-11 1L8.5 8.5l.94-2.06 2.06-.94-2.06-.94L8.5 2.5l-.94 2.06-2.06.94zm10 10l.94 2.06.94-2.06 2.06-.94-2.06-.94-.94-2.06-.94 2.06-2.06.94z\"/><path d=\"M17.41 7.96l-1.37-1.37c-.4-.4-.92-.59-1.43-.59-.52 0-1.04.2-1.43.59L10.3 9.45l-7.72 7.72c-.78.78-.78 2.05 0 2.83L4 21.41c.39.39.9.59 1.41.59.51 0 1.02-.2 1.41-.59l7.78-7.78 2.81-2.81c.8-.78.8-2.07 0-2.86zM5.41 20L4 18.59l7.72-7.72 1.47 1.35L5.41 20z\"/>\n",
              "  </svg>\n",
              "      </button>\n",
              "      \n",
              "  <style>\n",
              "    .colab-df-container {\n",
              "      display:flex;\n",
              "      flex-wrap:wrap;\n",
              "      gap: 12px;\n",
              "    }\n",
              "\n",
              "    .colab-df-convert {\n",
              "      background-color: #E8F0FE;\n",
              "      border: none;\n",
              "      border-radius: 50%;\n",
              "      cursor: pointer;\n",
              "      display: none;\n",
              "      fill: #1967D2;\n",
              "      height: 32px;\n",
              "      padding: 0 0 0 0;\n",
              "      width: 32px;\n",
              "    }\n",
              "\n",
              "    .colab-df-convert:hover {\n",
              "      background-color: #E2EBFA;\n",
              "      box-shadow: 0px 1px 2px rgba(60, 64, 67, 0.3), 0px 1px 3px 1px rgba(60, 64, 67, 0.15);\n",
              "      fill: #174EA6;\n",
              "    }\n",
              "\n",
              "    [theme=dark] .colab-df-convert {\n",
              "      background-color: #3B4455;\n",
              "      fill: #D2E3FC;\n",
              "    }\n",
              "\n",
              "    [theme=dark] .colab-df-convert:hover {\n",
              "      background-color: #434B5C;\n",
              "      box-shadow: 0px 1px 3px 1px rgba(0, 0, 0, 0.15);\n",
              "      filter: drop-shadow(0px 1px 2px rgba(0, 0, 0, 0.3));\n",
              "      fill: #FFFFFF;\n",
              "    }\n",
              "  </style>\n",
              "\n",
              "      <script>\n",
              "        const buttonEl =\n",
              "          document.querySelector('#df-ffa3c2a6-ba74-4e58-a915-b8fd75c032c4 button.colab-df-convert');\n",
              "        buttonEl.style.display =\n",
              "          google.colab.kernel.accessAllowed ? 'block' : 'none';\n",
              "\n",
              "        async function convertToInteractive(key) {\n",
              "          const element = document.querySelector('#df-ffa3c2a6-ba74-4e58-a915-b8fd75c032c4');\n",
              "          const dataTable =\n",
              "            await google.colab.kernel.invokeFunction('convertToInteractive',\n",
              "                                                     [key], {});\n",
              "          if (!dataTable) return;\n",
              "\n",
              "          const docLinkHtml = 'Like what you see? Visit the ' +\n",
              "            '<a target=\"_blank\" href=https://colab.research.google.com/notebooks/data_table.ipynb>data table notebook</a>'\n",
              "            + ' to learn more about interactive tables.';\n",
              "          element.innerHTML = '';\n",
              "          dataTable['output_type'] = 'display_data';\n",
              "          await google.colab.output.renderOutput(dataTable, element);\n",
              "          const docLink = document.createElement('div');\n",
              "          docLink.innerHTML = docLinkHtml;\n",
              "          element.appendChild(docLink);\n",
              "        }\n",
              "      </script>\n",
              "    </div>\n",
              "  </div>\n",
              "  "
            ]
          },
          "metadata": {},
          "execution_count": 306
        }
      ]
    },
    {
      "cell_type": "code",
      "source": [
        "df_prophet = df[['DATE', 'SUNACTIVITY']]\n",
        "df_prophet.columns = ['ds', 'y']\n",
        "df_prophet\n",
        "\n",
        "\n"
      ],
      "metadata": {
        "colab": {
          "base_uri": "https://localhost:8080/",
          "height": 423
        },
        "id": "BZ5wJ3sjky24",
        "outputId": "c62d7494-9fbb-4741-f041-8dcd9ca589b3"
      },
      "execution_count": 310,
      "outputs": [
        {
          "output_type": "execute_result",
          "data": {
            "text/plain": [
              "             ds     y\n",
              "0    1700-01-01   5.0\n",
              "1    1701-01-01  11.0\n",
              "2    1702-01-01  16.0\n",
              "3    1703-01-01  23.0\n",
              "4    1704-01-01  36.0\n",
              "..          ...   ...\n",
              "304  2004-01-01  40.4\n",
              "305  2005-01-01  29.8\n",
              "306  2006-01-01  15.2\n",
              "307  2007-01-01   7.5\n",
              "308  2008-01-01   2.9\n",
              "\n",
              "[309 rows x 2 columns]"
            ],
            "text/html": [
              "\n",
              "  <div id=\"df-e18fef0e-925b-4b74-8b26-5fc84292be15\">\n",
              "    <div class=\"colab-df-container\">\n",
              "      <div>\n",
              "<style scoped>\n",
              "    .dataframe tbody tr th:only-of-type {\n",
              "        vertical-align: middle;\n",
              "    }\n",
              "\n",
              "    .dataframe tbody tr th {\n",
              "        vertical-align: top;\n",
              "    }\n",
              "\n",
              "    .dataframe thead th {\n",
              "        text-align: right;\n",
              "    }\n",
              "</style>\n",
              "<table border=\"1\" class=\"dataframe\">\n",
              "  <thead>\n",
              "    <tr style=\"text-align: right;\">\n",
              "      <th></th>\n",
              "      <th>ds</th>\n",
              "      <th>y</th>\n",
              "    </tr>\n",
              "  </thead>\n",
              "  <tbody>\n",
              "    <tr>\n",
              "      <th>0</th>\n",
              "      <td>1700-01-01</td>\n",
              "      <td>5.0</td>\n",
              "    </tr>\n",
              "    <tr>\n",
              "      <th>1</th>\n",
              "      <td>1701-01-01</td>\n",
              "      <td>11.0</td>\n",
              "    </tr>\n",
              "    <tr>\n",
              "      <th>2</th>\n",
              "      <td>1702-01-01</td>\n",
              "      <td>16.0</td>\n",
              "    </tr>\n",
              "    <tr>\n",
              "      <th>3</th>\n",
              "      <td>1703-01-01</td>\n",
              "      <td>23.0</td>\n",
              "    </tr>\n",
              "    <tr>\n",
              "      <th>4</th>\n",
              "      <td>1704-01-01</td>\n",
              "      <td>36.0</td>\n",
              "    </tr>\n",
              "    <tr>\n",
              "      <th>...</th>\n",
              "      <td>...</td>\n",
              "      <td>...</td>\n",
              "    </tr>\n",
              "    <tr>\n",
              "      <th>304</th>\n",
              "      <td>2004-01-01</td>\n",
              "      <td>40.4</td>\n",
              "    </tr>\n",
              "    <tr>\n",
              "      <th>305</th>\n",
              "      <td>2005-01-01</td>\n",
              "      <td>29.8</td>\n",
              "    </tr>\n",
              "    <tr>\n",
              "      <th>306</th>\n",
              "      <td>2006-01-01</td>\n",
              "      <td>15.2</td>\n",
              "    </tr>\n",
              "    <tr>\n",
              "      <th>307</th>\n",
              "      <td>2007-01-01</td>\n",
              "      <td>7.5</td>\n",
              "    </tr>\n",
              "    <tr>\n",
              "      <th>308</th>\n",
              "      <td>2008-01-01</td>\n",
              "      <td>2.9</td>\n",
              "    </tr>\n",
              "  </tbody>\n",
              "</table>\n",
              "<p>309 rows × 2 columns</p>\n",
              "</div>\n",
              "      <button class=\"colab-df-convert\" onclick=\"convertToInteractive('df-e18fef0e-925b-4b74-8b26-5fc84292be15')\"\n",
              "              title=\"Convert this dataframe to an interactive table.\"\n",
              "              style=\"display:none;\">\n",
              "        \n",
              "  <svg xmlns=\"http://www.w3.org/2000/svg\" height=\"24px\"viewBox=\"0 0 24 24\"\n",
              "       width=\"24px\">\n",
              "    <path d=\"M0 0h24v24H0V0z\" fill=\"none\"/>\n",
              "    <path d=\"M18.56 5.44l.94 2.06.94-2.06 2.06-.94-2.06-.94-.94-2.06-.94 2.06-2.06.94zm-11 1L8.5 8.5l.94-2.06 2.06-.94-2.06-.94L8.5 2.5l-.94 2.06-2.06.94zm10 10l.94 2.06.94-2.06 2.06-.94-2.06-.94-.94-2.06-.94 2.06-2.06.94z\"/><path d=\"M17.41 7.96l-1.37-1.37c-.4-.4-.92-.59-1.43-.59-.52 0-1.04.2-1.43.59L10.3 9.45l-7.72 7.72c-.78.78-.78 2.05 0 2.83L4 21.41c.39.39.9.59 1.41.59.51 0 1.02-.2 1.41-.59l7.78-7.78 2.81-2.81c.8-.78.8-2.07 0-2.86zM5.41 20L4 18.59l7.72-7.72 1.47 1.35L5.41 20z\"/>\n",
              "  </svg>\n",
              "      </button>\n",
              "      \n",
              "  <style>\n",
              "    .colab-df-container {\n",
              "      display:flex;\n",
              "      flex-wrap:wrap;\n",
              "      gap: 12px;\n",
              "    }\n",
              "\n",
              "    .colab-df-convert {\n",
              "      background-color: #E8F0FE;\n",
              "      border: none;\n",
              "      border-radius: 50%;\n",
              "      cursor: pointer;\n",
              "      display: none;\n",
              "      fill: #1967D2;\n",
              "      height: 32px;\n",
              "      padding: 0 0 0 0;\n",
              "      width: 32px;\n",
              "    }\n",
              "\n",
              "    .colab-df-convert:hover {\n",
              "      background-color: #E2EBFA;\n",
              "      box-shadow: 0px 1px 2px rgba(60, 64, 67, 0.3), 0px 1px 3px 1px rgba(60, 64, 67, 0.15);\n",
              "      fill: #174EA6;\n",
              "    }\n",
              "\n",
              "    [theme=dark] .colab-df-convert {\n",
              "      background-color: #3B4455;\n",
              "      fill: #D2E3FC;\n",
              "    }\n",
              "\n",
              "    [theme=dark] .colab-df-convert:hover {\n",
              "      background-color: #434B5C;\n",
              "      box-shadow: 0px 1px 3px 1px rgba(0, 0, 0, 0.15);\n",
              "      filter: drop-shadow(0px 1px 2px rgba(0, 0, 0, 0.3));\n",
              "      fill: #FFFFFF;\n",
              "    }\n",
              "  </style>\n",
              "\n",
              "      <script>\n",
              "        const buttonEl =\n",
              "          document.querySelector('#df-e18fef0e-925b-4b74-8b26-5fc84292be15 button.colab-df-convert');\n",
              "        buttonEl.style.display =\n",
              "          google.colab.kernel.accessAllowed ? 'block' : 'none';\n",
              "\n",
              "        async function convertToInteractive(key) {\n",
              "          const element = document.querySelector('#df-e18fef0e-925b-4b74-8b26-5fc84292be15');\n",
              "          const dataTable =\n",
              "            await google.colab.kernel.invokeFunction('convertToInteractive',\n",
              "                                                     [key], {});\n",
              "          if (!dataTable) return;\n",
              "\n",
              "          const docLinkHtml = 'Like what you see? Visit the ' +\n",
              "            '<a target=\"_blank\" href=https://colab.research.google.com/notebooks/data_table.ipynb>data table notebook</a>'\n",
              "            + ' to learn more about interactive tables.';\n",
              "          element.innerHTML = '';\n",
              "          dataTable['output_type'] = 'display_data';\n",
              "          await google.colab.output.renderOutput(dataTable, element);\n",
              "          const docLink = document.createElement('div');\n",
              "          docLink.innerHTML = docLinkHtml;\n",
              "          element.appendChild(docLink);\n",
              "        }\n",
              "      </script>\n",
              "    </div>\n",
              "  </div>\n",
              "  "
            ]
          },
          "metadata": {},
          "execution_count": 310
        }
      ]
    },
    {
      "cell_type": "code",
      "source": [
        "#df_prophet.to_csv('SUNACTIVITY.csv')"
      ],
      "metadata": {
        "id": "XbW9AfH3pFwn"
      },
      "execution_count": 311,
      "outputs": []
    },
    {
      "cell_type": "markdown",
      "source": [
        "1.Делим данные на обучающую и проверочную выборки"
      ],
      "metadata": {
        "id": "LK9GZZqprHEb"
      }
    },
    {
      "cell_type": "code",
      "source": [
        "train_df_prophet = df_prophet[:-30]\n",
        "train_df_prophet\n"
      ],
      "metadata": {
        "colab": {
          "base_uri": "https://localhost:8080/",
          "height": 423
        },
        "id": "rWjSiBTqozZo",
        "outputId": "7091b196-8b3b-4a1e-c123-544e95c33374"
      },
      "execution_count": 312,
      "outputs": [
        {
          "output_type": "execute_result",
          "data": {
            "text/plain": [
              "             ds     y\n",
              "0    1700-01-01   5.0\n",
              "1    1701-01-01  11.0\n",
              "2    1702-01-01  16.0\n",
              "3    1703-01-01  23.0\n",
              "4    1704-01-01  36.0\n",
              "..          ...   ...\n",
              "274  1974-01-01  34.5\n",
              "275  1975-01-01  15.5\n",
              "276  1976-01-01  12.6\n",
              "277  1977-01-01  27.5\n",
              "278  1978-01-01  92.5\n",
              "\n",
              "[279 rows x 2 columns]"
            ],
            "text/html": [
              "\n",
              "  <div id=\"df-b3c2a2f2-7bac-40cc-a633-1fe067432013\">\n",
              "    <div class=\"colab-df-container\">\n",
              "      <div>\n",
              "<style scoped>\n",
              "    .dataframe tbody tr th:only-of-type {\n",
              "        vertical-align: middle;\n",
              "    }\n",
              "\n",
              "    .dataframe tbody tr th {\n",
              "        vertical-align: top;\n",
              "    }\n",
              "\n",
              "    .dataframe thead th {\n",
              "        text-align: right;\n",
              "    }\n",
              "</style>\n",
              "<table border=\"1\" class=\"dataframe\">\n",
              "  <thead>\n",
              "    <tr style=\"text-align: right;\">\n",
              "      <th></th>\n",
              "      <th>ds</th>\n",
              "      <th>y</th>\n",
              "    </tr>\n",
              "  </thead>\n",
              "  <tbody>\n",
              "    <tr>\n",
              "      <th>0</th>\n",
              "      <td>1700-01-01</td>\n",
              "      <td>5.0</td>\n",
              "    </tr>\n",
              "    <tr>\n",
              "      <th>1</th>\n",
              "      <td>1701-01-01</td>\n",
              "      <td>11.0</td>\n",
              "    </tr>\n",
              "    <tr>\n",
              "      <th>2</th>\n",
              "      <td>1702-01-01</td>\n",
              "      <td>16.0</td>\n",
              "    </tr>\n",
              "    <tr>\n",
              "      <th>3</th>\n",
              "      <td>1703-01-01</td>\n",
              "      <td>23.0</td>\n",
              "    </tr>\n",
              "    <tr>\n",
              "      <th>4</th>\n",
              "      <td>1704-01-01</td>\n",
              "      <td>36.0</td>\n",
              "    </tr>\n",
              "    <tr>\n",
              "      <th>...</th>\n",
              "      <td>...</td>\n",
              "      <td>...</td>\n",
              "    </tr>\n",
              "    <tr>\n",
              "      <th>274</th>\n",
              "      <td>1974-01-01</td>\n",
              "      <td>34.5</td>\n",
              "    </tr>\n",
              "    <tr>\n",
              "      <th>275</th>\n",
              "      <td>1975-01-01</td>\n",
              "      <td>15.5</td>\n",
              "    </tr>\n",
              "    <tr>\n",
              "      <th>276</th>\n",
              "      <td>1976-01-01</td>\n",
              "      <td>12.6</td>\n",
              "    </tr>\n",
              "    <tr>\n",
              "      <th>277</th>\n",
              "      <td>1977-01-01</td>\n",
              "      <td>27.5</td>\n",
              "    </tr>\n",
              "    <tr>\n",
              "      <th>278</th>\n",
              "      <td>1978-01-01</td>\n",
              "      <td>92.5</td>\n",
              "    </tr>\n",
              "  </tbody>\n",
              "</table>\n",
              "<p>279 rows × 2 columns</p>\n",
              "</div>\n",
              "      <button class=\"colab-df-convert\" onclick=\"convertToInteractive('df-b3c2a2f2-7bac-40cc-a633-1fe067432013')\"\n",
              "              title=\"Convert this dataframe to an interactive table.\"\n",
              "              style=\"display:none;\">\n",
              "        \n",
              "  <svg xmlns=\"http://www.w3.org/2000/svg\" height=\"24px\"viewBox=\"0 0 24 24\"\n",
              "       width=\"24px\">\n",
              "    <path d=\"M0 0h24v24H0V0z\" fill=\"none\"/>\n",
              "    <path d=\"M18.56 5.44l.94 2.06.94-2.06 2.06-.94-2.06-.94-.94-2.06-.94 2.06-2.06.94zm-11 1L8.5 8.5l.94-2.06 2.06-.94-2.06-.94L8.5 2.5l-.94 2.06-2.06.94zm10 10l.94 2.06.94-2.06 2.06-.94-2.06-.94-.94-2.06-.94 2.06-2.06.94z\"/><path d=\"M17.41 7.96l-1.37-1.37c-.4-.4-.92-.59-1.43-.59-.52 0-1.04.2-1.43.59L10.3 9.45l-7.72 7.72c-.78.78-.78 2.05 0 2.83L4 21.41c.39.39.9.59 1.41.59.51 0 1.02-.2 1.41-.59l7.78-7.78 2.81-2.81c.8-.78.8-2.07 0-2.86zM5.41 20L4 18.59l7.72-7.72 1.47 1.35L5.41 20z\"/>\n",
              "  </svg>\n",
              "      </button>\n",
              "      \n",
              "  <style>\n",
              "    .colab-df-container {\n",
              "      display:flex;\n",
              "      flex-wrap:wrap;\n",
              "      gap: 12px;\n",
              "    }\n",
              "\n",
              "    .colab-df-convert {\n",
              "      background-color: #E8F0FE;\n",
              "      border: none;\n",
              "      border-radius: 50%;\n",
              "      cursor: pointer;\n",
              "      display: none;\n",
              "      fill: #1967D2;\n",
              "      height: 32px;\n",
              "      padding: 0 0 0 0;\n",
              "      width: 32px;\n",
              "    }\n",
              "\n",
              "    .colab-df-convert:hover {\n",
              "      background-color: #E2EBFA;\n",
              "      box-shadow: 0px 1px 2px rgba(60, 64, 67, 0.3), 0px 1px 3px 1px rgba(60, 64, 67, 0.15);\n",
              "      fill: #174EA6;\n",
              "    }\n",
              "\n",
              "    [theme=dark] .colab-df-convert {\n",
              "      background-color: #3B4455;\n",
              "      fill: #D2E3FC;\n",
              "    }\n",
              "\n",
              "    [theme=dark] .colab-df-convert:hover {\n",
              "      background-color: #434B5C;\n",
              "      box-shadow: 0px 1px 3px 1px rgba(0, 0, 0, 0.15);\n",
              "      filter: drop-shadow(0px 1px 2px rgba(0, 0, 0, 0.3));\n",
              "      fill: #FFFFFF;\n",
              "    }\n",
              "  </style>\n",
              "\n",
              "      <script>\n",
              "        const buttonEl =\n",
              "          document.querySelector('#df-b3c2a2f2-7bac-40cc-a633-1fe067432013 button.colab-df-convert');\n",
              "        buttonEl.style.display =\n",
              "          google.colab.kernel.accessAllowed ? 'block' : 'none';\n",
              "\n",
              "        async function convertToInteractive(key) {\n",
              "          const element = document.querySelector('#df-b3c2a2f2-7bac-40cc-a633-1fe067432013');\n",
              "          const dataTable =\n",
              "            await google.colab.kernel.invokeFunction('convertToInteractive',\n",
              "                                                     [key], {});\n",
              "          if (!dataTable) return;\n",
              "\n",
              "          const docLinkHtml = 'Like what you see? Visit the ' +\n",
              "            '<a target=\"_blank\" href=https://colab.research.google.com/notebooks/data_table.ipynb>data table notebook</a>'\n",
              "            + ' to learn more about interactive tables.';\n",
              "          element.innerHTML = '';\n",
              "          dataTable['output_type'] = 'display_data';\n",
              "          await google.colab.output.renderOutput(dataTable, element);\n",
              "          const docLink = document.createElement('div');\n",
              "          docLink.innerHTML = docLinkHtml;\n",
              "          element.appendChild(docLink);\n",
              "        }\n",
              "      </script>\n",
              "    </div>\n",
              "  </div>\n",
              "  "
            ]
          },
          "metadata": {},
          "execution_count": 312
        }
      ]
    },
    {
      "cell_type": "markdown",
      "source": [
        "2. Строим и обучаем модель \n",
        "\n",
        "аддитивная модель: прогноз = тренд + сезонности + праздники"
      ],
      "metadata": {
        "id": "9W9A4HChriys"
      }
    },
    {
      "cell_type": "code",
      "source": [
        "model_prophet = Prophet(seasonality_mode='additive',\n",
        "                  yearly_seasonality = False,\n",
        "                  weekly_seasonality = False,\n",
        "                  daily_seasonality = False,\n",
        "                  ).add_seasonality(name='custom_seasonality',\n",
        "                                    period=150,\n",
        "                                    fourier_order = 15)\n",
        "                  \n",
        "model_prophet.fit(train_df_prophet)                "
      ],
      "metadata": {
        "colab": {
          "base_uri": "https://localhost:8080/"
        },
        "id": "FEJKdGJdt90H",
        "outputId": "3ff55324-03c6-4a87-9435-91ebf51f27da"
      },
      "execution_count": 313,
      "outputs": [
        {
          "output_type": "stream",
          "name": "stderr",
          "text": [
            "DEBUG:cmdstanpy:input tempfile: /tmp/tmp4bf_fne2/m5y66a2g.json\n",
            "DEBUG:cmdstanpy:input tempfile: /tmp/tmp4bf_fne2/ov8qb7jx.json\n",
            "DEBUG:cmdstanpy:idx 0\n",
            "DEBUG:cmdstanpy:running CmdStan, num_threads: None\n",
            "DEBUG:cmdstanpy:CmdStan args: ['/usr/local/lib/python3.8/dist-packages/prophet/stan_model/prophet_model.bin', 'random', 'seed=87668', 'data', 'file=/tmp/tmp4bf_fne2/m5y66a2g.json', 'init=/tmp/tmp4bf_fne2/ov8qb7jx.json', 'output', 'file=/tmp/tmp4bf_fne2/prophet_modelv1yih0s3/prophet_model-20230205172428.csv', 'method=optimize', 'algorithm=lbfgs', 'iter=10000']\n",
            "17:24:28 - cmdstanpy - INFO - Chain [1] start processing\n",
            "INFO:cmdstanpy:Chain [1] start processing\n",
            "17:24:28 - cmdstanpy - INFO - Chain [1] done processing\n",
            "INFO:cmdstanpy:Chain [1] done processing\n"
          ]
        },
        {
          "output_type": "execute_result",
          "data": {
            "text/plain": [
              "<prophet.forecaster.Prophet at 0x7f7441370790>"
            ]
          },
          "metadata": {},
          "execution_count": 313
        }
      ]
    },
    {
      "cell_type": "code",
      "source": [
        "train_df_prophet.tail()"
      ],
      "metadata": {
        "colab": {
          "base_uri": "https://localhost:8080/",
          "height": 206
        },
        "id": "F_uV3Pr7wYGd",
        "outputId": "b5ac4194-542c-4ded-8430-32ce8a60c783"
      },
      "execution_count": 314,
      "outputs": [
        {
          "output_type": "execute_result",
          "data": {
            "text/plain": [
              "             ds     y\n",
              "274  1974-01-01  34.5\n",
              "275  1975-01-01  15.5\n",
              "276  1976-01-01  12.6\n",
              "277  1977-01-01  27.5\n",
              "278  1978-01-01  92.5"
            ],
            "text/html": [
              "\n",
              "  <div id=\"df-308cb95d-485e-4adf-8e31-dac281d2d801\">\n",
              "    <div class=\"colab-df-container\">\n",
              "      <div>\n",
              "<style scoped>\n",
              "    .dataframe tbody tr th:only-of-type {\n",
              "        vertical-align: middle;\n",
              "    }\n",
              "\n",
              "    .dataframe tbody tr th {\n",
              "        vertical-align: top;\n",
              "    }\n",
              "\n",
              "    .dataframe thead th {\n",
              "        text-align: right;\n",
              "    }\n",
              "</style>\n",
              "<table border=\"1\" class=\"dataframe\">\n",
              "  <thead>\n",
              "    <tr style=\"text-align: right;\">\n",
              "      <th></th>\n",
              "      <th>ds</th>\n",
              "      <th>y</th>\n",
              "    </tr>\n",
              "  </thead>\n",
              "  <tbody>\n",
              "    <tr>\n",
              "      <th>274</th>\n",
              "      <td>1974-01-01</td>\n",
              "      <td>34.5</td>\n",
              "    </tr>\n",
              "    <tr>\n",
              "      <th>275</th>\n",
              "      <td>1975-01-01</td>\n",
              "      <td>15.5</td>\n",
              "    </tr>\n",
              "    <tr>\n",
              "      <th>276</th>\n",
              "      <td>1976-01-01</td>\n",
              "      <td>12.6</td>\n",
              "    </tr>\n",
              "    <tr>\n",
              "      <th>277</th>\n",
              "      <td>1977-01-01</td>\n",
              "      <td>27.5</td>\n",
              "    </tr>\n",
              "    <tr>\n",
              "      <th>278</th>\n",
              "      <td>1978-01-01</td>\n",
              "      <td>92.5</td>\n",
              "    </tr>\n",
              "  </tbody>\n",
              "</table>\n",
              "</div>\n",
              "      <button class=\"colab-df-convert\" onclick=\"convertToInteractive('df-308cb95d-485e-4adf-8e31-dac281d2d801')\"\n",
              "              title=\"Convert this dataframe to an interactive table.\"\n",
              "              style=\"display:none;\">\n",
              "        \n",
              "  <svg xmlns=\"http://www.w3.org/2000/svg\" height=\"24px\"viewBox=\"0 0 24 24\"\n",
              "       width=\"24px\">\n",
              "    <path d=\"M0 0h24v24H0V0z\" fill=\"none\"/>\n",
              "    <path d=\"M18.56 5.44l.94 2.06.94-2.06 2.06-.94-2.06-.94-.94-2.06-.94 2.06-2.06.94zm-11 1L8.5 8.5l.94-2.06 2.06-.94-2.06-.94L8.5 2.5l-.94 2.06-2.06.94zm10 10l.94 2.06.94-2.06 2.06-.94-2.06-.94-.94-2.06-.94 2.06-2.06.94z\"/><path d=\"M17.41 7.96l-1.37-1.37c-.4-.4-.92-.59-1.43-.59-.52 0-1.04.2-1.43.59L10.3 9.45l-7.72 7.72c-.78.78-.78 2.05 0 2.83L4 21.41c.39.39.9.59 1.41.59.51 0 1.02-.2 1.41-.59l7.78-7.78 2.81-2.81c.8-.78.8-2.07 0-2.86zM5.41 20L4 18.59l7.72-7.72 1.47 1.35L5.41 20z\"/>\n",
              "  </svg>\n",
              "      </button>\n",
              "      \n",
              "  <style>\n",
              "    .colab-df-container {\n",
              "      display:flex;\n",
              "      flex-wrap:wrap;\n",
              "      gap: 12px;\n",
              "    }\n",
              "\n",
              "    .colab-df-convert {\n",
              "      background-color: #E8F0FE;\n",
              "      border: none;\n",
              "      border-radius: 50%;\n",
              "      cursor: pointer;\n",
              "      display: none;\n",
              "      fill: #1967D2;\n",
              "      height: 32px;\n",
              "      padding: 0 0 0 0;\n",
              "      width: 32px;\n",
              "    }\n",
              "\n",
              "    .colab-df-convert:hover {\n",
              "      background-color: #E2EBFA;\n",
              "      box-shadow: 0px 1px 2px rgba(60, 64, 67, 0.3), 0px 1px 3px 1px rgba(60, 64, 67, 0.15);\n",
              "      fill: #174EA6;\n",
              "    }\n",
              "\n",
              "    [theme=dark] .colab-df-convert {\n",
              "      background-color: #3B4455;\n",
              "      fill: #D2E3FC;\n",
              "    }\n",
              "\n",
              "    [theme=dark] .colab-df-convert:hover {\n",
              "      background-color: #434B5C;\n",
              "      box-shadow: 0px 1px 3px 1px rgba(0, 0, 0, 0.15);\n",
              "      filter: drop-shadow(0px 1px 2px rgba(0, 0, 0, 0.3));\n",
              "      fill: #FFFFFF;\n",
              "    }\n",
              "  </style>\n",
              "\n",
              "      <script>\n",
              "        const buttonEl =\n",
              "          document.querySelector('#df-308cb95d-485e-4adf-8e31-dac281d2d801 button.colab-df-convert');\n",
              "        buttonEl.style.display =\n",
              "          google.colab.kernel.accessAllowed ? 'block' : 'none';\n",
              "\n",
              "        async function convertToInteractive(key) {\n",
              "          const element = document.querySelector('#df-308cb95d-485e-4adf-8e31-dac281d2d801');\n",
              "          const dataTable =\n",
              "            await google.colab.kernel.invokeFunction('convertToInteractive',\n",
              "                                                     [key], {});\n",
              "          if (!dataTable) return;\n",
              "\n",
              "          const docLinkHtml = 'Like what you see? Visit the ' +\n",
              "            '<a target=\"_blank\" href=https://colab.research.google.com/notebooks/data_table.ipynb>data table notebook</a>'\n",
              "            + ' to learn more about interactive tables.';\n",
              "          element.innerHTML = '';\n",
              "          dataTable['output_type'] = 'display_data';\n",
              "          await google.colab.output.renderOutput(dataTable, element);\n",
              "          const docLink = document.createElement('div');\n",
              "          docLink.innerHTML = docLinkHtml;\n",
              "          element.appendChild(docLink);\n",
              "        }\n",
              "      </script>\n",
              "    </div>\n",
              "  </div>\n",
              "  "
            ]
          },
          "metadata": {},
          "execution_count": 314
        }
      ]
    },
    {
      "cell_type": "code",
      "source": [
        "future_df = model_prophet.make_future_dataframe(periods=14, freq='Y')\n",
        "future_df"
      ],
      "metadata": {
        "colab": {
          "base_uri": "https://localhost:8080/",
          "height": 423
        },
        "id": "qhVzoaj-vz1o",
        "outputId": "fe06eca6-3b7e-4a14-eab9-2f4d3c355d04"
      },
      "execution_count": 315,
      "outputs": [
        {
          "output_type": "execute_result",
          "data": {
            "text/plain": [
              "            ds\n",
              "0   1700-01-01\n",
              "1   1701-01-01\n",
              "2   1702-01-01\n",
              "3   1703-01-01\n",
              "4   1704-01-01\n",
              "..         ...\n",
              "288 1987-12-31\n",
              "289 1988-12-31\n",
              "290 1989-12-31\n",
              "291 1990-12-31\n",
              "292 1991-12-31\n",
              "\n",
              "[293 rows x 1 columns]"
            ],
            "text/html": [
              "\n",
              "  <div id=\"df-5c622f3e-1290-4848-b1ea-51c5ecbf7fa0\">\n",
              "    <div class=\"colab-df-container\">\n",
              "      <div>\n",
              "<style scoped>\n",
              "    .dataframe tbody tr th:only-of-type {\n",
              "        vertical-align: middle;\n",
              "    }\n",
              "\n",
              "    .dataframe tbody tr th {\n",
              "        vertical-align: top;\n",
              "    }\n",
              "\n",
              "    .dataframe thead th {\n",
              "        text-align: right;\n",
              "    }\n",
              "</style>\n",
              "<table border=\"1\" class=\"dataframe\">\n",
              "  <thead>\n",
              "    <tr style=\"text-align: right;\">\n",
              "      <th></th>\n",
              "      <th>ds</th>\n",
              "    </tr>\n",
              "  </thead>\n",
              "  <tbody>\n",
              "    <tr>\n",
              "      <th>0</th>\n",
              "      <td>1700-01-01</td>\n",
              "    </tr>\n",
              "    <tr>\n",
              "      <th>1</th>\n",
              "      <td>1701-01-01</td>\n",
              "    </tr>\n",
              "    <tr>\n",
              "      <th>2</th>\n",
              "      <td>1702-01-01</td>\n",
              "    </tr>\n",
              "    <tr>\n",
              "      <th>3</th>\n",
              "      <td>1703-01-01</td>\n",
              "    </tr>\n",
              "    <tr>\n",
              "      <th>4</th>\n",
              "      <td>1704-01-01</td>\n",
              "    </tr>\n",
              "    <tr>\n",
              "      <th>...</th>\n",
              "      <td>...</td>\n",
              "    </tr>\n",
              "    <tr>\n",
              "      <th>288</th>\n",
              "      <td>1987-12-31</td>\n",
              "    </tr>\n",
              "    <tr>\n",
              "      <th>289</th>\n",
              "      <td>1988-12-31</td>\n",
              "    </tr>\n",
              "    <tr>\n",
              "      <th>290</th>\n",
              "      <td>1989-12-31</td>\n",
              "    </tr>\n",
              "    <tr>\n",
              "      <th>291</th>\n",
              "      <td>1990-12-31</td>\n",
              "    </tr>\n",
              "    <tr>\n",
              "      <th>292</th>\n",
              "      <td>1991-12-31</td>\n",
              "    </tr>\n",
              "  </tbody>\n",
              "</table>\n",
              "<p>293 rows × 1 columns</p>\n",
              "</div>\n",
              "      <button class=\"colab-df-convert\" onclick=\"convertToInteractive('df-5c622f3e-1290-4848-b1ea-51c5ecbf7fa0')\"\n",
              "              title=\"Convert this dataframe to an interactive table.\"\n",
              "              style=\"display:none;\">\n",
              "        \n",
              "  <svg xmlns=\"http://www.w3.org/2000/svg\" height=\"24px\"viewBox=\"0 0 24 24\"\n",
              "       width=\"24px\">\n",
              "    <path d=\"M0 0h24v24H0V0z\" fill=\"none\"/>\n",
              "    <path d=\"M18.56 5.44l.94 2.06.94-2.06 2.06-.94-2.06-.94-.94-2.06-.94 2.06-2.06.94zm-11 1L8.5 8.5l.94-2.06 2.06-.94-2.06-.94L8.5 2.5l-.94 2.06-2.06.94zm10 10l.94 2.06.94-2.06 2.06-.94-2.06-.94-.94-2.06-.94 2.06-2.06.94z\"/><path d=\"M17.41 7.96l-1.37-1.37c-.4-.4-.92-.59-1.43-.59-.52 0-1.04.2-1.43.59L10.3 9.45l-7.72 7.72c-.78.78-.78 2.05 0 2.83L4 21.41c.39.39.9.59 1.41.59.51 0 1.02-.2 1.41-.59l7.78-7.78 2.81-2.81c.8-.78.8-2.07 0-2.86zM5.41 20L4 18.59l7.72-7.72 1.47 1.35L5.41 20z\"/>\n",
              "  </svg>\n",
              "      </button>\n",
              "      \n",
              "  <style>\n",
              "    .colab-df-container {\n",
              "      display:flex;\n",
              "      flex-wrap:wrap;\n",
              "      gap: 12px;\n",
              "    }\n",
              "\n",
              "    .colab-df-convert {\n",
              "      background-color: #E8F0FE;\n",
              "      border: none;\n",
              "      border-radius: 50%;\n",
              "      cursor: pointer;\n",
              "      display: none;\n",
              "      fill: #1967D2;\n",
              "      height: 32px;\n",
              "      padding: 0 0 0 0;\n",
              "      width: 32px;\n",
              "    }\n",
              "\n",
              "    .colab-df-convert:hover {\n",
              "      background-color: #E2EBFA;\n",
              "      box-shadow: 0px 1px 2px rgba(60, 64, 67, 0.3), 0px 1px 3px 1px rgba(60, 64, 67, 0.15);\n",
              "      fill: #174EA6;\n",
              "    }\n",
              "\n",
              "    [theme=dark] .colab-df-convert {\n",
              "      background-color: #3B4455;\n",
              "      fill: #D2E3FC;\n",
              "    }\n",
              "\n",
              "    [theme=dark] .colab-df-convert:hover {\n",
              "      background-color: #434B5C;\n",
              "      box-shadow: 0px 1px 3px 1px rgba(0, 0, 0, 0.15);\n",
              "      filter: drop-shadow(0px 1px 2px rgba(0, 0, 0, 0.3));\n",
              "      fill: #FFFFFF;\n",
              "    }\n",
              "  </style>\n",
              "\n",
              "      <script>\n",
              "        const buttonEl =\n",
              "          document.querySelector('#df-5c622f3e-1290-4848-b1ea-51c5ecbf7fa0 button.colab-df-convert');\n",
              "        buttonEl.style.display =\n",
              "          google.colab.kernel.accessAllowed ? 'block' : 'none';\n",
              "\n",
              "        async function convertToInteractive(key) {\n",
              "          const element = document.querySelector('#df-5c622f3e-1290-4848-b1ea-51c5ecbf7fa0');\n",
              "          const dataTable =\n",
              "            await google.colab.kernel.invokeFunction('convertToInteractive',\n",
              "                                                     [key], {});\n",
              "          if (!dataTable) return;\n",
              "\n",
              "          const docLinkHtml = 'Like what you see? Visit the ' +\n",
              "            '<a target=\"_blank\" href=https://colab.research.google.com/notebooks/data_table.ipynb>data table notebook</a>'\n",
              "            + ' to learn more about interactive tables.';\n",
              "          element.innerHTML = '';\n",
              "          dataTable['output_type'] = 'display_data';\n",
              "          await google.colab.output.renderOutput(dataTable, element);\n",
              "          const docLink = document.createElement('div');\n",
              "          docLink.innerHTML = docLinkHtml;\n",
              "          element.appendChild(docLink);\n",
              "        }\n",
              "      </script>\n",
              "    </div>\n",
              "  </div>\n",
              "  "
            ]
          },
          "metadata": {},
          "execution_count": 315
        }
      ]
    },
    {
      "cell_type": "markdown",
      "source": [
        "3.Делаем прогноз "
      ],
      "metadata": {
        "id": "xHxpZC5Oxgpf"
      }
    },
    {
      "cell_type": "code",
      "source": [
        "fcast_prophet = model_prophet.predict(future_df)\n",
        "fcast_prophet"
      ],
      "metadata": {
        "colab": {
          "base_uri": "https://localhost:8080/",
          "height": 661
        },
        "id": "X0viII5Xxqb0",
        "outputId": "e7e377f7-975f-44f2-b8fd-27cceb6701d6"
      },
      "execution_count": 316,
      "outputs": [
        {
          "output_type": "execute_result",
          "data": {
            "text/plain": [
              "            ds      trend  yhat_lower  yhat_upper  trend_lower  trend_upper  \\\n",
              "0   1700-01-01  34.652538   -5.219778   76.517369    34.652538    34.652538   \n",
              "1   1701-01-01  34.746206    1.209998   87.469784    34.746206    34.746206   \n",
              "2   1702-01-01  34.839875    0.910496   84.402363    34.839875    34.839875   \n",
              "3   1703-01-01  34.933543   18.158744   97.733759    34.933543    34.933543   \n",
              "4   1704-01-01  35.027212   15.374686  100.157609    35.027212    35.027212   \n",
              "..         ...        ...         ...         ...          ...          ...   \n",
              "288 1987-12-31  60.920522    8.243011   93.902776    60.919521    60.921566   \n",
              "289 1988-12-31  61.012128   -6.618613   78.477433    61.010954    61.013380   \n",
              "290 1989-12-31  61.103483   -4.725671   85.062443    61.102111    61.104958   \n",
              "291 1990-12-31  61.194839    2.705457   84.896191    61.193254    61.196546   \n",
              "292 1991-12-31  61.286194    3.526532   89.469833    61.284399    61.288199   \n",
              "\n",
              "     additive_terms  additive_terms_lower  additive_terms_upper  \\\n",
              "0          0.148686              0.148686              0.148686   \n",
              "1          9.311596              9.311596              9.311596   \n",
              "2         10.467270             10.467270             10.467270   \n",
              "3         21.463767             21.463767             21.463767   \n",
              "4         23.538994             23.538994             23.538994   \n",
              "..              ...                   ...                   ...   \n",
              "288       -9.071890             -9.071890             -9.071890   \n",
              "289      -26.128406            -26.128406            -26.128406   \n",
              "290      -19.801046            -19.801046            -19.801046   \n",
              "291      -16.408022            -16.408022            -16.408022   \n",
              "292      -13.914263            -13.914263            -13.914263   \n",
              "\n",
              "     custom_seasonality  custom_seasonality_lower  custom_seasonality_upper  \\\n",
              "0              0.148686                  0.148686                  0.148686   \n",
              "1              9.311596                  9.311596                  9.311596   \n",
              "2             10.467270                 10.467270                 10.467270   \n",
              "3             21.463767                 21.463767                 21.463767   \n",
              "4             23.538994                 23.538994                 23.538994   \n",
              "..                  ...                       ...                       ...   \n",
              "288           -9.071890                 -9.071890                 -9.071890   \n",
              "289          -26.128406                -26.128406                -26.128406   \n",
              "290          -19.801046                -19.801046                -19.801046   \n",
              "291          -16.408022                -16.408022                -16.408022   \n",
              "292          -13.914263                -13.914263                -13.914263   \n",
              "\n",
              "     multiplicative_terms  multiplicative_terms_lower  \\\n",
              "0                     0.0                         0.0   \n",
              "1                     0.0                         0.0   \n",
              "2                     0.0                         0.0   \n",
              "3                     0.0                         0.0   \n",
              "4                     0.0                         0.0   \n",
              "..                    ...                         ...   \n",
              "288                   0.0                         0.0   \n",
              "289                   0.0                         0.0   \n",
              "290                   0.0                         0.0   \n",
              "291                   0.0                         0.0   \n",
              "292                   0.0                         0.0   \n",
              "\n",
              "     multiplicative_terms_upper       yhat  \n",
              "0                           0.0  34.801224  \n",
              "1                           0.0  44.057802  \n",
              "2                           0.0  45.307145  \n",
              "3                           0.0  56.397310  \n",
              "4                           0.0  58.566206  \n",
              "..                          ...        ...  \n",
              "288                         0.0  51.848632  \n",
              "289                         0.0  34.883722  \n",
              "290                         0.0  41.302438  \n",
              "291                         0.0  44.786817  \n",
              "292                         0.0  47.371931  \n",
              "\n",
              "[293 rows x 16 columns]"
            ],
            "text/html": [
              "\n",
              "  <div id=\"df-bf57068a-aa2f-49bb-9bc4-7b490b6f16c9\">\n",
              "    <div class=\"colab-df-container\">\n",
              "      <div>\n",
              "<style scoped>\n",
              "    .dataframe tbody tr th:only-of-type {\n",
              "        vertical-align: middle;\n",
              "    }\n",
              "\n",
              "    .dataframe tbody tr th {\n",
              "        vertical-align: top;\n",
              "    }\n",
              "\n",
              "    .dataframe thead th {\n",
              "        text-align: right;\n",
              "    }\n",
              "</style>\n",
              "<table border=\"1\" class=\"dataframe\">\n",
              "  <thead>\n",
              "    <tr style=\"text-align: right;\">\n",
              "      <th></th>\n",
              "      <th>ds</th>\n",
              "      <th>trend</th>\n",
              "      <th>yhat_lower</th>\n",
              "      <th>yhat_upper</th>\n",
              "      <th>trend_lower</th>\n",
              "      <th>trend_upper</th>\n",
              "      <th>additive_terms</th>\n",
              "      <th>additive_terms_lower</th>\n",
              "      <th>additive_terms_upper</th>\n",
              "      <th>custom_seasonality</th>\n",
              "      <th>custom_seasonality_lower</th>\n",
              "      <th>custom_seasonality_upper</th>\n",
              "      <th>multiplicative_terms</th>\n",
              "      <th>multiplicative_terms_lower</th>\n",
              "      <th>multiplicative_terms_upper</th>\n",
              "      <th>yhat</th>\n",
              "    </tr>\n",
              "  </thead>\n",
              "  <tbody>\n",
              "    <tr>\n",
              "      <th>0</th>\n",
              "      <td>1700-01-01</td>\n",
              "      <td>34.652538</td>\n",
              "      <td>-5.219778</td>\n",
              "      <td>76.517369</td>\n",
              "      <td>34.652538</td>\n",
              "      <td>34.652538</td>\n",
              "      <td>0.148686</td>\n",
              "      <td>0.148686</td>\n",
              "      <td>0.148686</td>\n",
              "      <td>0.148686</td>\n",
              "      <td>0.148686</td>\n",
              "      <td>0.148686</td>\n",
              "      <td>0.0</td>\n",
              "      <td>0.0</td>\n",
              "      <td>0.0</td>\n",
              "      <td>34.801224</td>\n",
              "    </tr>\n",
              "    <tr>\n",
              "      <th>1</th>\n",
              "      <td>1701-01-01</td>\n",
              "      <td>34.746206</td>\n",
              "      <td>1.209998</td>\n",
              "      <td>87.469784</td>\n",
              "      <td>34.746206</td>\n",
              "      <td>34.746206</td>\n",
              "      <td>9.311596</td>\n",
              "      <td>9.311596</td>\n",
              "      <td>9.311596</td>\n",
              "      <td>9.311596</td>\n",
              "      <td>9.311596</td>\n",
              "      <td>9.311596</td>\n",
              "      <td>0.0</td>\n",
              "      <td>0.0</td>\n",
              "      <td>0.0</td>\n",
              "      <td>44.057802</td>\n",
              "    </tr>\n",
              "    <tr>\n",
              "      <th>2</th>\n",
              "      <td>1702-01-01</td>\n",
              "      <td>34.839875</td>\n",
              "      <td>0.910496</td>\n",
              "      <td>84.402363</td>\n",
              "      <td>34.839875</td>\n",
              "      <td>34.839875</td>\n",
              "      <td>10.467270</td>\n",
              "      <td>10.467270</td>\n",
              "      <td>10.467270</td>\n",
              "      <td>10.467270</td>\n",
              "      <td>10.467270</td>\n",
              "      <td>10.467270</td>\n",
              "      <td>0.0</td>\n",
              "      <td>0.0</td>\n",
              "      <td>0.0</td>\n",
              "      <td>45.307145</td>\n",
              "    </tr>\n",
              "    <tr>\n",
              "      <th>3</th>\n",
              "      <td>1703-01-01</td>\n",
              "      <td>34.933543</td>\n",
              "      <td>18.158744</td>\n",
              "      <td>97.733759</td>\n",
              "      <td>34.933543</td>\n",
              "      <td>34.933543</td>\n",
              "      <td>21.463767</td>\n",
              "      <td>21.463767</td>\n",
              "      <td>21.463767</td>\n",
              "      <td>21.463767</td>\n",
              "      <td>21.463767</td>\n",
              "      <td>21.463767</td>\n",
              "      <td>0.0</td>\n",
              "      <td>0.0</td>\n",
              "      <td>0.0</td>\n",
              "      <td>56.397310</td>\n",
              "    </tr>\n",
              "    <tr>\n",
              "      <th>4</th>\n",
              "      <td>1704-01-01</td>\n",
              "      <td>35.027212</td>\n",
              "      <td>15.374686</td>\n",
              "      <td>100.157609</td>\n",
              "      <td>35.027212</td>\n",
              "      <td>35.027212</td>\n",
              "      <td>23.538994</td>\n",
              "      <td>23.538994</td>\n",
              "      <td>23.538994</td>\n",
              "      <td>23.538994</td>\n",
              "      <td>23.538994</td>\n",
              "      <td>23.538994</td>\n",
              "      <td>0.0</td>\n",
              "      <td>0.0</td>\n",
              "      <td>0.0</td>\n",
              "      <td>58.566206</td>\n",
              "    </tr>\n",
              "    <tr>\n",
              "      <th>...</th>\n",
              "      <td>...</td>\n",
              "      <td>...</td>\n",
              "      <td>...</td>\n",
              "      <td>...</td>\n",
              "      <td>...</td>\n",
              "      <td>...</td>\n",
              "      <td>...</td>\n",
              "      <td>...</td>\n",
              "      <td>...</td>\n",
              "      <td>...</td>\n",
              "      <td>...</td>\n",
              "      <td>...</td>\n",
              "      <td>...</td>\n",
              "      <td>...</td>\n",
              "      <td>...</td>\n",
              "      <td>...</td>\n",
              "    </tr>\n",
              "    <tr>\n",
              "      <th>288</th>\n",
              "      <td>1987-12-31</td>\n",
              "      <td>60.920522</td>\n",
              "      <td>8.243011</td>\n",
              "      <td>93.902776</td>\n",
              "      <td>60.919521</td>\n",
              "      <td>60.921566</td>\n",
              "      <td>-9.071890</td>\n",
              "      <td>-9.071890</td>\n",
              "      <td>-9.071890</td>\n",
              "      <td>-9.071890</td>\n",
              "      <td>-9.071890</td>\n",
              "      <td>-9.071890</td>\n",
              "      <td>0.0</td>\n",
              "      <td>0.0</td>\n",
              "      <td>0.0</td>\n",
              "      <td>51.848632</td>\n",
              "    </tr>\n",
              "    <tr>\n",
              "      <th>289</th>\n",
              "      <td>1988-12-31</td>\n",
              "      <td>61.012128</td>\n",
              "      <td>-6.618613</td>\n",
              "      <td>78.477433</td>\n",
              "      <td>61.010954</td>\n",
              "      <td>61.013380</td>\n",
              "      <td>-26.128406</td>\n",
              "      <td>-26.128406</td>\n",
              "      <td>-26.128406</td>\n",
              "      <td>-26.128406</td>\n",
              "      <td>-26.128406</td>\n",
              "      <td>-26.128406</td>\n",
              "      <td>0.0</td>\n",
              "      <td>0.0</td>\n",
              "      <td>0.0</td>\n",
              "      <td>34.883722</td>\n",
              "    </tr>\n",
              "    <tr>\n",
              "      <th>290</th>\n",
              "      <td>1989-12-31</td>\n",
              "      <td>61.103483</td>\n",
              "      <td>-4.725671</td>\n",
              "      <td>85.062443</td>\n",
              "      <td>61.102111</td>\n",
              "      <td>61.104958</td>\n",
              "      <td>-19.801046</td>\n",
              "      <td>-19.801046</td>\n",
              "      <td>-19.801046</td>\n",
              "      <td>-19.801046</td>\n",
              "      <td>-19.801046</td>\n",
              "      <td>-19.801046</td>\n",
              "      <td>0.0</td>\n",
              "      <td>0.0</td>\n",
              "      <td>0.0</td>\n",
              "      <td>41.302438</td>\n",
              "    </tr>\n",
              "    <tr>\n",
              "      <th>291</th>\n",
              "      <td>1990-12-31</td>\n",
              "      <td>61.194839</td>\n",
              "      <td>2.705457</td>\n",
              "      <td>84.896191</td>\n",
              "      <td>61.193254</td>\n",
              "      <td>61.196546</td>\n",
              "      <td>-16.408022</td>\n",
              "      <td>-16.408022</td>\n",
              "      <td>-16.408022</td>\n",
              "      <td>-16.408022</td>\n",
              "      <td>-16.408022</td>\n",
              "      <td>-16.408022</td>\n",
              "      <td>0.0</td>\n",
              "      <td>0.0</td>\n",
              "      <td>0.0</td>\n",
              "      <td>44.786817</td>\n",
              "    </tr>\n",
              "    <tr>\n",
              "      <th>292</th>\n",
              "      <td>1991-12-31</td>\n",
              "      <td>61.286194</td>\n",
              "      <td>3.526532</td>\n",
              "      <td>89.469833</td>\n",
              "      <td>61.284399</td>\n",
              "      <td>61.288199</td>\n",
              "      <td>-13.914263</td>\n",
              "      <td>-13.914263</td>\n",
              "      <td>-13.914263</td>\n",
              "      <td>-13.914263</td>\n",
              "      <td>-13.914263</td>\n",
              "      <td>-13.914263</td>\n",
              "      <td>0.0</td>\n",
              "      <td>0.0</td>\n",
              "      <td>0.0</td>\n",
              "      <td>47.371931</td>\n",
              "    </tr>\n",
              "  </tbody>\n",
              "</table>\n",
              "<p>293 rows × 16 columns</p>\n",
              "</div>\n",
              "      <button class=\"colab-df-convert\" onclick=\"convertToInteractive('df-bf57068a-aa2f-49bb-9bc4-7b490b6f16c9')\"\n",
              "              title=\"Convert this dataframe to an interactive table.\"\n",
              "              style=\"display:none;\">\n",
              "        \n",
              "  <svg xmlns=\"http://www.w3.org/2000/svg\" height=\"24px\"viewBox=\"0 0 24 24\"\n",
              "       width=\"24px\">\n",
              "    <path d=\"M0 0h24v24H0V0z\" fill=\"none\"/>\n",
              "    <path d=\"M18.56 5.44l.94 2.06.94-2.06 2.06-.94-2.06-.94-.94-2.06-.94 2.06-2.06.94zm-11 1L8.5 8.5l.94-2.06 2.06-.94-2.06-.94L8.5 2.5l-.94 2.06-2.06.94zm10 10l.94 2.06.94-2.06 2.06-.94-2.06-.94-.94-2.06-.94 2.06-2.06.94z\"/><path d=\"M17.41 7.96l-1.37-1.37c-.4-.4-.92-.59-1.43-.59-.52 0-1.04.2-1.43.59L10.3 9.45l-7.72 7.72c-.78.78-.78 2.05 0 2.83L4 21.41c.39.39.9.59 1.41.59.51 0 1.02-.2 1.41-.59l7.78-7.78 2.81-2.81c.8-.78.8-2.07 0-2.86zM5.41 20L4 18.59l7.72-7.72 1.47 1.35L5.41 20z\"/>\n",
              "  </svg>\n",
              "      </button>\n",
              "      \n",
              "  <style>\n",
              "    .colab-df-container {\n",
              "      display:flex;\n",
              "      flex-wrap:wrap;\n",
              "      gap: 12px;\n",
              "    }\n",
              "\n",
              "    .colab-df-convert {\n",
              "      background-color: #E8F0FE;\n",
              "      border: none;\n",
              "      border-radius: 50%;\n",
              "      cursor: pointer;\n",
              "      display: none;\n",
              "      fill: #1967D2;\n",
              "      height: 32px;\n",
              "      padding: 0 0 0 0;\n",
              "      width: 32px;\n",
              "    }\n",
              "\n",
              "    .colab-df-convert:hover {\n",
              "      background-color: #E2EBFA;\n",
              "      box-shadow: 0px 1px 2px rgba(60, 64, 67, 0.3), 0px 1px 3px 1px rgba(60, 64, 67, 0.15);\n",
              "      fill: #174EA6;\n",
              "    }\n",
              "\n",
              "    [theme=dark] .colab-df-convert {\n",
              "      background-color: #3B4455;\n",
              "      fill: #D2E3FC;\n",
              "    }\n",
              "\n",
              "    [theme=dark] .colab-df-convert:hover {\n",
              "      background-color: #434B5C;\n",
              "      box-shadow: 0px 1px 3px 1px rgba(0, 0, 0, 0.15);\n",
              "      filter: drop-shadow(0px 1px 2px rgba(0, 0, 0, 0.3));\n",
              "      fill: #FFFFFF;\n",
              "    }\n",
              "  </style>\n",
              "\n",
              "      <script>\n",
              "        const buttonEl =\n",
              "          document.querySelector('#df-bf57068a-aa2f-49bb-9bc4-7b490b6f16c9 button.colab-df-convert');\n",
              "        buttonEl.style.display =\n",
              "          google.colab.kernel.accessAllowed ? 'block' : 'none';\n",
              "\n",
              "        async function convertToInteractive(key) {\n",
              "          const element = document.querySelector('#df-bf57068a-aa2f-49bb-9bc4-7b490b6f16c9');\n",
              "          const dataTable =\n",
              "            await google.colab.kernel.invokeFunction('convertToInteractive',\n",
              "                                                     [key], {});\n",
              "          if (!dataTable) return;\n",
              "\n",
              "          const docLinkHtml = 'Like what you see? Visit the ' +\n",
              "            '<a target=\"_blank\" href=https://colab.research.google.com/notebooks/data_table.ipynb>data table notebook</a>'\n",
              "            + ' to learn more about interactive tables.';\n",
              "          element.innerHTML = '';\n",
              "          dataTable['output_type'] = 'display_data';\n",
              "          await google.colab.output.renderOutput(dataTable, element);\n",
              "          const docLink = document.createElement('div');\n",
              "          docLink.innerHTML = docLinkHtml;\n",
              "          element.appendChild(docLink);\n",
              "        }\n",
              "      </script>\n",
              "    </div>\n",
              "  </div>\n",
              "  "
            ]
          },
          "metadata": {},
          "execution_count": 316
        }
      ]
    },
    {
      "cell_type": "markdown",
      "source": [
        "4.Сравниваем предсказания с данными обучающей выборки"
      ],
      "metadata": {
        "id": "URsg5Q-IypsJ"
      }
    },
    {
      "cell_type": "code",
      "source": [
        "df_pred = fcast_prophet[['ds', 'trend', 'custom_seasonality', 'yhat']].copy()\n",
        "df_pred['ds'] = df_pred['ds'].astype('object')\n",
        "df_pred['ds'] = pd.to_datetime(df_pred['ds']).dt.date\n",
        "\n",
        "future_df['ds'] = future_df['ds'].astype('object')\n",
        "future_df['ds'] = pd.to_datetime(future_df['ds']).dt.date\n",
        "\n",
        "df_prophet['ds'] = df_prophet['ds'].astype('object')\n",
        "df_prophet['ds'] = pd.to_datetime(df_prophet['ds']).dt.date\n",
        "\n",
        "df_pred = df_pred.merge(future_df, on ='ds').merge(df_prophet, on='ds', how='left')\n",
        "df_pred.tail()"
      ],
      "metadata": {
        "colab": {
          "base_uri": "https://localhost:8080/",
          "height": 206
        },
        "id": "jDYgJsmly6Hc",
        "outputId": "5abc0b4d-699d-4120-ddfd-52745ddb99a8"
      },
      "execution_count": 320,
      "outputs": [
        {
          "output_type": "execute_result",
          "data": {
            "text/plain": [
              "             ds      trend  custom_seasonality       yhat   y\n",
              "288  1987-12-31  60.920522           -9.071890  51.848632 NaN\n",
              "289  1988-12-31  61.012128          -26.128406  34.883722 NaN\n",
              "290  1989-12-31  61.103483          -19.801046  41.302438 NaN\n",
              "291  1990-12-31  61.194839          -16.408022  44.786817 NaN\n",
              "292  1991-12-31  61.286194          -13.914263  47.371931 NaN"
            ],
            "text/html": [
              "\n",
              "  <div id=\"df-45ba36ff-70da-4bfb-9ae5-85ed7d3cd817\">\n",
              "    <div class=\"colab-df-container\">\n",
              "      <div>\n",
              "<style scoped>\n",
              "    .dataframe tbody tr th:only-of-type {\n",
              "        vertical-align: middle;\n",
              "    }\n",
              "\n",
              "    .dataframe tbody tr th {\n",
              "        vertical-align: top;\n",
              "    }\n",
              "\n",
              "    .dataframe thead th {\n",
              "        text-align: right;\n",
              "    }\n",
              "</style>\n",
              "<table border=\"1\" class=\"dataframe\">\n",
              "  <thead>\n",
              "    <tr style=\"text-align: right;\">\n",
              "      <th></th>\n",
              "      <th>ds</th>\n",
              "      <th>trend</th>\n",
              "      <th>custom_seasonality</th>\n",
              "      <th>yhat</th>\n",
              "      <th>y</th>\n",
              "    </tr>\n",
              "  </thead>\n",
              "  <tbody>\n",
              "    <tr>\n",
              "      <th>288</th>\n",
              "      <td>1987-12-31</td>\n",
              "      <td>60.920522</td>\n",
              "      <td>-9.071890</td>\n",
              "      <td>51.848632</td>\n",
              "      <td>NaN</td>\n",
              "    </tr>\n",
              "    <tr>\n",
              "      <th>289</th>\n",
              "      <td>1988-12-31</td>\n",
              "      <td>61.012128</td>\n",
              "      <td>-26.128406</td>\n",
              "      <td>34.883722</td>\n",
              "      <td>NaN</td>\n",
              "    </tr>\n",
              "    <tr>\n",
              "      <th>290</th>\n",
              "      <td>1989-12-31</td>\n",
              "      <td>61.103483</td>\n",
              "      <td>-19.801046</td>\n",
              "      <td>41.302438</td>\n",
              "      <td>NaN</td>\n",
              "    </tr>\n",
              "    <tr>\n",
              "      <th>291</th>\n",
              "      <td>1990-12-31</td>\n",
              "      <td>61.194839</td>\n",
              "      <td>-16.408022</td>\n",
              "      <td>44.786817</td>\n",
              "      <td>NaN</td>\n",
              "    </tr>\n",
              "    <tr>\n",
              "      <th>292</th>\n",
              "      <td>1991-12-31</td>\n",
              "      <td>61.286194</td>\n",
              "      <td>-13.914263</td>\n",
              "      <td>47.371931</td>\n",
              "      <td>NaN</td>\n",
              "    </tr>\n",
              "  </tbody>\n",
              "</table>\n",
              "</div>\n",
              "      <button class=\"colab-df-convert\" onclick=\"convertToInteractive('df-45ba36ff-70da-4bfb-9ae5-85ed7d3cd817')\"\n",
              "              title=\"Convert this dataframe to an interactive table.\"\n",
              "              style=\"display:none;\">\n",
              "        \n",
              "  <svg xmlns=\"http://www.w3.org/2000/svg\" height=\"24px\"viewBox=\"0 0 24 24\"\n",
              "       width=\"24px\">\n",
              "    <path d=\"M0 0h24v24H0V0z\" fill=\"none\"/>\n",
              "    <path d=\"M18.56 5.44l.94 2.06.94-2.06 2.06-.94-2.06-.94-.94-2.06-.94 2.06-2.06.94zm-11 1L8.5 8.5l.94-2.06 2.06-.94-2.06-.94L8.5 2.5l-.94 2.06-2.06.94zm10 10l.94 2.06.94-2.06 2.06-.94-2.06-.94-.94-2.06-.94 2.06-2.06.94z\"/><path d=\"M17.41 7.96l-1.37-1.37c-.4-.4-.92-.59-1.43-.59-.52 0-1.04.2-1.43.59L10.3 9.45l-7.72 7.72c-.78.78-.78 2.05 0 2.83L4 21.41c.39.39.9.59 1.41.59.51 0 1.02-.2 1.41-.59l7.78-7.78 2.81-2.81c.8-.78.8-2.07 0-2.86zM5.41 20L4 18.59l7.72-7.72 1.47 1.35L5.41 20z\"/>\n",
              "  </svg>\n",
              "      </button>\n",
              "      \n",
              "  <style>\n",
              "    .colab-df-container {\n",
              "      display:flex;\n",
              "      flex-wrap:wrap;\n",
              "      gap: 12px;\n",
              "    }\n",
              "\n",
              "    .colab-df-convert {\n",
              "      background-color: #E8F0FE;\n",
              "      border: none;\n",
              "      border-radius: 50%;\n",
              "      cursor: pointer;\n",
              "      display: none;\n",
              "      fill: #1967D2;\n",
              "      height: 32px;\n",
              "      padding: 0 0 0 0;\n",
              "      width: 32px;\n",
              "    }\n",
              "\n",
              "    .colab-df-convert:hover {\n",
              "      background-color: #E2EBFA;\n",
              "      box-shadow: 0px 1px 2px rgba(60, 64, 67, 0.3), 0px 1px 3px 1px rgba(60, 64, 67, 0.15);\n",
              "      fill: #174EA6;\n",
              "    }\n",
              "\n",
              "    [theme=dark] .colab-df-convert {\n",
              "      background-color: #3B4455;\n",
              "      fill: #D2E3FC;\n",
              "    }\n",
              "\n",
              "    [theme=dark] .colab-df-convert:hover {\n",
              "      background-color: #434B5C;\n",
              "      box-shadow: 0px 1px 3px 1px rgba(0, 0, 0, 0.15);\n",
              "      filter: drop-shadow(0px 1px 2px rgba(0, 0, 0, 0.3));\n",
              "      fill: #FFFFFF;\n",
              "    }\n",
              "  </style>\n",
              "\n",
              "      <script>\n",
              "        const buttonEl =\n",
              "          document.querySelector('#df-45ba36ff-70da-4bfb-9ae5-85ed7d3cd817 button.colab-df-convert');\n",
              "        buttonEl.style.display =\n",
              "          google.colab.kernel.accessAllowed ? 'block' : 'none';\n",
              "\n",
              "        async function convertToInteractive(key) {\n",
              "          const element = document.querySelector('#df-45ba36ff-70da-4bfb-9ae5-85ed7d3cd817');\n",
              "          const dataTable =\n",
              "            await google.colab.kernel.invokeFunction('convertToInteractive',\n",
              "                                                     [key], {});\n",
              "          if (!dataTable) return;\n",
              "\n",
              "          const docLinkHtml = 'Like what you see? Visit the ' +\n",
              "            '<a target=\"_blank\" href=https://colab.research.google.com/notebooks/data_table.ipynb>data table notebook</a>'\n",
              "            + ' to learn more about interactive tables.';\n",
              "          element.innerHTML = '';\n",
              "          dataTable['output_type'] = 'display_data';\n",
              "          await google.colab.output.renderOutput(dataTable, element);\n",
              "          const docLink = document.createElement('div');\n",
              "          docLink.innerHTML = docLinkHtml;\n",
              "          element.appendChild(docLink);\n",
              "        }\n",
              "      </script>\n",
              "    </div>\n",
              "  </div>\n",
              "  "
            ]
          },
          "metadata": {},
          "execution_count": 320
        }
      ]
    },
    {
      "cell_type": "code",
      "source": [
        "import plotly.graph_objects as go\n",
        "\n",
        "fig = go.Figure()\n",
        "fig.add_trace(go.Scatter(x=df_pred['ds'], y=df_pred['y'],\n",
        "                    mode='lines+markers',\n",
        "                    name='y'))\n",
        "fig.add_trace(go.Scatter(x=df_pred['ds'], y=df_pred['yhat'],\n",
        "                    mode='lines+markers',\n",
        "                    name='yhat'))\n",
        "fig.add_trace(go.Scatter(x=df_pred['ds'], y=df_pred['custom_seasonality'],\n",
        "                    mode='lines',\n",
        "                    name='custom_seasonality'))\n",
        "fig.add_trace(go.Scatter(x=df_pred['ds'], y=df_pred['trend'],\n",
        "                    mode='lines',\n",
        "                    name='trend'))\n",
        "\n",
        "fig.show()"
      ],
      "metadata": {
        "colab": {
          "base_uri": "https://localhost:8080/",
          "height": 542
        },
        "id": "SYYuGUibzNx-",
        "outputId": "b26a4002-8d6d-4441-9683-19e4c31b389d"
      },
      "execution_count": 321,
      "outputs": [
        {
          "output_type": "display_data",
          "data": {
            "text/html": [
              "<html>\n",
              "<head><meta charset=\"utf-8\" /></head>\n",
              "<body>\n",
              "    <div>            <script src=\"https://cdnjs.cloudflare.com/ajax/libs/mathjax/2.7.5/MathJax.js?config=TeX-AMS-MML_SVG\"></script><script type=\"text/javascript\">if (window.MathJax) {MathJax.Hub.Config({SVG: {font: \"STIX-Web\"}});}</script>                <script type=\"text/javascript\">window.PlotlyConfig = {MathJaxConfig: 'local'};</script>\n",
              "        <script src=\"https://cdn.plot.ly/plotly-2.8.3.min.js\"></script>                <div id=\"55de53d0-bb06-4339-90b9-f6c8eefa8cb1\" class=\"plotly-graph-div\" style=\"height:525px; width:100%;\"></div>            <script type=\"text/javascript\">                                    window.PLOTLYENV=window.PLOTLYENV || {};                                    if (document.getElementById(\"55de53d0-bb06-4339-90b9-f6c8eefa8cb1\")) {                    Plotly.newPlot(                        \"55de53d0-bb06-4339-90b9-f6c8eefa8cb1\",                        [{\"mode\":\"lines+markers\",\"name\":\"y\",\"x\":[\"1700-01-01\",\"1701-01-01\",\"1702-01-01\",\"1703-01-01\",\"1704-01-01\",\"1705-01-01\",\"1706-01-01\",\"1707-01-01\",\"1708-01-01\",\"1709-01-01\",\"1710-01-01\",\"1711-01-01\",\"1712-01-01\",\"1713-01-01\",\"1714-01-01\",\"1715-01-01\",\"1716-01-01\",\"1717-01-01\",\"1718-01-01\",\"1719-01-01\",\"1720-01-01\",\"1721-01-01\",\"1722-01-01\",\"1723-01-01\",\"1724-01-01\",\"1725-01-01\",\"1726-01-01\",\"1727-01-01\",\"1728-01-01\",\"1729-01-01\",\"1730-01-01\",\"1731-01-01\",\"1732-01-01\",\"1733-01-01\",\"1734-01-01\",\"1735-01-01\",\"1736-01-01\",\"1737-01-01\",\"1738-01-01\",\"1739-01-01\",\"1740-01-01\",\"1741-01-01\",\"1742-01-01\",\"1743-01-01\",\"1744-01-01\",\"1745-01-01\",\"1746-01-01\",\"1747-01-01\",\"1748-01-01\",\"1749-01-01\",\"1750-01-01\",\"1751-01-01\",\"1752-01-01\",\"1753-01-01\",\"1754-01-01\",\"1755-01-01\",\"1756-01-01\",\"1757-01-01\",\"1758-01-01\",\"1759-01-01\",\"1760-01-01\",\"1761-01-01\",\"1762-01-01\",\"1763-01-01\",\"1764-01-01\",\"1765-01-01\",\"1766-01-01\",\"1767-01-01\",\"1768-01-01\",\"1769-01-01\",\"1770-01-01\",\"1771-01-01\",\"1772-01-01\",\"1773-01-01\",\"1774-01-01\",\"1775-01-01\",\"1776-01-01\",\"1777-01-01\",\"1778-01-01\",\"1779-01-01\",\"1780-01-01\",\"1781-01-01\",\"1782-01-01\",\"1783-01-01\",\"1784-01-01\",\"1785-01-01\",\"1786-01-01\",\"1787-01-01\",\"1788-01-01\",\"1789-01-01\",\"1790-01-01\",\"1791-01-01\",\"1792-01-01\",\"1793-01-01\",\"1794-01-01\",\"1795-01-01\",\"1796-01-01\",\"1797-01-01\",\"1798-01-01\",\"1799-01-01\",\"1800-01-01\",\"1801-01-01\",\"1802-01-01\",\"1803-01-01\",\"1804-01-01\",\"1805-01-01\",\"1806-01-01\",\"1807-01-01\",\"1808-01-01\",\"1809-01-01\",\"1810-01-01\",\"1811-01-01\",\"1812-01-01\",\"1813-01-01\",\"1814-01-01\",\"1815-01-01\",\"1816-01-01\",\"1817-01-01\",\"1818-01-01\",\"1819-01-01\",\"1820-01-01\",\"1821-01-01\",\"1822-01-01\",\"1823-01-01\",\"1824-01-01\",\"1825-01-01\",\"1826-01-01\",\"1827-01-01\",\"1828-01-01\",\"1829-01-01\",\"1830-01-01\",\"1831-01-01\",\"1832-01-01\",\"1833-01-01\",\"1834-01-01\",\"1835-01-01\",\"1836-01-01\",\"1837-01-01\",\"1838-01-01\",\"1839-01-01\",\"1840-01-01\",\"1841-01-01\",\"1842-01-01\",\"1843-01-01\",\"1844-01-01\",\"1845-01-01\",\"1846-01-01\",\"1847-01-01\",\"1848-01-01\",\"1849-01-01\",\"1850-01-01\",\"1851-01-01\",\"1852-01-01\",\"1853-01-01\",\"1854-01-01\",\"1855-01-01\",\"1856-01-01\",\"1857-01-01\",\"1858-01-01\",\"1859-01-01\",\"1860-01-01\",\"1861-01-01\",\"1862-01-01\",\"1863-01-01\",\"1864-01-01\",\"1865-01-01\",\"1866-01-01\",\"1867-01-01\",\"1868-01-01\",\"1869-01-01\",\"1870-01-01\",\"1871-01-01\",\"1872-01-01\",\"1873-01-01\",\"1874-01-01\",\"1875-01-01\",\"1876-01-01\",\"1877-01-01\",\"1878-01-01\",\"1879-01-01\",\"1880-01-01\",\"1881-01-01\",\"1882-01-01\",\"1883-01-01\",\"1884-01-01\",\"1885-01-01\",\"1886-01-01\",\"1887-01-01\",\"1888-01-01\",\"1889-01-01\",\"1890-01-01\",\"1891-01-01\",\"1892-01-01\",\"1893-01-01\",\"1894-01-01\",\"1895-01-01\",\"1896-01-01\",\"1897-01-01\",\"1898-01-01\",\"1899-01-01\",\"1900-01-01\",\"1901-01-01\",\"1902-01-01\",\"1903-01-01\",\"1904-01-01\",\"1905-01-01\",\"1906-01-01\",\"1907-01-01\",\"1908-01-01\",\"1909-01-01\",\"1910-01-01\",\"1911-01-01\",\"1912-01-01\",\"1913-01-01\",\"1914-01-01\",\"1915-01-01\",\"1916-01-01\",\"1917-01-01\",\"1918-01-01\",\"1919-01-01\",\"1920-01-01\",\"1921-01-01\",\"1922-01-01\",\"1923-01-01\",\"1924-01-01\",\"1925-01-01\",\"1926-01-01\",\"1927-01-01\",\"1928-01-01\",\"1929-01-01\",\"1930-01-01\",\"1931-01-01\",\"1932-01-01\",\"1933-01-01\",\"1934-01-01\",\"1935-01-01\",\"1936-01-01\",\"1937-01-01\",\"1938-01-01\",\"1939-01-01\",\"1940-01-01\",\"1941-01-01\",\"1942-01-01\",\"1943-01-01\",\"1944-01-01\",\"1945-01-01\",\"1946-01-01\",\"1947-01-01\",\"1948-01-01\",\"1949-01-01\",\"1950-01-01\",\"1951-01-01\",\"1952-01-01\",\"1953-01-01\",\"1954-01-01\",\"1955-01-01\",\"1956-01-01\",\"1957-01-01\",\"1958-01-01\",\"1959-01-01\",\"1960-01-01\",\"1961-01-01\",\"1962-01-01\",\"1963-01-01\",\"1964-01-01\",\"1965-01-01\",\"1966-01-01\",\"1967-01-01\",\"1968-01-01\",\"1969-01-01\",\"1970-01-01\",\"1971-01-01\",\"1972-01-01\",\"1973-01-01\",\"1974-01-01\",\"1975-01-01\",\"1976-01-01\",\"1977-01-01\",\"1978-01-01\",\"1978-12-31\",\"1979-12-31\",\"1980-12-31\",\"1981-12-31\",\"1982-12-31\",\"1983-12-31\",\"1984-12-31\",\"1985-12-31\",\"1986-12-31\",\"1987-12-31\",\"1988-12-31\",\"1989-12-31\",\"1990-12-31\",\"1991-12-31\"],\"y\":[5.0,11.0,16.0,23.0,36.0,58.0,29.0,20.0,10.0,8.0,3.0,0.0,0.0,2.0,11.0,27.0,47.0,63.0,60.0,39.0,28.0,26.0,22.0,11.0,21.0,40.0,78.0,122.0,103.0,73.0,47.0,35.0,11.0,5.0,16.0,34.0,70.0,81.0,111.0,101.0,73.0,40.0,20.0,16.0,5.0,11.0,22.0,40.0,60.0,80.9,83.4,47.7,47.8,30.7,12.2,9.6,10.2,32.4,47.6,54.0,62.9,85.9,61.2,45.1,36.4,20.9,11.4,37.8,69.8,106.1,100.8,81.6,66.5,34.8,30.6,7.0,19.8,92.5,154.4,125.9,84.8,68.1,38.5,22.8,10.2,24.1,82.9,132.0,130.9,118.1,89.9,66.6,60.0,46.9,41.0,21.3,16.0,6.4,4.1,6.8,14.5,34.0,45.0,43.1,47.5,42.2,28.1,10.1,8.1,2.5,0.0,1.4,5.0,12.2,13.9,35.4,45.8,41.1,30.1,23.9,15.6,6.6,4.0,1.8,8.5,16.6,36.3,49.6,64.2,67.0,70.9,47.8,27.5,8.5,13.2,56.9,121.5,138.3,103.2,85.7,64.6,36.7,24.2,10.7,15.0,40.1,61.5,98.5,124.7,96.3,66.6,64.5,54.1,39.0,20.6,6.7,4.3,22.7,54.8,93.8,95.8,77.2,59.1,44.0,47.0,30.5,16.3,7.3,37.6,74.0,139.0,111.2,101.6,66.2,44.7,17.0,11.3,12.4,3.4,6.0,32.3,54.3,59.7,63.7,63.5,52.2,25.4,13.1,6.8,6.3,7.1,35.6,73.0,85.1,78.0,64.0,41.8,26.2,26.7,12.1,9.5,2.7,5.0,24.4,42.0,63.5,53.8,62.0,48.5,43.9,18.6,5.7,3.6,1.4,9.6,47.4,57.1,103.9,80.6,63.6,37.6,26.1,14.2,5.8,16.7,44.3,63.9,69.0,77.8,64.9,35.7,21.2,11.1,5.7,8.7,36.1,79.7,114.4,109.6,88.8,67.8,47.5,30.6,16.3,9.6,33.2,92.6,151.6,136.3,134.7,83.9,69.4,31.5,13.9,4.4,38.0,141.7,190.2,184.8,159.0,112.3,53.9,37.6,27.9,10.2,15.1,47.0,93.8,105.9,105.5,104.5,66.6,68.9,38.0,34.5,15.5,12.6,27.5,92.5,null,null,null,null,null,null,null,null,null,null,null,null,null,null],\"type\":\"scatter\"},{\"mode\":\"lines+markers\",\"name\":\"yhat\",\"x\":[\"1700-01-01\",\"1701-01-01\",\"1702-01-01\",\"1703-01-01\",\"1704-01-01\",\"1705-01-01\",\"1706-01-01\",\"1707-01-01\",\"1708-01-01\",\"1709-01-01\",\"1710-01-01\",\"1711-01-01\",\"1712-01-01\",\"1713-01-01\",\"1714-01-01\",\"1715-01-01\",\"1716-01-01\",\"1717-01-01\",\"1718-01-01\",\"1719-01-01\",\"1720-01-01\",\"1721-01-01\",\"1722-01-01\",\"1723-01-01\",\"1724-01-01\",\"1725-01-01\",\"1726-01-01\",\"1727-01-01\",\"1728-01-01\",\"1729-01-01\",\"1730-01-01\",\"1731-01-01\",\"1732-01-01\",\"1733-01-01\",\"1734-01-01\",\"1735-01-01\",\"1736-01-01\",\"1737-01-01\",\"1738-01-01\",\"1739-01-01\",\"1740-01-01\",\"1741-01-01\",\"1742-01-01\",\"1743-01-01\",\"1744-01-01\",\"1745-01-01\",\"1746-01-01\",\"1747-01-01\",\"1748-01-01\",\"1749-01-01\",\"1750-01-01\",\"1751-01-01\",\"1752-01-01\",\"1753-01-01\",\"1754-01-01\",\"1755-01-01\",\"1756-01-01\",\"1757-01-01\",\"1758-01-01\",\"1759-01-01\",\"1760-01-01\",\"1761-01-01\",\"1762-01-01\",\"1763-01-01\",\"1764-01-01\",\"1765-01-01\",\"1766-01-01\",\"1767-01-01\",\"1768-01-01\",\"1769-01-01\",\"1770-01-01\",\"1771-01-01\",\"1772-01-01\",\"1773-01-01\",\"1774-01-01\",\"1775-01-01\",\"1776-01-01\",\"1777-01-01\",\"1778-01-01\",\"1779-01-01\",\"1780-01-01\",\"1781-01-01\",\"1782-01-01\",\"1783-01-01\",\"1784-01-01\",\"1785-01-01\",\"1786-01-01\",\"1787-01-01\",\"1788-01-01\",\"1789-01-01\",\"1790-01-01\",\"1791-01-01\",\"1792-01-01\",\"1793-01-01\",\"1794-01-01\",\"1795-01-01\",\"1796-01-01\",\"1797-01-01\",\"1798-01-01\",\"1799-01-01\",\"1800-01-01\",\"1801-01-01\",\"1802-01-01\",\"1803-01-01\",\"1804-01-01\",\"1805-01-01\",\"1806-01-01\",\"1807-01-01\",\"1808-01-01\",\"1809-01-01\",\"1810-01-01\",\"1811-01-01\",\"1812-01-01\",\"1813-01-01\",\"1814-01-01\",\"1815-01-01\",\"1816-01-01\",\"1817-01-01\",\"1818-01-01\",\"1819-01-01\",\"1820-01-01\",\"1821-01-01\",\"1822-01-01\",\"1823-01-01\",\"1824-01-01\",\"1825-01-01\",\"1826-01-01\",\"1827-01-01\",\"1828-01-01\",\"1829-01-01\",\"1830-01-01\",\"1831-01-01\",\"1832-01-01\",\"1833-01-01\",\"1834-01-01\",\"1835-01-01\",\"1836-01-01\",\"1837-01-01\",\"1838-01-01\",\"1839-01-01\",\"1840-01-01\",\"1841-01-01\",\"1842-01-01\",\"1843-01-01\",\"1844-01-01\",\"1845-01-01\",\"1846-01-01\",\"1847-01-01\",\"1848-01-01\",\"1849-01-01\",\"1850-01-01\",\"1851-01-01\",\"1852-01-01\",\"1853-01-01\",\"1854-01-01\",\"1855-01-01\",\"1856-01-01\",\"1857-01-01\",\"1858-01-01\",\"1859-01-01\",\"1860-01-01\",\"1861-01-01\",\"1862-01-01\",\"1863-01-01\",\"1864-01-01\",\"1865-01-01\",\"1866-01-01\",\"1867-01-01\",\"1868-01-01\",\"1869-01-01\",\"1870-01-01\",\"1871-01-01\",\"1872-01-01\",\"1873-01-01\",\"1874-01-01\",\"1875-01-01\",\"1876-01-01\",\"1877-01-01\",\"1878-01-01\",\"1879-01-01\",\"1880-01-01\",\"1881-01-01\",\"1882-01-01\",\"1883-01-01\",\"1884-01-01\",\"1885-01-01\",\"1886-01-01\",\"1887-01-01\",\"1888-01-01\",\"1889-01-01\",\"1890-01-01\",\"1891-01-01\",\"1892-01-01\",\"1893-01-01\",\"1894-01-01\",\"1895-01-01\",\"1896-01-01\",\"1897-01-01\",\"1898-01-01\",\"1899-01-01\",\"1900-01-01\",\"1901-01-01\",\"1902-01-01\",\"1903-01-01\",\"1904-01-01\",\"1905-01-01\",\"1906-01-01\",\"1907-01-01\",\"1908-01-01\",\"1909-01-01\",\"1910-01-01\",\"1911-01-01\",\"1912-01-01\",\"1913-01-01\",\"1914-01-01\",\"1915-01-01\",\"1916-01-01\",\"1917-01-01\",\"1918-01-01\",\"1919-01-01\",\"1920-01-01\",\"1921-01-01\",\"1922-01-01\",\"1923-01-01\",\"1924-01-01\",\"1925-01-01\",\"1926-01-01\",\"1927-01-01\",\"1928-01-01\",\"1929-01-01\",\"1930-01-01\",\"1931-01-01\",\"1932-01-01\",\"1933-01-01\",\"1934-01-01\",\"1935-01-01\",\"1936-01-01\",\"1937-01-01\",\"1938-01-01\",\"1939-01-01\",\"1940-01-01\",\"1941-01-01\",\"1942-01-01\",\"1943-01-01\",\"1944-01-01\",\"1945-01-01\",\"1946-01-01\",\"1947-01-01\",\"1948-01-01\",\"1949-01-01\",\"1950-01-01\",\"1951-01-01\",\"1952-01-01\",\"1953-01-01\",\"1954-01-01\",\"1955-01-01\",\"1956-01-01\",\"1957-01-01\",\"1958-01-01\",\"1959-01-01\",\"1960-01-01\",\"1961-01-01\",\"1962-01-01\",\"1963-01-01\",\"1964-01-01\",\"1965-01-01\",\"1966-01-01\",\"1967-01-01\",\"1968-01-01\",\"1969-01-01\",\"1970-01-01\",\"1971-01-01\",\"1972-01-01\",\"1973-01-01\",\"1974-01-01\",\"1975-01-01\",\"1976-01-01\",\"1977-01-01\",\"1978-01-01\",\"1978-12-31\",\"1979-12-31\",\"1980-12-31\",\"1981-12-31\",\"1982-12-31\",\"1983-12-31\",\"1984-12-31\",\"1985-12-31\",\"1986-12-31\",\"1987-12-31\",\"1988-12-31\",\"1989-12-31\",\"1990-12-31\",\"1991-12-31\"],\"y\":[34.80122426053563,44.0578023509171,45.30714510301613,56.39731040927107,58.56620602830947,45.7372700628547,29.0725414673783,18.76817492285255,13.18044715481729,23.919632350353734,23.71438798222183,26.815298236824567,30.417421550005542,48.572448659624044,52.83520867324696,61.01148765336076,63.15426191369767,43.21009732860548,30.778837203195287,16.237239686405015,10.398527519568042,26.33617941000167,31.22403564146848,36.95688130390423,46.21345938203292,49.372071463307485,58.093900192441126,53.55001502961701,47.892927028710794,17.36417182321048,10.332996824513788,11.201654911526362,26.075289204628678,39.4908497573991,43.35064060828882,47.033081947215564,50.728105442197396,53.248241083696385,55.75657096910092,49.2702470677019,45.352905261319655,23.62641791509075,13.65072317559035,15.695433881529201,28.466138500569922,46.46741340238225,52.10853302425072,56.49597856585028,51.48918169846057,52.46583692916871,43.02358286042149,33.310423053429595,19.468433233779752,9.074824891554133,17.19654572582648,41.032451737843914,41.58226236968031,58.48750481572333,59.2867139767201,56.299954858234216,55.330023686104234,45.250013240691814,33.896755186844295,33.15315959349833,25.70820049483737,18.984364313561702,27.92858143109151,44.84442023536613,48.54919596302664,61.72220472420564,60.11820210495329,49.40381957881053,54.54761942249226,31.197081175279724,20.777743251114064,12.747005826984395,11.156607137519952,30.154012725173313,58.752530492890685,59.12069586449985,60.569286821064374,64.02003941258124,54.18962099541697,48.96651736005991,47.33179501343382,22.129416432684764,25.803974082465178,24.603342548885536,21.06614585444719,43.99011171303302,61.52209656158546,61.329177852066024,63.8039860378005,56.315913140649116,42.781100162982725,44.419253937231574,33.27886238319883,14.701201542708503,13.76254767177305,18.03966888184576,32.235793946352175,60.83431171727517,61.202477092030364,62.651068051801275,63.4502771558371,56.27140222841865,51.0482985942243,49.41357624877763,38.0603181355178,27.885755315161955,26.685123780266636,23.147927084522912,32.092144142898015,63.60387778754807,63.41095907520628,65.88576725813556,64.28176457724098,44.86288137282666,46.50103514183846,35.36064358258449,24.94130565666116,15.84432886073299,20.121450065777474,34.317575125335544,62.91609289152254,75.7706312483556,72.41326717564199,68.18360180155899,58.3531833798511,41.22253788401612,38.013076976614485,26.292978803514252,29.967536448728758,32.20508985828297,35.329747713775454,48.15367406280897,65.68565890369135,69.93058656746734,67.42261910620687,60.47947546024313,46.944662475059914,36.29355984402513,26.87527656192511,18.864763831579126,17.926109952524943,33.40383359400016,50.87368137246375,78.76524538060487,77.85241232927994,74.57762690405279,64.72049253051382,50.157782881407336,43.30431895560385,30.25750705936894,22.00311866196087,30.11471348514089,34.28687091821551,50.93337248647522,63.561394672989074,77.91094248092624,72.01236762177571,61.00087702264351,51.065103650579495,39.15739421776648,38.37534089347328,25.24647638873498,21.55101349944771,26.80601767333511,35.48561464032266,66.43507044474407,88.40625973750386,85.54403360580848,76.65940797845687,55.11523755571131,39.561696499532886,34.49744992206891,32.33928817357183,26.6771324506168,37.830140724327705,44.624215104511805,53.01515364695364,74.00257347653911,82.23241487132293,70.49958952605616,63.08265823436633,39.854707174923476,34.24601977469555,32.57461992785122,27.32825785390958,32.50178942303857,41.10107253450469,51.33282529681364,68.51685236665088,89.24430582029302,84.63379690570093,71.49198437041719,57.19791674454416,31.08720746115491,30.902878293894698,31.49727663975039,28.763401915771066,39.91730714421695,46.712278476689725,55.10411397135834,67.73303312292667,84.32317180751348,72.59124366368872,65.17520957348992,55.24033341550616,36.340367974927716,34.66986522807536,29.424400254153902,25.7298345790084,43.199011592620025,53.43166145829421,70.61658563149484,92.58867213162404,86.73532683519554,73.59441140334606,59.30034403004919,43.74770018120193,33.005306085390075,33.59970468384994,30.865830221331603,42.019735711322554,58.44581758956456,69.59567885838425,78.19486256285026,86.42560117136526,63.966329518602976,53.562141324664466,44.05058757430565,38.442797387819624,36.3615805547409,35.94438702399185,36.70126083077133,45.30144105457154,67.2606571861841,80.9221748963971,93.44736813497141,88.83775633264976,63.726696681517815,47.64377287224558,35.29206452407821,35.10773561834072,40.581957561132384,43.16707199199003,54.84128547919332,60.548247131375646,78.81941926983292,80.98600202060973,81.87306961785549,66.0687590604318,41.18102597370215,35.59098533738664,39.70547182562616,38.46401009656917,49.21889149783035,52.818701952479955,60.83911020252593,69.36308672798742,83.40582314443081,85.54628454651268,80.36071016957835,65.82912622334516,38.62231741012711,32.78129238738801,39.20000806323793,42.684387102954105,59.332701267682815,68.58696648981041,69.83399637366082,80.92184881165673,75.91657723329442,70.25717639203084,53.59013492864972,43.28345551552911,33.55895941713655,48.430280869842186,40.566439638390534,40.14924610764683,54.92113149429229,62.941539744339785,71.46551626981189,85.12703398004372,87.64871408835572,82.46313971140196,67.93155576518414,51.84863195590088,34.88372192921203,41.30243760506548,44.78681664478229,47.37193107561859],\"type\":\"scatter\"},{\"mode\":\"lines\",\"name\":\"custom_seasonality\",\"x\":[\"1700-01-01\",\"1701-01-01\",\"1702-01-01\",\"1703-01-01\",\"1704-01-01\",\"1705-01-01\",\"1706-01-01\",\"1707-01-01\",\"1708-01-01\",\"1709-01-01\",\"1710-01-01\",\"1711-01-01\",\"1712-01-01\",\"1713-01-01\",\"1714-01-01\",\"1715-01-01\",\"1716-01-01\",\"1717-01-01\",\"1718-01-01\",\"1719-01-01\",\"1720-01-01\",\"1721-01-01\",\"1722-01-01\",\"1723-01-01\",\"1724-01-01\",\"1725-01-01\",\"1726-01-01\",\"1727-01-01\",\"1728-01-01\",\"1729-01-01\",\"1730-01-01\",\"1731-01-01\",\"1732-01-01\",\"1733-01-01\",\"1734-01-01\",\"1735-01-01\",\"1736-01-01\",\"1737-01-01\",\"1738-01-01\",\"1739-01-01\",\"1740-01-01\",\"1741-01-01\",\"1742-01-01\",\"1743-01-01\",\"1744-01-01\",\"1745-01-01\",\"1746-01-01\",\"1747-01-01\",\"1748-01-01\",\"1749-01-01\",\"1750-01-01\",\"1751-01-01\",\"1752-01-01\",\"1753-01-01\",\"1754-01-01\",\"1755-01-01\",\"1756-01-01\",\"1757-01-01\",\"1758-01-01\",\"1759-01-01\",\"1760-01-01\",\"1761-01-01\",\"1762-01-01\",\"1763-01-01\",\"1764-01-01\",\"1765-01-01\",\"1766-01-01\",\"1767-01-01\",\"1768-01-01\",\"1769-01-01\",\"1770-01-01\",\"1771-01-01\",\"1772-01-01\",\"1773-01-01\",\"1774-01-01\",\"1775-01-01\",\"1776-01-01\",\"1777-01-01\",\"1778-01-01\",\"1779-01-01\",\"1780-01-01\",\"1781-01-01\",\"1782-01-01\",\"1783-01-01\",\"1784-01-01\",\"1785-01-01\",\"1786-01-01\",\"1787-01-01\",\"1788-01-01\",\"1789-01-01\",\"1790-01-01\",\"1791-01-01\",\"1792-01-01\",\"1793-01-01\",\"1794-01-01\",\"1795-01-01\",\"1796-01-01\",\"1797-01-01\",\"1798-01-01\",\"1799-01-01\",\"1800-01-01\",\"1801-01-01\",\"1802-01-01\",\"1803-01-01\",\"1804-01-01\",\"1805-01-01\",\"1806-01-01\",\"1807-01-01\",\"1808-01-01\",\"1809-01-01\",\"1810-01-01\",\"1811-01-01\",\"1812-01-01\",\"1813-01-01\",\"1814-01-01\",\"1815-01-01\",\"1816-01-01\",\"1817-01-01\",\"1818-01-01\",\"1819-01-01\",\"1820-01-01\",\"1821-01-01\",\"1822-01-01\",\"1823-01-01\",\"1824-01-01\",\"1825-01-01\",\"1826-01-01\",\"1827-01-01\",\"1828-01-01\",\"1829-01-01\",\"1830-01-01\",\"1831-01-01\",\"1832-01-01\",\"1833-01-01\",\"1834-01-01\",\"1835-01-01\",\"1836-01-01\",\"1837-01-01\",\"1838-01-01\",\"1839-01-01\",\"1840-01-01\",\"1841-01-01\",\"1842-01-01\",\"1843-01-01\",\"1844-01-01\",\"1845-01-01\",\"1846-01-01\",\"1847-01-01\",\"1848-01-01\",\"1849-01-01\",\"1850-01-01\",\"1851-01-01\",\"1852-01-01\",\"1853-01-01\",\"1854-01-01\",\"1855-01-01\",\"1856-01-01\",\"1857-01-01\",\"1858-01-01\",\"1859-01-01\",\"1860-01-01\",\"1861-01-01\",\"1862-01-01\",\"1863-01-01\",\"1864-01-01\",\"1865-01-01\",\"1866-01-01\",\"1867-01-01\",\"1868-01-01\",\"1869-01-01\",\"1870-01-01\",\"1871-01-01\",\"1872-01-01\",\"1873-01-01\",\"1874-01-01\",\"1875-01-01\",\"1876-01-01\",\"1877-01-01\",\"1878-01-01\",\"1879-01-01\",\"1880-01-01\",\"1881-01-01\",\"1882-01-01\",\"1883-01-01\",\"1884-01-01\",\"1885-01-01\",\"1886-01-01\",\"1887-01-01\",\"1888-01-01\",\"1889-01-01\",\"1890-01-01\",\"1891-01-01\",\"1892-01-01\",\"1893-01-01\",\"1894-01-01\",\"1895-01-01\",\"1896-01-01\",\"1897-01-01\",\"1898-01-01\",\"1899-01-01\",\"1900-01-01\",\"1901-01-01\",\"1902-01-01\",\"1903-01-01\",\"1904-01-01\",\"1905-01-01\",\"1906-01-01\",\"1907-01-01\",\"1908-01-01\",\"1909-01-01\",\"1910-01-01\",\"1911-01-01\",\"1912-01-01\",\"1913-01-01\",\"1914-01-01\",\"1915-01-01\",\"1916-01-01\",\"1917-01-01\",\"1918-01-01\",\"1919-01-01\",\"1920-01-01\",\"1921-01-01\",\"1922-01-01\",\"1923-01-01\",\"1924-01-01\",\"1925-01-01\",\"1926-01-01\",\"1927-01-01\",\"1928-01-01\",\"1929-01-01\",\"1930-01-01\",\"1931-01-01\",\"1932-01-01\",\"1933-01-01\",\"1934-01-01\",\"1935-01-01\",\"1936-01-01\",\"1937-01-01\",\"1938-01-01\",\"1939-01-01\",\"1940-01-01\",\"1941-01-01\",\"1942-01-01\",\"1943-01-01\",\"1944-01-01\",\"1945-01-01\",\"1946-01-01\",\"1947-01-01\",\"1948-01-01\",\"1949-01-01\",\"1950-01-01\",\"1951-01-01\",\"1952-01-01\",\"1953-01-01\",\"1954-01-01\",\"1955-01-01\",\"1956-01-01\",\"1957-01-01\",\"1958-01-01\",\"1959-01-01\",\"1960-01-01\",\"1961-01-01\",\"1962-01-01\",\"1963-01-01\",\"1964-01-01\",\"1965-01-01\",\"1966-01-01\",\"1967-01-01\",\"1968-01-01\",\"1969-01-01\",\"1970-01-01\",\"1971-01-01\",\"1972-01-01\",\"1973-01-01\",\"1974-01-01\",\"1975-01-01\",\"1976-01-01\",\"1977-01-01\",\"1978-01-01\",\"1978-12-31\",\"1979-12-31\",\"1980-12-31\",\"1981-12-31\",\"1982-12-31\",\"1983-12-31\",\"1984-12-31\",\"1985-12-31\",\"1986-12-31\",\"1987-12-31\",\"1988-12-31\",\"1989-12-31\",\"1990-12-31\",\"1991-12-31\"],\"y\":[0.1486862605356431,9.311595913263837,10.467270227709598,21.463767096311262,23.538994277696403,10.616133248731769,-6.142263784397892,-16.540298766576914,-22.221694972265443,-11.57643484023885,-11.875347636076356,-8.868105809179234,-5.359650923703861,12.701451132379706,16.870542718297024,24.95315327070521,27.00225910333652,6.964169464709394,-5.5607590884063915,-20.19602503041831,-26.12840562247692,-10.28467878308746,-5.490490976842285,0.14868626037182597,9.311595913278886,12.376282943509283,21.004443247421275,16.366889659375524,10.616133248702303,-20.00654699234521,-27.131390400808908,-26.356400723563347,-11.576434840228035,1.7452006769951967,5.5113231181179065,9.100096047277635,12.70145113249246,15.130880528801935,17.548752000287973,10.971969684970455,6.964169464669699,-14.85302412674871,-24.91917728016761,-22.964924988147263,-10.28467878302504,7.625889877505973,13.176551089353476,17.473538220932063,12.376282943521373,13.26223193294821,3.729519454180011,-6.074098762832858,-20.006546992503676,-30.490861576010605,-22.459599150094984,1.2858484535657229,1.7452006770453876,18.5597368834759,19.268487636115943,16.191270109273333,15.13088052878662,4.960163843761695,-6.4835526184425545,-7.317606619944154,-14.853024126760737,-21.667566547447255,-12.813807838073082,4.011572558045903,7.625889877550788,20.708192399318936,19.013731371910957,8.208890437612558,13.262231933050895,-10.17901249349612,-20.688808765905176,-28.81000453827824,-30.490861575986077,-11.584162167667198,16.923897251806775,17.201604275172546,18.55973688349367,21.919783293650546,11.99890652622289,6.685344540602445,4.960163843712967,-20.332920918396084,-16.748821618879052,-18.039911502722077,-21.667566547423807,1.1656931298020203,18.60721962660889,18.323842565343888,20.7081923993328,13.129413319335168,-0.4958580100767889,1.0518374124264922,-10.179012493351818,-28.847379516688385,-29.876491739369406,-25.689828880723486,-11.584162167643862,16.923897251852342,17.20160427518074,18.559736883524863,19.2684876361339,11.99890652618886,6.685344540567718,4.9601638436942626,-6.483552618507025,-16.74882161889732,-18.039911502734093,-21.667566547419277,-12.813807837985628,18.607219626629988,18.32384256534673,20.708192399334557,19.013731371921427,-0.4958580100977895,1.0518374123954537,-10.17901249337706,-20.68880876581893,-29.876491739352,-25.689828880826063,-11.584162167786538,16.923897251881908,29.687729431906863,26.23990701346931,21.91978329366238,11.99890652623056,-5.222445146412523,-8.522364399538098,-20.332920918362262,-16.748821618871688,-14.60197438612559,-11.567774874866465,1.1656931299336881,18.607219626582708,22.761441115045248,20.163015309551415,13.12941331935432,-0.4958580100622551,-11.237666816410488,-20.746408442743874,-28.847379516691298,-29.87649173934693,-14.489474272551515,2.8899151623106207,30.691020826850277,29.687729431923916,26.32223783201696,16.374645114876525,1.7214771221685963,-5.222445146449539,-18.359963216575302,-26.704809956798037,-18.683673476432674,-14.601974386172705,1.953821008196141,14.491384851895331,28.750474317017844,22.761441115052655,11.659244341836006,1.633012626764293,-10.365155149056424,-11.23766681635733,-24.457237495180078,-28.243158727475052,-23.078612896595356,-14.489474272615519,16.369275357721456,38.2500062973388,35.29732181250098,26.322237832006934,4.687361225014443,-10.956638184306412,-16.111343114912845,-18.35996321655235,-24.112825123754323,-13.050275203185858,-6.346659178644592,1.9538210081543963,22.85053465098568,30.989917690126646,19.166633989217054,11.659244341884374,-11.65941290431267,-17.35855866018344,-19.120416964132104,-24.45723749517808,-19.374412214542733,-10.865587560180963,-0.7242932549763361,16.369275357756564,37.00602252290505,32.30505515120862,19.072784158820546,4.68736122506406,-21.514953654723392,-21.790638129867066,-21.28759509189483,-24.112825123757606,-13.050275203195188,-6.346659178605871,1.953821008179288,14.49138485186416,30.989917690128916,19.166633989179704,11.659244341856468,1.6330126267482536,-17.358558660152248,-19.12041696412905,-24.45723749517495,-28.24315872744491,-10.865587560155344,-0.7242932549871011,16.369275357707583,38.25000629733083,32.30505515118952,19.072784158834104,4.687361225031292,-10.956638184321918,-21.790638129846577,-21.287595091892648,-24.112825123787946,-13.050275203173936,3.2842008164599337,14.342706515902668,22.85053465099172,30.98991769012978,8.439040178759369,-2.0565035845561,-11.659412904291873,-17.358558660154845,-19.53138135184169,-20.0399304519677,-19.374412214565165,-10.865587560141908,11.00202271286252,24.572184853698566,37.00602252289592,32.30505515119733,7.102389641457253,-9.071889737191938,-21.514953654736267,-21.790638129850706,-16.408022045667167,-13.914263184186463,-2.331405266360137,3.2842008164452325,21.463767096294387,23.53899427769425,24.334706305563053,8.43904017876241,-16.54029876657537,-22.221694972267827,-18.198564053405267,-19.531381351839208,-8.868105809186149,-5.359650923913496,2.56940175675552,11.002022712840066,24.953153270675333,27.00225910338024,21.725329157068963,7.102389641458803,-20.196025030367363,-26.128405622483417,-19.801045516010436,-16.408022045671228,0.14868626044935637,9.3115959132,10.46727022767347,21.463767096292422,16.366889659321977,10.616133248681445,-6.142263784076632,-16.5402987665742,-26.356400723574883,-11.576434840246186,-19.53138135184362,-20.039930451964278,-5.35965092392695,2.5694017567435905,11.00202271283875,24.572184853693617,27.002259103397503,21.725329157066785,7.102389641472006,-9.071889737188213,-26.128405622485186,-19.801045516008678,-16.408022045668822,-13.914263184209481],\"type\":\"scatter\"},{\"mode\":\"lines\",\"name\":\"trend\",\"x\":[\"1700-01-01\",\"1701-01-01\",\"1702-01-01\",\"1703-01-01\",\"1704-01-01\",\"1705-01-01\",\"1706-01-01\",\"1707-01-01\",\"1708-01-01\",\"1709-01-01\",\"1710-01-01\",\"1711-01-01\",\"1712-01-01\",\"1713-01-01\",\"1714-01-01\",\"1715-01-01\",\"1716-01-01\",\"1717-01-01\",\"1718-01-01\",\"1719-01-01\",\"1720-01-01\",\"1721-01-01\",\"1722-01-01\",\"1723-01-01\",\"1724-01-01\",\"1725-01-01\",\"1726-01-01\",\"1727-01-01\",\"1728-01-01\",\"1729-01-01\",\"1730-01-01\",\"1731-01-01\",\"1732-01-01\",\"1733-01-01\",\"1734-01-01\",\"1735-01-01\",\"1736-01-01\",\"1737-01-01\",\"1738-01-01\",\"1739-01-01\",\"1740-01-01\",\"1741-01-01\",\"1742-01-01\",\"1743-01-01\",\"1744-01-01\",\"1745-01-01\",\"1746-01-01\",\"1747-01-01\",\"1748-01-01\",\"1749-01-01\",\"1750-01-01\",\"1751-01-01\",\"1752-01-01\",\"1753-01-01\",\"1754-01-01\",\"1755-01-01\",\"1756-01-01\",\"1757-01-01\",\"1758-01-01\",\"1759-01-01\",\"1760-01-01\",\"1761-01-01\",\"1762-01-01\",\"1763-01-01\",\"1764-01-01\",\"1765-01-01\",\"1766-01-01\",\"1767-01-01\",\"1768-01-01\",\"1769-01-01\",\"1770-01-01\",\"1771-01-01\",\"1772-01-01\",\"1773-01-01\",\"1774-01-01\",\"1775-01-01\",\"1776-01-01\",\"1777-01-01\",\"1778-01-01\",\"1779-01-01\",\"1780-01-01\",\"1781-01-01\",\"1782-01-01\",\"1783-01-01\",\"1784-01-01\",\"1785-01-01\",\"1786-01-01\",\"1787-01-01\",\"1788-01-01\",\"1789-01-01\",\"1790-01-01\",\"1791-01-01\",\"1792-01-01\",\"1793-01-01\",\"1794-01-01\",\"1795-01-01\",\"1796-01-01\",\"1797-01-01\",\"1798-01-01\",\"1799-01-01\",\"1800-01-01\",\"1801-01-01\",\"1802-01-01\",\"1803-01-01\",\"1804-01-01\",\"1805-01-01\",\"1806-01-01\",\"1807-01-01\",\"1808-01-01\",\"1809-01-01\",\"1810-01-01\",\"1811-01-01\",\"1812-01-01\",\"1813-01-01\",\"1814-01-01\",\"1815-01-01\",\"1816-01-01\",\"1817-01-01\",\"1818-01-01\",\"1819-01-01\",\"1820-01-01\",\"1821-01-01\",\"1822-01-01\",\"1823-01-01\",\"1824-01-01\",\"1825-01-01\",\"1826-01-01\",\"1827-01-01\",\"1828-01-01\",\"1829-01-01\",\"1830-01-01\",\"1831-01-01\",\"1832-01-01\",\"1833-01-01\",\"1834-01-01\",\"1835-01-01\",\"1836-01-01\",\"1837-01-01\",\"1838-01-01\",\"1839-01-01\",\"1840-01-01\",\"1841-01-01\",\"1842-01-01\",\"1843-01-01\",\"1844-01-01\",\"1845-01-01\",\"1846-01-01\",\"1847-01-01\",\"1848-01-01\",\"1849-01-01\",\"1850-01-01\",\"1851-01-01\",\"1852-01-01\",\"1853-01-01\",\"1854-01-01\",\"1855-01-01\",\"1856-01-01\",\"1857-01-01\",\"1858-01-01\",\"1859-01-01\",\"1860-01-01\",\"1861-01-01\",\"1862-01-01\",\"1863-01-01\",\"1864-01-01\",\"1865-01-01\",\"1866-01-01\",\"1867-01-01\",\"1868-01-01\",\"1869-01-01\",\"1870-01-01\",\"1871-01-01\",\"1872-01-01\",\"1873-01-01\",\"1874-01-01\",\"1875-01-01\",\"1876-01-01\",\"1877-01-01\",\"1878-01-01\",\"1879-01-01\",\"1880-01-01\",\"1881-01-01\",\"1882-01-01\",\"1883-01-01\",\"1884-01-01\",\"1885-01-01\",\"1886-01-01\",\"1887-01-01\",\"1888-01-01\",\"1889-01-01\",\"1890-01-01\",\"1891-01-01\",\"1892-01-01\",\"1893-01-01\",\"1894-01-01\",\"1895-01-01\",\"1896-01-01\",\"1897-01-01\",\"1898-01-01\",\"1899-01-01\",\"1900-01-01\",\"1901-01-01\",\"1902-01-01\",\"1903-01-01\",\"1904-01-01\",\"1905-01-01\",\"1906-01-01\",\"1907-01-01\",\"1908-01-01\",\"1909-01-01\",\"1910-01-01\",\"1911-01-01\",\"1912-01-01\",\"1913-01-01\",\"1914-01-01\",\"1915-01-01\",\"1916-01-01\",\"1917-01-01\",\"1918-01-01\",\"1919-01-01\",\"1920-01-01\",\"1921-01-01\",\"1922-01-01\",\"1923-01-01\",\"1924-01-01\",\"1925-01-01\",\"1926-01-01\",\"1927-01-01\",\"1928-01-01\",\"1929-01-01\",\"1930-01-01\",\"1931-01-01\",\"1932-01-01\",\"1933-01-01\",\"1934-01-01\",\"1935-01-01\",\"1936-01-01\",\"1937-01-01\",\"1938-01-01\",\"1939-01-01\",\"1940-01-01\",\"1941-01-01\",\"1942-01-01\",\"1943-01-01\",\"1944-01-01\",\"1945-01-01\",\"1946-01-01\",\"1947-01-01\",\"1948-01-01\",\"1949-01-01\",\"1950-01-01\",\"1951-01-01\",\"1952-01-01\",\"1953-01-01\",\"1954-01-01\",\"1955-01-01\",\"1956-01-01\",\"1957-01-01\",\"1958-01-01\",\"1959-01-01\",\"1960-01-01\",\"1961-01-01\",\"1962-01-01\",\"1963-01-01\",\"1964-01-01\",\"1965-01-01\",\"1966-01-01\",\"1967-01-01\",\"1968-01-01\",\"1969-01-01\",\"1970-01-01\",\"1971-01-01\",\"1972-01-01\",\"1973-01-01\",\"1974-01-01\",\"1975-01-01\",\"1976-01-01\",\"1977-01-01\",\"1978-01-01\",\"1978-12-31\",\"1979-12-31\",\"1980-12-31\",\"1981-12-31\",\"1982-12-31\",\"1983-12-31\",\"1984-12-31\",\"1985-12-31\",\"1986-12-31\",\"1987-12-31\",\"1988-12-31\",\"1989-12-31\",\"1990-12-31\",\"1991-12-31\"],\"y\":[34.65253799999999,34.746206437653264,34.839874875306535,34.933543312959806,35.02721175061307,35.12113681412293,35.21480525177619,35.30847368942946,35.40214212708273,35.49606719059258,35.589735618298185,35.6834040460038,35.7770724737094,35.870997527244334,35.964665954949936,36.058334382655545,36.15200281036115,36.245927863896085,36.33959629160168,36.433264716823324,36.52693314204496,36.62085819308913,36.714526618310764,36.80819504353241,36.90186346875404,36.995788519798204,37.08945694501985,37.183125370241484,37.27679378000849,37.37071881555569,37.464387225322696,37.55805563508971,37.651724044856714,37.7456490804039,37.83931749017091,37.932985899937925,38.02665430970494,38.11736055489445,38.207818968812944,38.29827738273145,38.388735796649954,38.47944204183946,38.56990045575796,38.660358869676465,38.75081728359496,38.84152352487627,38.931981934897244,39.022440344918216,39.112898754939195,39.2036049962205,39.29406340624148,39.384521816262456,39.47498022628343,39.56568646756474,39.65614487592146,39.746603284278194,39.83706169263492,39.92776793224743,40.01822634060416,40.10868474896088,40.199143157317614,40.289849396930116,40.38030780528685,40.47076621344248,40.56122462159811,40.65193086100896,40.74238926916459,40.832847677320224,40.92330608547585,41.01401232488671,41.104470733042334,41.19492914119797,41.28538748944137,41.376093668775844,41.46655201701924,41.557010365262634,41.64746871350603,41.73817489284051,41.82863324108391,41.91909158932731,42.0095499375707,42.1002561189307,42.190714469194084,42.28117281945747,42.37163116972085,42.46233735108085,42.55279570134423,42.64325405160761,42.733712401870996,42.824418583231,42.91487693497657,43.005335286722136,43.095793638467704,43.186499821313944,43.27695817305951,43.36741652480508,43.45787487655065,43.54858105939689,43.639039411142456,43.729497762569245,43.819956113996035,43.91041446542283,44.00087281684962,44.09133116827641,44.1817895197032,44.27249570222979,44.36295405365658,44.45341240508337,44.54387075402482,44.634576934059275,44.72503528300073,44.81549363194219,44.90595198088364,44.99665816091809,45.08711650985955,45.177574858801,45.26803320531955,45.358739382924455,45.449197729443,45.539656075961545,45.63011442248009,45.72082060008499,45.81127894660354,45.90173729312208,45.992195639640634,46.08290181644874,46.17336016217268,46.26381850789661,46.35427685362055,46.444983030428645,46.53544137615258,46.625899721876515,46.716358067600446,46.80706424440856,46.89752258864192,46.98798093287528,47.07843927710864,47.16914545242209,47.25960379665545,47.35006214088881,47.44052048512217,47.53122666043562,47.62168500466898,47.71214334827042,47.80260169187187,47.89330786655168,47.98376621015313,48.07422455375459,48.16468289735602,48.25538907203583,48.345847415637294,48.43630575923874,48.526764102053384,48.61747027594424,48.707928618758906,48.79838696157356,48.88884530438822,48.97955147827908,49.07000982109374,49.1604681639084,49.250926506723054,49.3416326808075,49.432091023815204,49.52254936682291,49.61300770983061,49.70371388391506,49.79417222692276,49.884630569930465,49.975088912938176,50.065795087022614,50.15625344016505,50.2467117933075,50.337170146449935,50.42787633069687,50.5183346838393,50.60879303698175,50.69925139012418,50.78995757437112,50.88041592751356,50.9708742831564,51.06133263879924,51.15203882555343,51.24249718119628,51.33295553683911,51.42341389248195,51.51412007923614,51.60457843487899,51.69503689198332,51.78549534908766,51.87620163758131,51.96666009468565,52.057118551789976,52.14757700889432,52.238283297387966,52.328741754492306,52.41920021159664,52.5105555194801,52.6021611158783,52.693516423761764,52.78487173164522,52.87622703952867,52.96758234741213,53.058937655295594,53.15029296317905,53.24164827106251,53.333254117384556,53.42460967450901,53.51596523163346,53.6073207887579,53.698926635079964,53.79028219220441,53.88163774932885,53.97299330645331,54.06459915277537,54.15595471328131,54.24731027378726,54.3386658342932,54.43027168400601,54.521627244511954,54.61298280501789,54.704338365523846,54.79594421523665,54.88729977574259,54.97865534511955,55.07001091449649,55.161616773104626,55.252972342481584,55.34432791185854,55.435683481235486,55.527289339843605,55.61864490922056,55.71000047859752,55.80135604797447,55.89296190658259,55.98431747595955,56.075673045336494,56.16702861471345,56.258634473321585,56.34999004269853,56.44134561207549,56.53270118145243,56.624307040060565,56.715662609437516,56.807018178814474,56.898373748191425,56.98997960679955,57.081335176176495,57.17269074555345,57.26404631493041,57.35565217353853,57.44700774291549,57.53836331229245,57.62971888166939,57.72132474027752,57.81268030965447,57.904035879031426,57.99539144840838,58.086997307016496,58.178352876393454,58.26970844577041,58.361064015147356,58.452669873755475,58.54402544313243,58.63538101250939,58.72673658188635,58.81834244049447,58.90969800987143,59.00105357924837,59.09240914862533,59.184015007233455,59.27537057661041,59.36672614598736,59.458081715364315,59.549687573972435,59.64104314334939,59.73239871272635,59.82375428210331,59.91536014071143,60.00671571008837,60.097820990234155,60.18917655961111,60.28078241821924,60.3721379875962,60.46349355697314,60.5548491263501,60.64645498495822,60.73781055433518,60.829166123712135,60.92052169308909,61.01212755169721,61.103483121074156,61.194838690451114,61.28619425982807],\"type\":\"scatter\"}],                        {\"template\":{\"data\":{\"bar\":[{\"error_x\":{\"color\":\"#2a3f5f\"},\"error_y\":{\"color\":\"#2a3f5f\"},\"marker\":{\"line\":{\"color\":\"#E5ECF6\",\"width\":0.5},\"pattern\":{\"fillmode\":\"overlay\",\"size\":10,\"solidity\":0.2}},\"type\":\"bar\"}],\"barpolar\":[{\"marker\":{\"line\":{\"color\":\"#E5ECF6\",\"width\":0.5},\"pattern\":{\"fillmode\":\"overlay\",\"size\":10,\"solidity\":0.2}},\"type\":\"barpolar\"}],\"carpet\":[{\"aaxis\":{\"endlinecolor\":\"#2a3f5f\",\"gridcolor\":\"white\",\"linecolor\":\"white\",\"minorgridcolor\":\"white\",\"startlinecolor\":\"#2a3f5f\"},\"baxis\":{\"endlinecolor\":\"#2a3f5f\",\"gridcolor\":\"white\",\"linecolor\":\"white\",\"minorgridcolor\":\"white\",\"startlinecolor\":\"#2a3f5f\"},\"type\":\"carpet\"}],\"choropleth\":[{\"colorbar\":{\"outlinewidth\":0,\"ticks\":\"\"},\"type\":\"choropleth\"}],\"contour\":[{\"colorbar\":{\"outlinewidth\":0,\"ticks\":\"\"},\"colorscale\":[[0.0,\"#0d0887\"],[0.1111111111111111,\"#46039f\"],[0.2222222222222222,\"#7201a8\"],[0.3333333333333333,\"#9c179e\"],[0.4444444444444444,\"#bd3786\"],[0.5555555555555556,\"#d8576b\"],[0.6666666666666666,\"#ed7953\"],[0.7777777777777778,\"#fb9f3a\"],[0.8888888888888888,\"#fdca26\"],[1.0,\"#f0f921\"]],\"type\":\"contour\"}],\"contourcarpet\":[{\"colorbar\":{\"outlinewidth\":0,\"ticks\":\"\"},\"type\":\"contourcarpet\"}],\"heatmap\":[{\"colorbar\":{\"outlinewidth\":0,\"ticks\":\"\"},\"colorscale\":[[0.0,\"#0d0887\"],[0.1111111111111111,\"#46039f\"],[0.2222222222222222,\"#7201a8\"],[0.3333333333333333,\"#9c179e\"],[0.4444444444444444,\"#bd3786\"],[0.5555555555555556,\"#d8576b\"],[0.6666666666666666,\"#ed7953\"],[0.7777777777777778,\"#fb9f3a\"],[0.8888888888888888,\"#fdca26\"],[1.0,\"#f0f921\"]],\"type\":\"heatmap\"}],\"heatmapgl\":[{\"colorbar\":{\"outlinewidth\":0,\"ticks\":\"\"},\"colorscale\":[[0.0,\"#0d0887\"],[0.1111111111111111,\"#46039f\"],[0.2222222222222222,\"#7201a8\"],[0.3333333333333333,\"#9c179e\"],[0.4444444444444444,\"#bd3786\"],[0.5555555555555556,\"#d8576b\"],[0.6666666666666666,\"#ed7953\"],[0.7777777777777778,\"#fb9f3a\"],[0.8888888888888888,\"#fdca26\"],[1.0,\"#f0f921\"]],\"type\":\"heatmapgl\"}],\"histogram\":[{\"marker\":{\"pattern\":{\"fillmode\":\"overlay\",\"size\":10,\"solidity\":0.2}},\"type\":\"histogram\"}],\"histogram2d\":[{\"colorbar\":{\"outlinewidth\":0,\"ticks\":\"\"},\"colorscale\":[[0.0,\"#0d0887\"],[0.1111111111111111,\"#46039f\"],[0.2222222222222222,\"#7201a8\"],[0.3333333333333333,\"#9c179e\"],[0.4444444444444444,\"#bd3786\"],[0.5555555555555556,\"#d8576b\"],[0.6666666666666666,\"#ed7953\"],[0.7777777777777778,\"#fb9f3a\"],[0.8888888888888888,\"#fdca26\"],[1.0,\"#f0f921\"]],\"type\":\"histogram2d\"}],\"histogram2dcontour\":[{\"colorbar\":{\"outlinewidth\":0,\"ticks\":\"\"},\"colorscale\":[[0.0,\"#0d0887\"],[0.1111111111111111,\"#46039f\"],[0.2222222222222222,\"#7201a8\"],[0.3333333333333333,\"#9c179e\"],[0.4444444444444444,\"#bd3786\"],[0.5555555555555556,\"#d8576b\"],[0.6666666666666666,\"#ed7953\"],[0.7777777777777778,\"#fb9f3a\"],[0.8888888888888888,\"#fdca26\"],[1.0,\"#f0f921\"]],\"type\":\"histogram2dcontour\"}],\"mesh3d\":[{\"colorbar\":{\"outlinewidth\":0,\"ticks\":\"\"},\"type\":\"mesh3d\"}],\"parcoords\":[{\"line\":{\"colorbar\":{\"outlinewidth\":0,\"ticks\":\"\"}},\"type\":\"parcoords\"}],\"pie\":[{\"automargin\":true,\"type\":\"pie\"}],\"scatter\":[{\"marker\":{\"colorbar\":{\"outlinewidth\":0,\"ticks\":\"\"}},\"type\":\"scatter\"}],\"scatter3d\":[{\"line\":{\"colorbar\":{\"outlinewidth\":0,\"ticks\":\"\"}},\"marker\":{\"colorbar\":{\"outlinewidth\":0,\"ticks\":\"\"}},\"type\":\"scatter3d\"}],\"scattercarpet\":[{\"marker\":{\"colorbar\":{\"outlinewidth\":0,\"ticks\":\"\"}},\"type\":\"scattercarpet\"}],\"scattergeo\":[{\"marker\":{\"colorbar\":{\"outlinewidth\":0,\"ticks\":\"\"}},\"type\":\"scattergeo\"}],\"scattergl\":[{\"marker\":{\"colorbar\":{\"outlinewidth\":0,\"ticks\":\"\"}},\"type\":\"scattergl\"}],\"scattermapbox\":[{\"marker\":{\"colorbar\":{\"outlinewidth\":0,\"ticks\":\"\"}},\"type\":\"scattermapbox\"}],\"scatterpolar\":[{\"marker\":{\"colorbar\":{\"outlinewidth\":0,\"ticks\":\"\"}},\"type\":\"scatterpolar\"}],\"scatterpolargl\":[{\"marker\":{\"colorbar\":{\"outlinewidth\":0,\"ticks\":\"\"}},\"type\":\"scatterpolargl\"}],\"scatterternary\":[{\"marker\":{\"colorbar\":{\"outlinewidth\":0,\"ticks\":\"\"}},\"type\":\"scatterternary\"}],\"surface\":[{\"colorbar\":{\"outlinewidth\":0,\"ticks\":\"\"},\"colorscale\":[[0.0,\"#0d0887\"],[0.1111111111111111,\"#46039f\"],[0.2222222222222222,\"#7201a8\"],[0.3333333333333333,\"#9c179e\"],[0.4444444444444444,\"#bd3786\"],[0.5555555555555556,\"#d8576b\"],[0.6666666666666666,\"#ed7953\"],[0.7777777777777778,\"#fb9f3a\"],[0.8888888888888888,\"#fdca26\"],[1.0,\"#f0f921\"]],\"type\":\"surface\"}],\"table\":[{\"cells\":{\"fill\":{\"color\":\"#EBF0F8\"},\"line\":{\"color\":\"white\"}},\"header\":{\"fill\":{\"color\":\"#C8D4E3\"},\"line\":{\"color\":\"white\"}},\"type\":\"table\"}]},\"layout\":{\"annotationdefaults\":{\"arrowcolor\":\"#2a3f5f\",\"arrowhead\":0,\"arrowwidth\":1},\"autotypenumbers\":\"strict\",\"coloraxis\":{\"colorbar\":{\"outlinewidth\":0,\"ticks\":\"\"}},\"colorscale\":{\"diverging\":[[0,\"#8e0152\"],[0.1,\"#c51b7d\"],[0.2,\"#de77ae\"],[0.3,\"#f1b6da\"],[0.4,\"#fde0ef\"],[0.5,\"#f7f7f7\"],[0.6,\"#e6f5d0\"],[0.7,\"#b8e186\"],[0.8,\"#7fbc41\"],[0.9,\"#4d9221\"],[1,\"#276419\"]],\"sequential\":[[0.0,\"#0d0887\"],[0.1111111111111111,\"#46039f\"],[0.2222222222222222,\"#7201a8\"],[0.3333333333333333,\"#9c179e\"],[0.4444444444444444,\"#bd3786\"],[0.5555555555555556,\"#d8576b\"],[0.6666666666666666,\"#ed7953\"],[0.7777777777777778,\"#fb9f3a\"],[0.8888888888888888,\"#fdca26\"],[1.0,\"#f0f921\"]],\"sequentialminus\":[[0.0,\"#0d0887\"],[0.1111111111111111,\"#46039f\"],[0.2222222222222222,\"#7201a8\"],[0.3333333333333333,\"#9c179e\"],[0.4444444444444444,\"#bd3786\"],[0.5555555555555556,\"#d8576b\"],[0.6666666666666666,\"#ed7953\"],[0.7777777777777778,\"#fb9f3a\"],[0.8888888888888888,\"#fdca26\"],[1.0,\"#f0f921\"]]},\"colorway\":[\"#636efa\",\"#EF553B\",\"#00cc96\",\"#ab63fa\",\"#FFA15A\",\"#19d3f3\",\"#FF6692\",\"#B6E880\",\"#FF97FF\",\"#FECB52\"],\"font\":{\"color\":\"#2a3f5f\"},\"geo\":{\"bgcolor\":\"white\",\"lakecolor\":\"white\",\"landcolor\":\"#E5ECF6\",\"showlakes\":true,\"showland\":true,\"subunitcolor\":\"white\"},\"hoverlabel\":{\"align\":\"left\"},\"hovermode\":\"closest\",\"mapbox\":{\"style\":\"light\"},\"paper_bgcolor\":\"white\",\"plot_bgcolor\":\"#E5ECF6\",\"polar\":{\"angularaxis\":{\"gridcolor\":\"white\",\"linecolor\":\"white\",\"ticks\":\"\"},\"bgcolor\":\"#E5ECF6\",\"radialaxis\":{\"gridcolor\":\"white\",\"linecolor\":\"white\",\"ticks\":\"\"}},\"scene\":{\"xaxis\":{\"backgroundcolor\":\"#E5ECF6\",\"gridcolor\":\"white\",\"gridwidth\":2,\"linecolor\":\"white\",\"showbackground\":true,\"ticks\":\"\",\"zerolinecolor\":\"white\"},\"yaxis\":{\"backgroundcolor\":\"#E5ECF6\",\"gridcolor\":\"white\",\"gridwidth\":2,\"linecolor\":\"white\",\"showbackground\":true,\"ticks\":\"\",\"zerolinecolor\":\"white\"},\"zaxis\":{\"backgroundcolor\":\"#E5ECF6\",\"gridcolor\":\"white\",\"gridwidth\":2,\"linecolor\":\"white\",\"showbackground\":true,\"ticks\":\"\",\"zerolinecolor\":\"white\"}},\"shapedefaults\":{\"line\":{\"color\":\"#2a3f5f\"}},\"ternary\":{\"aaxis\":{\"gridcolor\":\"white\",\"linecolor\":\"white\",\"ticks\":\"\"},\"baxis\":{\"gridcolor\":\"white\",\"linecolor\":\"white\",\"ticks\":\"\"},\"bgcolor\":\"#E5ECF6\",\"caxis\":{\"gridcolor\":\"white\",\"linecolor\":\"white\",\"ticks\":\"\"}},\"title\":{\"x\":0.05},\"xaxis\":{\"automargin\":true,\"gridcolor\":\"white\",\"linecolor\":\"white\",\"ticks\":\"\",\"title\":{\"standoff\":15},\"zerolinecolor\":\"white\",\"zerolinewidth\":2},\"yaxis\":{\"automargin\":true,\"gridcolor\":\"white\",\"linecolor\":\"white\",\"ticks\":\"\",\"title\":{\"standoff\":15},\"zerolinecolor\":\"white\",\"zerolinewidth\":2}}}},                        {\"responsive\": true}                    ).then(function(){\n",
              "                            \n",
              "var gd = document.getElementById('55de53d0-bb06-4339-90b9-f6c8eefa8cb1');\n",
              "var x = new MutationObserver(function (mutations, observer) {{\n",
              "        var display = window.getComputedStyle(gd).display;\n",
              "        if (!display || display === 'none') {{\n",
              "            console.log([gd, 'removed!']);\n",
              "            Plotly.purge(gd);\n",
              "            observer.disconnect();\n",
              "        }}\n",
              "}});\n",
              "\n",
              "// Listen for the removal of the full notebook cells\n",
              "var notebookContainer = gd.closest('#notebook-container');\n",
              "if (notebookContainer) {{\n",
              "    x.observe(notebookContainer, {childList: true});\n",
              "}}\n",
              "\n",
              "// Listen for the clearing of the current output cell\n",
              "var outputEl = gd.closest('.output');\n",
              "if (outputEl) {{\n",
              "    x.observe(outputEl, {childList: true});\n",
              "}}\n",
              "\n",
              "                        })                };                            </script>        </div>\n",
              "</body>\n",
              "</html>"
            ]
          },
          "metadata": {}
        }
      ]
    },
    {
      "cell_type": "markdown",
      "source": [
        "5.Расчитываем качество полученной модели "
      ],
      "metadata": {
        "id": "rsgplPFvzdQX"
      }
    },
    {
      "cell_type": "code",
      "source": [
        "from sklearn.metrics import mean_squared_error, mean_absolute_error"
      ],
      "metadata": {
        "id": "BVbp2NDg5C3N"
      },
      "execution_count": 322,
      "outputs": []
    },
    {
      "cell_type": "code",
      "source": [
        "mae_error=mean_absolute_error(df_prophet, fcast_prophet )"
      ],
      "metadata": {
        "colab": {
          "base_uri": "https://localhost:8080/",
          "height": 311
        },
        "id": "XkNZwvEysUpW",
        "outputId": "dbf54c1c-f44d-4097-94d5-0355c55604b0"
      },
      "execution_count": 335,
      "outputs": [
        {
          "output_type": "error",
          "ename": "ValueError",
          "evalue": "ignored",
          "traceback": [
            "\u001b[0;31m---------------------------------------------------------------------------\u001b[0m",
            "\u001b[0;31mValueError\u001b[0m                                Traceback (most recent call last)",
            "\u001b[0;32m<ipython-input-335-edb26d6f38e6>\u001b[0m in \u001b[0;36m<module>\u001b[0;34m\u001b[0m\n\u001b[0;32m----> 1\u001b[0;31m \u001b[0mmae_error\u001b[0m\u001b[0;34m=\u001b[0m\u001b[0mmean_absolute_error\u001b[0m\u001b[0;34m(\u001b[0m\u001b[0mdf_prophet\u001b[0m\u001b[0;34m,\u001b[0m \u001b[0mfcast_prophet\u001b[0m \u001b[0;34m)\u001b[0m\u001b[0;34m\u001b[0m\u001b[0;34m\u001b[0m\u001b[0m\n\u001b[0m",
            "\u001b[0;32m/usr/local/lib/python3.8/dist-packages/sklearn/metrics/_regression.py\u001b[0m in \u001b[0;36mmean_absolute_error\u001b[0;34m(y_true, y_pred, sample_weight, multioutput)\u001b[0m\n\u001b[1;32m    189\u001b[0m     \u001b[0;36m0.85\u001b[0m\u001b[0;34m...\u001b[0m\u001b[0;34m\u001b[0m\u001b[0;34m\u001b[0m\u001b[0m\n\u001b[1;32m    190\u001b[0m     \"\"\"\n\u001b[0;32m--> 191\u001b[0;31m     y_type, y_true, y_pred, multioutput = _check_reg_targets(\n\u001b[0m\u001b[1;32m    192\u001b[0m         \u001b[0my_true\u001b[0m\u001b[0;34m,\u001b[0m \u001b[0my_pred\u001b[0m\u001b[0;34m,\u001b[0m \u001b[0mmultioutput\u001b[0m\u001b[0;34m\u001b[0m\u001b[0;34m\u001b[0m\u001b[0m\n\u001b[1;32m    193\u001b[0m     )\n",
            "\u001b[0;32m/usr/local/lib/python3.8/dist-packages/sklearn/metrics/_regression.py\u001b[0m in \u001b[0;36m_check_reg_targets\u001b[0;34m(y_true, y_pred, multioutput, dtype)\u001b[0m\n\u001b[1;32m     92\u001b[0m         \u001b[0mthe\u001b[0m \u001b[0mdtype\u001b[0m \u001b[0margument\u001b[0m \u001b[0mpassed\u001b[0m \u001b[0mto\u001b[0m \u001b[0mcheck_array\u001b[0m\u001b[0;34m.\u001b[0m\u001b[0;34m\u001b[0m\u001b[0;34m\u001b[0m\u001b[0m\n\u001b[1;32m     93\u001b[0m     \"\"\"\n\u001b[0;32m---> 94\u001b[0;31m     \u001b[0mcheck_consistent_length\u001b[0m\u001b[0;34m(\u001b[0m\u001b[0my_true\u001b[0m\u001b[0;34m,\u001b[0m \u001b[0my_pred\u001b[0m\u001b[0;34m)\u001b[0m\u001b[0;34m\u001b[0m\u001b[0;34m\u001b[0m\u001b[0m\n\u001b[0m\u001b[1;32m     95\u001b[0m     \u001b[0my_true\u001b[0m \u001b[0;34m=\u001b[0m \u001b[0mcheck_array\u001b[0m\u001b[0;34m(\u001b[0m\u001b[0my_true\u001b[0m\u001b[0;34m,\u001b[0m \u001b[0mensure_2d\u001b[0m\u001b[0;34m=\u001b[0m\u001b[0;32mFalse\u001b[0m\u001b[0;34m,\u001b[0m \u001b[0mdtype\u001b[0m\u001b[0;34m=\u001b[0m\u001b[0mdtype\u001b[0m\u001b[0;34m)\u001b[0m\u001b[0;34m\u001b[0m\u001b[0;34m\u001b[0m\u001b[0m\n\u001b[1;32m     96\u001b[0m     \u001b[0my_pred\u001b[0m \u001b[0;34m=\u001b[0m \u001b[0mcheck_array\u001b[0m\u001b[0;34m(\u001b[0m\u001b[0my_pred\u001b[0m\u001b[0;34m,\u001b[0m \u001b[0mensure_2d\u001b[0m\u001b[0;34m=\u001b[0m\u001b[0;32mFalse\u001b[0m\u001b[0;34m,\u001b[0m \u001b[0mdtype\u001b[0m\u001b[0;34m=\u001b[0m\u001b[0mdtype\u001b[0m\u001b[0;34m)\u001b[0m\u001b[0;34m\u001b[0m\u001b[0;34m\u001b[0m\u001b[0m\n",
            "\u001b[0;32m/usr/local/lib/python3.8/dist-packages/sklearn/utils/validation.py\u001b[0m in \u001b[0;36mcheck_consistent_length\u001b[0;34m(*arrays)\u001b[0m\n\u001b[1;32m    330\u001b[0m     \u001b[0muniques\u001b[0m \u001b[0;34m=\u001b[0m \u001b[0mnp\u001b[0m\u001b[0;34m.\u001b[0m\u001b[0munique\u001b[0m\u001b[0;34m(\u001b[0m\u001b[0mlengths\u001b[0m\u001b[0;34m)\u001b[0m\u001b[0;34m\u001b[0m\u001b[0;34m\u001b[0m\u001b[0m\n\u001b[1;32m    331\u001b[0m     \u001b[0;32mif\u001b[0m \u001b[0mlen\u001b[0m\u001b[0;34m(\u001b[0m\u001b[0muniques\u001b[0m\u001b[0;34m)\u001b[0m \u001b[0;34m>\u001b[0m \u001b[0;36m1\u001b[0m\u001b[0;34m:\u001b[0m\u001b[0;34m\u001b[0m\u001b[0;34m\u001b[0m\u001b[0m\n\u001b[0;32m--> 332\u001b[0;31m         raise ValueError(\n\u001b[0m\u001b[1;32m    333\u001b[0m             \u001b[0;34m\"Found input variables with inconsistent numbers of samples: %r\"\u001b[0m\u001b[0;34m\u001b[0m\u001b[0;34m\u001b[0m\u001b[0m\n\u001b[1;32m    334\u001b[0m             \u001b[0;34m%\u001b[0m \u001b[0;34m[\u001b[0m\u001b[0mint\u001b[0m\u001b[0;34m(\u001b[0m\u001b[0ml\u001b[0m\u001b[0;34m)\u001b[0m \u001b[0;32mfor\u001b[0m \u001b[0ml\u001b[0m \u001b[0;32min\u001b[0m \u001b[0mlengths\u001b[0m\u001b[0;34m]\u001b[0m\u001b[0;34m\u001b[0m\u001b[0;34m\u001b[0m\u001b[0m\n",
            "\u001b[0;31mValueError\u001b[0m: Found input variables with inconsistent numbers of samples: [309, 293]"
          ]
        }
      ]
    },
    {
      "cell_type": "markdown",
      "source": [],
      "metadata": {
        "id": "VzvYYbtv6t9N"
      }
    },
    {
      "cell_type": "markdown",
      "source": [
        "## Выводы"
      ],
      "metadata": {
        "id": "gX7Ue2304viI"
      }
    },
    {
      "cell_type": "markdown",
      "source": [
        "В ходе работы проанализированы наблюдения количества пятен на солнце  в период с 1700 г по 2008 г . Для прогноза временного  ряда использовались пакет ARIMA и Prophet .\n",
        "На осноаниии модлей был получен прогноз на  15 лет.\n",
        "На основаниии оценки качества моделей данные модели признаны некачественными  тк основные метрики качества очень высокие , большой разброс от целевого  заначения:  MSE =0 , MAE = 0\n"
      ],
      "metadata": {
        "id": "wmuZ3A2_4vgF"
      }
    }
  ]
}