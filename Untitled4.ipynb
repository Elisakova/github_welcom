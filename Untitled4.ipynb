{
  "nbformat": 4,
  "nbformat_minor": 0,
  "metadata": {
    "colab": {
      "provenance": [],
      "toc_visible": true,
      "authorship_tag": "ABX9TyOIrLgx6X8aZGmV8pe7EVAX",
      "include_colab_link": true
    },
    "kernelspec": {
      "name": "python3",
      "display_name": "Python 3"
    },
    "language_info": {
      "name": "python"
    }
  },
  "cells": [
    {
      "cell_type": "markdown",
      "metadata": {
        "id": "view-in-github",
        "colab_type": "text"
      },
      "source": [
        "<a href=\"https://colab.research.google.com/github/Elisakova/github_welcom/blob/main/Untitled4.ipynb\" target=\"_parent\"><img src=\"https://colab.research.google.com/assets/colab-badge.svg\" alt=\"Open In Colab\"/></a>"
      ]
    },
    {
      "cell_type": "code",
      "execution_count": 11,
      "metadata": {
        "colab": {
          "base_uri": "https://localhost:8080/"
        },
        "id": "dP-Lf6kq5tEb",
        "outputId": "d6ee6fa0-a4eb-4860-f163-c378a41fdfbc"
      },
      "outputs": [
        {
          "output_type": "stream",
          "name": "stdout",
          "text": [
            "Drive already mounted at /content/drive; to attempt to forcibly remount, call drive.mount(\"/content/drive\", force_remount=True).\n"
          ]
        },
        {
          "output_type": "stream",
          "name": "stderr",
          "text": [
            "/usr/local/lib/python3.8/dist-packages/openpyxl/styles/stylesheet.py:226: UserWarning: Workbook contains no default style, apply openpyxl's default\n",
            "  warn(\"Workbook contains no default style, apply openpyxl's default\")\n"
          ]
        },
        {
          "output_type": "execute_result",
          "data": {
            "text/plain": [
              "11.612903225806452"
            ]
          },
          "metadata": {},
          "execution_count": 11
        }
      ],
      "source": [
        "import pandas as pd\n",
        "from google.colab import drive\n",
        "drive.mount('/content/drive')\n",
        "df=pd.read_excel('/content/drive/MyDrive/Иннополис/Medals.xlsx')\n"
      ]
    },
    {
      "cell_type": "code",
      "source": [
        "df['Total'].mean()"
      ],
      "metadata": {
        "colab": {
          "base_uri": "https://localhost:8080/"
        },
        "id": "zymc3SwkBmJd",
        "outputId": "c65ee751-27e0-4b01-fe78-a9c93f39b8f7"
      },
      "execution_count": 12,
      "outputs": [
        {
          "output_type": "execute_result",
          "data": {
            "text/plain": [
              "11.612903225806452"
            ]
          },
          "metadata": {},
          "execution_count": 12
        }
      ]
    },
    {
      "cell_type": "code",
      "source": [
        "import numpy as np\n",
        "wm=np.average(df['Total'], weights=df['Gold'])"
      ],
      "metadata": {
        "id": "xGjlCQ1GCJ1Z"
      },
      "execution_count": 19,
      "outputs": []
    },
    {
      "cell_type": "code",
      "source": [
        "wm1=np.average(df['Total'], weights=df['Bronze'])\n",
        "print(wm1)"
      ],
      "metadata": {
        "colab": {
          "base_uri": "https://localhost:8080/"
        },
        "id": "PGRwlTfJEEAb",
        "outputId": "c909ba42-0341-48de-b3e2-10352e2e2a0b"
      },
      "execution_count": 21,
      "outputs": [
        {
          "output_type": "stream",
          "name": "stdout",
          "text": [
            "37.17164179104478\n"
          ]
        }
      ]
    },
    {
      "cell_type": "code",
      "source": [
        "from scipy.stats import trim_mean\n",
        "tm=trim_mean(df['Total'], 0.05)\n",
        "print(tm)"
      ],
      "metadata": {
        "colab": {
          "base_uri": "https://localhost:8080/"
        },
        "id": "gP8Z-YgxEgRo",
        "outputId": "fc403994-99c0-4857-ec4b-fef7d6b3908f"
      },
      "execution_count": 25,
      "outputs": [
        {
          "output_type": "stream",
          "name": "stdout",
          "text": [
            "8.694117647058823\n"
          ]
        }
      ]
    },
    {
      "cell_type": "code",
      "source": [
        "df['Total'].median()"
      ],
      "metadata": {
        "colab": {
          "base_uri": "https://localhost:8080/"
        },
        "id": "9VXMneGAGStB",
        "outputId": "bb3cb6e5-1025-4494-d532-0ca5153ae513"
      },
      "execution_count": 27,
      "outputs": [
        {
          "output_type": "execute_result",
          "data": {
            "text/plain": [
              "4.0"
            ]
          },
          "metadata": {},
          "execution_count": 27
        }
      ]
    },
    {
      "cell_type": "code",
      "source": [
        "q3=np.percentile(df['Total'], 75)\n",
        "print(q3)"
      ],
      "metadata": {
        "colab": {
          "base_uri": "https://localhost:8080/"
        },
        "id": "vZNtjhH5GiUs",
        "outputId": "a6478d27-b3f8-43f8-ff7e-59621e5989f0"
      },
      "execution_count": 29,
      "outputs": [
        {
          "output_type": "stream",
          "name": "stdout",
          "text": [
            "11.0\n"
          ]
        }
      ]
    },
    {
      "cell_type": "code",
      "source": [
        "df.boxplot()"
      ],
      "metadata": {
        "colab": {
          "base_uri": "https://localhost:8080/",
          "height": 282
        },
        "id": "bnkAhdchK2Ba",
        "outputId": "e872a1ad-763b-4729-93fb-50b294b68daf"
      },
      "execution_count": 30,
      "outputs": [
        {
          "output_type": "execute_result",
          "data": {
            "text/plain": [
              "<matplotlib.axes._subplots.AxesSubplot at 0x7fab492e8f70>"
            ]
          },
          "metadata": {},
          "execution_count": 30
        },
        {
          "output_type": "display_data",
          "data": {
            "text/plain": [
              "<Figure size 432x288 with 1 Axes>"
            ],
            "image/png": "[encoded data removed]"
          },
          "metadata": {
            "needs_background": "light"
          }
        }
      ]
    },
    {
      "cell_type": "code",
      "source": [
        "df.hist()"
      ],
      "metadata": {
        "colab": {
          "base_uri": "https://localhost:8080/",
          "height": 402
        },
        "id": "xzrRt615LDkI",
        "outputId": "b27931ba-b454-4501-ba93-0bb2492035d8"
      },
      "execution_count": 31,
      "outputs": [
        {
          "output_type": "execute_result",
          "data": {
            "text/plain": [
              "array([[<matplotlib.axes._subplots.AxesSubplot object at 0x7fab490457f0>,\n",
              "        <matplotlib.axes._subplots.AxesSubplot object at 0x7fab4904acd0>],\n",
              "       [<matplotlib.axes._subplots.AxesSubplot object at 0x7fab48b52160>,\n",
              "        <matplotlib.axes._subplots.AxesSubplot object at 0x7fab48b89520>],\n",
              "       [<matplotlib.axes._subplots.AxesSubplot object at 0x7fab48b36910>,\n",
              "        <matplotlib.axes._subplots.AxesSubplot object at 0x7fab48ae6c40>]],\n",
              "      dtype=object)"
            ]
          },
          "metadata": {},
          "execution_count": 31
        },
        {
          "output_type": "display_data",
          "data": {
            "text/plain": [
              "<Figure size 432x288 with 6 Axes>"
            ],
            "image/png": "[encoded data removed]"
          },
          "metadata": {
            "needs_background": "light"
          }
        }
      ]
    },
    {
      "cell_type": "code",
      "source": [
        "df.describe()"
      ],
      "metadata": {
        "colab": {
          "base_uri": "https://localhost:8080/",
          "height": 300
        },
        "id": "1NA0iZ2ULTLA",
        "outputId": "8a92f6bb-ecdf-4b69-a1d5-8e7d0893babd"
      },
      "execution_count": 33,
      "outputs": [
        {
          "output_type": "execute_result",
          "data": {
            "text/plain": [
              "            Rank       Gold     Silver     Bronze       Total  Rank by Total\n",
              "count  93.000000  93.000000  93.000000  93.000000   93.000000      93.000000\n",
              "mean   46.333333   3.655914   3.634409   4.322581   11.612903      43.494624\n",
              "std    26.219116   7.022471   6.626339   6.210372   19.091332      24.171769\n",
              "min     1.000000   0.000000   0.000000   0.000000    1.000000       1.000000\n",
              "25%    24.000000   0.000000   0.000000   1.000000    2.000000      23.000000\n",
              "50%    46.000000   1.000000   1.000000   2.000000    4.000000      47.000000\n",
              "75%    70.000000   3.000000   4.000000   5.000000   11.000000      66.000000\n",
              "max    86.000000  39.000000  41.000000  33.000000  113.000000      77.000000"
            ],
            "text/html": [
              "\n",
              "  <div id=\"df-b5354657-9861-49dd-9257-d6de34de3e78\">\n",
              "    <div class=\"colab-df-container\">\n",
              "      <div>\n",
              "<style scoped>\n",
              "    .dataframe tbody tr th:only-of-type {\n",
              "        vertical-align: middle;\n",
              "    }\n",
              "\n",
              "    .dataframe tbody tr th {\n",
              "        vertical-align: top;\n",
              "    }\n",
              "\n",
              "    .dataframe thead th {\n",
              "        text-align: right;\n",
              "    }\n",
              "</style>\n",
              "<table border=\"1\" class=\"dataframe\">\n",
              "  <thead>\n",
              "    <tr style=\"text-align: right;\">\n",
              "      <th></th>\n",
              "      <th>Rank</th>\n",
              "      <th>Gold</th>\n",
              "      <th>Silver</th>\n",
              "      <th>Bronze</th>\n",
              "      <th>Total</th>\n",
              "      <th>Rank by Total</th>\n",
              "    </tr>\n",
              "  </thead>\n",
              "  <tbody>\n",
              "    <tr>\n",
              "      <th>count</th>\n",
              "      <td>93.000000</td>\n",
              "      <td>93.000000</td>\n",
              "      <td>93.000000</td>\n",
              "      <td>93.000000</td>\n",
              "      <td>93.000000</td>\n",
              "      <td>93.000000</td>\n",
              "    </tr>\n",
              "    <tr>\n",
              "      <th>mean</th>\n",
              "      <td>46.333333</td>\n",
              "      <td>3.655914</td>\n",
              "      <td>3.634409</td>\n",
              "      <td>4.322581</td>\n",
              "      <td>11.612903</td>\n",
              "      <td>43.494624</td>\n",
              "    </tr>\n",
              "    <tr>\n",
              "      <th>std</th>\n",
              "      <td>26.219116</td>\n",
              "      <td>7.022471</td>\n",
              "      <td>6.626339</td>\n",
              "      <td>6.210372</td>\n",
              "      <td>19.091332</td>\n",
              "      <td>24.171769</td>\n",
              "    </tr>\n",
              "    <tr>\n",
              "      <th>min</th>\n",
              "      <td>1.000000</td>\n",
              "      <td>0.000000</td>\n",
              "      <td>0.000000</td>\n",
              "      <td>0.000000</td>\n",
              "      <td>1.000000</td>\n",
              "      <td>1.000000</td>\n",
              "    </tr>\n",
              "    <tr>\n",
              "      <th>25%</th>\n",
              "      <td>24.000000</td>\n",
              "      <td>0.000000</td>\n",
              "      <td>0.000000</td>\n",
              "      <td>1.000000</td>\n",
              "      <td>2.000000</td>\n",
              "      <td>23.000000</td>\n",
              "    </tr>\n",
              "    <tr>\n",
              "      <th>50%</th>\n",
              "      <td>46.000000</td>\n",
              "      <td>1.000000</td>\n",
              "      <td>1.000000</td>\n",
              "      <td>2.000000</td>\n",
              "      <td>4.000000</td>\n",
              "      <td>47.000000</td>\n",
              "    </tr>\n",
              "    <tr>\n",
              "      <th>75%</th>\n",
              "      <td>70.000000</td>\n",
              "      <td>3.000000</td>\n",
              "      <td>4.000000</td>\n",
              "      <td>5.000000</td>\n",
              "      <td>11.000000</td>\n",
              "      <td>66.000000</td>\n",
              "    </tr>\n",
              "    <tr>\n",
              "      <th>max</th>\n",
              "      <td>86.000000</td>\n",
              "      <td>39.000000</td>\n",
              "      <td>41.000000</td>\n",
              "      <td>33.000000</td>\n",
              "      <td>113.000000</td>\n",
              "      <td>77.000000</td>\n",
              "    </tr>\n",
              "  </tbody>\n",
              "</table>\n",
              "</div>\n",
              "      <button class=\"colab-df-convert\" onclick=\"convertToInteractive('df-b5354657-9861-49dd-9257-d6de34de3e78')\"\n",
              "              title=\"Convert this dataframe to an interactive table.\"\n",
              "              style=\"display:none;\">\n",
              "        \n",
              "  <svg xmlns=\"http://www.w3.org/2000/svg\" height=\"24px\"viewBox=\"0 0 24 24\"\n",
              "       width=\"24px\">\n",
              "    <path d=\"M0 0h24v24H0V0z\" fill=\"none\"/>\n",
              "    <path d=\"M18.56 5.44l.94 2.06.94-2.06 2.06-.94-2.06-.94-.94-2.06-.94 2.06-2.06.94zm-11 1L8.5 8.5l.94-2.06 2.06-.94-2.06-.94L8.5 2.5l-.94 2.06-2.06.94zm10 10l.94 2.06.94-2.06 2.06-.94-2.06-.94-.94-2.06-.94 2.06-2.06.94z\"/><path d=\"M17.41 7.96l-1.37-1.37c-.4-.4-.92-.59-1.43-.59-.52 0-1.04.2-1.43.59L10.3 9.45l-7.72 7.72c-.78.78-.78 2.05 0 2.83L4 21.41c.39.39.9.59 1.41.59.51 0 1.02-.2 1.41-.59l7.78-7.78 2.81-2.81c.8-.78.8-2.07 0-2.86zM5.41 20L4 18.59l7.72-7.72 1.47 1.35L5.41 20z\"/>\n",
              "  </svg>\n",
              "      </button>\n",
              "      \n",
              "  <style>\n",
              "    .colab-df-container {\n",
              "      display:flex;\n",
              "      flex-wrap:wrap;\n",
              "      gap: 12px;\n",
              "    }\n",
              "\n",
              "    .colab-df-convert {\n",
              "      background-color: #E8F0FE;\n",
              "      border: none;\n",
              "      border-radius: 50%;\n",
              "      cursor: pointer;\n",
              "      display: none;\n",
              "      fill: #1967D2;\n",
              "      height: 32px;\n",
              "      padding: 0 0 0 0;\n",
              "      width: 32px;\n",
              "    }\n",
              "\n",
              "    .colab-df-convert:hover {\n",
              "      background-color: #E2EBFA;\n",
              "      box-shadow: 0px 1px 2px rgba(60, 64, 67, 0.3), 0px 1px 3px 1px rgba(60, 64, 67, 0.15);\n",
              "      fill: #174EA6;\n",
              "    }\n",
              "\n",
              "    [theme=dark] .colab-df-convert {\n",
              "      background-color: #3B4455;\n",
              "      fill: #D2E3FC;\n",
              "    }\n",
              "\n",
              "    [theme=dark] .colab-df-convert:hover {\n",
              "      background-color: #434B5C;\n",
              "      box-shadow: 0px 1px 3px 1px rgba(0, 0, 0, 0.15);\n",
              "      filter: drop-shadow(0px 1px 2px rgba(0, 0, 0, 0.3));\n",
              "      fill: #FFFFFF;\n",
              "    }\n",
              "  </style>\n",
              "\n",
              "      <script>\n",
              "        const buttonEl =\n",
              "          document.querySelector('#df-b5354657-9861-49dd-9257-d6de34de3e78 button.colab-df-convert');\n",
              "        buttonEl.style.display =\n",
              "          google.colab.kernel.accessAllowed ? 'block' : 'none';\n",
              "\n",
              "        async function convertToInteractive(key) {\n",
              "          const element = document.querySelector('#df-b5354657-9861-49dd-9257-d6de34de3e78');\n",
              "          const dataTable =\n",
              "            await google.colab.kernel.invokeFunction('convertToInteractive',\n",
              "                                                     [key], {});\n",
              "          if (!dataTable) return;\n",
              "\n",
              "          const docLinkHtml = 'Like what you see? Visit the ' +\n",
              "            '<a target=\"_blank\" href=https://colab.research.google.com/notebooks/data_table.ipynb>data table notebook</a>'\n",
              "            + ' to learn more about interactive tables.';\n",
              "          element.innerHTML = '';\n",
              "          dataTable['output_type'] = 'display_data';\n",
              "          await google.colab.output.renderOutput(dataTable, element);\n",
              "          const docLink = document.createElement('div');\n",
              "          docLink.innerHTML = docLinkHtml;\n",
              "          element.appendChild(docLink);\n",
              "        }\n",
              "      </script>\n",
              "    </div>\n",
              "  </div>\n",
              "  "
            ]
          },
          "metadata": {},
          "execution_count": 33
        }
      ]
    },
    {
      "cell_type": "code",
      "source": [
        "df['Total'].var()"
      ],
      "metadata": {
        "colab": {
          "base_uri": "https://localhost:8080/"
        },
        "id": "oEjuuAdqL5_D",
        "outputId": "1d232b5f-eb9f-4a0d-ec01-561ded068357"
      },
      "execution_count": 34,
      "outputs": [
        {
          "output_type": "execute_result",
          "data": {
            "text/plain": [
              "364.4789621318374"
            ]
          },
          "metadata": {},
          "execution_count": 34
        }
      ]
    },
    {
      "cell_type": "code",
      "source": [
        "df['Total'].var(ddof=1)"
      ],
      "metadata": {
        "colab": {
          "base_uri": "https://localhost:8080/"
        },
        "id": "hSuuqOs3MOIA",
        "outputId": "71490411-ef6c-473a-dc96-2b4801aa2e6c"
      },
      "execution_count": 35,
      "outputs": [
        {
          "output_type": "execute_result",
          "data": {
            "text/plain": [
              "364.4789621318374"
            ]
          },
          "metadata": {},
          "execution_count": 35
        }
      ]
    },
    {
      "cell_type": "code",
      "source": [
        "\n",
        "\n",
        "np.sqrt(df['Total'].var())"
      ],
      "metadata": {
        "colab": {
          "base_uri": "https://localhost:8080/"
        },
        "id": "uF2KZOp_Mt6v",
        "outputId": "376720d9-5df5-4c8f-c78d-59d3491422fc"
      },
      "execution_count": 38,
      "outputs": [
        {
          "output_type": "execute_result",
          "data": {
            "text/plain": [
              "19.091332120411018"
            ]
          },
          "metadata": {},
          "execution_count": 38
        }
      ]
    },
    {
      "cell_type": "code",
      "source": [
        "df['Gold'].var()"
      ],
      "metadata": {
        "colab": {
          "base_uri": "https://localhost:8080/"
        },
        "id": "LBLodJ-Vazen",
        "outputId": "d407a90c-fe0e-4816-9321-f0deffb4b919"
      },
      "execution_count": 37,
      "outputs": [
        {
          "output_type": "execute_result",
          "data": {
            "text/plain": [
              "49.315100514259"
            ]
          },
          "metadata": {},
          "execution_count": 37
        }
      ]
    },
    {
      "cell_type": "code",
      "source": [
        "np.sqrt(df['Gold'].var())"
      ],
      "metadata": {
        "colab": {
          "base_uri": "https://localhost:8080/"
        },
        "id": "_KGip3Dwa54A",
        "outputId": "7c5b18c6-30f6-4405-bd1a-aa39519c7db3"
      },
      "execution_count": 40,
      "outputs": [
        {
          "output_type": "execute_result",
          "data": {
            "text/plain": [
              "7.022471111671376"
            ]
          },
          "metadata": {},
          "execution_count": 40
        }
      ]
    },
    {
      "cell_type": "code",
      "source": [
        "q1=np.percentile(df['Total'],25)\n",
        "q3=np.percentile(df['Total'],75)\n",
        "iqr=q3-q1\n",
        "print(iqr)"
      ],
      "metadata": {
        "colab": {
          "base_uri": "https://localhost:8080/"
        },
        "id": "x0ohfcFRdKXk",
        "outputId": "e0340540-1344-40f2-9851-ad4f30bc9b31"
      },
      "execution_count": 41,
      "outputs": [
        {
          "output_type": "stream",
          "name": "stdout",
          "text": [
            "9.0\n"
          ]
        }
      ]
    },
    {
      "cell_type": "code",
      "source": [
        "from scipy.stats.distributions import norm\n",
        "import numpy as np\n",
        "import pylab\n",
        "import scipy.stats as stats\n",
        "stats.probplot(df['Total'], dist=norm, plot=pylab)\n",
        "pylab.show()"
      ],
      "metadata": {
        "colab": {
          "base_uri": "https://localhost:8080/",
          "height": 295
        },
        "id": "kIH-hY2Gdsvu",
        "outputId": "5f3b8421-9e38-40d1-d064-d72b99485f0e"
      },
      "execution_count": 46,
      "outputs": [
        {
          "output_type": "display_data",
          "data": {
            "text/plain": [
              "<Figure size 432x288 with 1 Axes>"
            ],
            "image/png": "[encoded data removed]"
          },
          "metadata": {
            "needs_background": "light"
          }
        }
      ]
    },
    {
      "cell_type": "code",
      "source": [
        "measurment=np.random.normal(loc=20, scale=5, size=100)\n",
        "stats.probplot(measurment, dist=norm, plot=pylab)"
      ],
      "metadata": {
        "colab": {
          "base_uri": "https://localhost:8080/",
          "height": 1000
        },
        "id": "j78U6RYSgOyv",
        "outputId": "9887761d-cd66-4e4e-aaf6-0c8c412c085a"
      },
      "execution_count": 49,
      "outputs": [
        {
          "output_type": "execute_result",
          "data": {
            "text/plain": [
              "((array([-2.46203784, -2.12570747, -1.93122778, -1.79044653, -1.67819304,\n",
              "         -1.58381122, -1.50174123, -1.42869743, -1.36256869, -1.30191411,\n",
              "         -1.24570419, -1.19317644, -1.14374949, -1.09696931, -1.05247413,\n",
              "         -1.00997067, -0.96921765, -0.93001393, -0.89218993, -0.85560121,\n",
              "         -0.82012357, -0.78564937, -0.75208458, -0.71934648, -0.68736185,\n",
              "         -0.65606548, -0.62539893, -0.59530962, -0.56574992, -0.53667655,\n",
              "         -0.50804994, -0.47983378, -0.45199463, -0.42450149, -0.39732558,\n",
              "         -0.37044003, -0.34381966, -0.31744076, -0.29128096, -0.26531902,\n",
              "         -0.23953472, -0.21390872, -0.18842244, -0.16305799, -0.13779803,\n",
              "         -0.1126257 , -0.08752455, -0.06247843, -0.03747145, -0.01248789,\n",
              "          0.01248789,  0.03747145,  0.06247843,  0.08752455,  0.1126257 ,\n",
              "          0.13779803,  0.16305799,  0.18842244,  0.21390872,  0.23953472,\n",
              "          0.26531902,  0.29128096,  0.31744076,  0.34381966,  0.37044003,\n",
              "          0.39732558,  0.42450149,  0.45199463,  0.47983378,  0.50804994,\n",
              "          0.53667655,  0.56574992,  0.59530962,  0.62539893,  0.65606548,\n",
              "          0.68736185,  0.71934648,  0.75208458,  0.78564937,  0.82012357,\n",
              "          0.85560121,  0.89218993,  0.93001393,  0.96921765,  1.00997067,\n",
              "          1.05247413,  1.09696931,  1.14374949,  1.19317644,  1.24570419,\n",
              "          1.30191411,  1.36256869,  1.42869743,  1.50174123,  1.58381122,\n",
              "          1.67819304,  1.79044653,  1.93122778,  2.12570747,  2.46203784]),\n",
              "  array([10.98452562, 11.22631518, 11.51981983, 11.88595708, 12.16219819,\n",
              "         12.30832391, 12.87136683, 13.02892812, 13.13379087, 13.69499018,\n",
              "         13.69818029, 14.13761908, 14.16126374, 14.23348074, 14.52009987,\n",
              "         14.95035047, 15.42240148, 15.82006437, 15.93754332, 16.24979546,\n",
              "         16.68100153, 16.96707105, 17.09731994, 17.19979632, 17.21027639,\n",
              "         17.22350054, 17.579006  , 17.67846991, 17.86577865, 17.98943549,\n",
              "         18.33081698, 18.6470407 , 18.6530427 , 18.80822306, 18.81355844,\n",
              "         18.92239173, 18.96394706, 19.01051624, 19.26857051, 19.34906274,\n",
              "         19.40856271, 19.45607098, 19.46002881, 19.54457252, 19.58133321,\n",
              "         19.59051104, 19.61023667, 19.71458294, 19.82208054, 19.82475462,\n",
              "         19.87408808, 19.90385224, 20.03441216, 20.2009766 , 20.27854212,\n",
              "         20.56941867, 20.68475716, 20.98145444, 21.05400046, 21.1190865 ,\n",
              "         21.38209691, 21.43658466, 21.71673424, 22.12124222, 22.31510851,\n",
              "         22.32106802, 22.4343948 , 22.45958885, 23.06498791, 23.07316719,\n",
              "         23.19978083, 23.4984555 , 23.6935464 , 23.9771375 , 24.18888203,\n",
              "         24.20446401, 24.26861717, 24.55776348, 24.57547677, 24.6864434 ,\n",
              "         24.6894355 , 24.87179686, 24.96098989, 25.01843523, 25.56826149,\n",
              "         25.66111365, 25.67945855, 25.98236869, 26.03651428, 27.80630577,\n",
              "         27.85900322, 27.91319552, 28.07681923, 28.52213599, 28.7293719 ,\n",
              "         29.04260272, 29.13289123, 29.14395389, 29.3273777 , 30.76226767])),\n",
              " (4.837291408388999, 20.42879002456342, 0.9932320617657096))"
            ]
          },
          "metadata": {},
          "execution_count": 49
        },
        {
          "output_type": "display_data",
          "data": {
            "text/plain": [
              "<Figure size 432x288 with 1 Axes>"
            ],
            "image/png": "[encoded data removed]"
          },
          "metadata": {
            "needs_background": "light"
          }
        }
      ]
    },
    {
      "cell_type": "code",
      "source": [
        "df.corr()"
      ],
      "metadata": {
        "colab": {
          "base_uri": "https://localhost:8080/",
          "height": 237
        },
        "id": "1L-bXsvvhEbW",
        "outputId": "6f57062e-c25e-4bc7-d56c-d4d4025c3425"
      },
      "execution_count": 51,
      "outputs": [
        {
          "output_type": "execute_result",
          "data": {
            "text/plain": [
              "                   Rank      Gold    Silver    Bronze     Total  Rank by Total\n",
              "Rank           1.000000 -0.655477 -0.597835 -0.637166 -0.655877       0.873539\n",
              "Gold          -0.655477  1.000000  0.929046  0.862425  0.970840      -0.626012\n",
              "Silver        -0.597835  0.929046  1.000000  0.862646  0.969439      -0.632831\n",
              "Bronze        -0.637166  0.862425  0.862646  1.000000  0.941941      -0.745573\n",
              "Total         -0.655877  0.970840  0.969439  0.941941  1.000000      -0.692450\n",
              "Rank by Total  0.873539 -0.626012 -0.632831 -0.745573 -0.692450       1.000000"
            ],
            "text/html": [
              "\n",
              "  <div id=\"df-60386861-b9b8-4dbe-9634-ead2c1b43cd4\">\n",
              "    <div class=\"colab-df-container\">\n",
              "      <div>\n",
              "<style scoped>\n",
              "    .dataframe tbody tr th:only-of-type {\n",
              "        vertical-align: middle;\n",
              "    }\n",
              "\n",
              "    .dataframe tbody tr th {\n",
              "        vertical-align: top;\n",
              "    }\n",
              "\n",
              "    .dataframe thead th {\n",
              "        text-align: right;\n",
              "    }\n",
              "</style>\n",
              "<table border=\"1\" class=\"dataframe\">\n",
              "  <thead>\n",
              "    <tr style=\"text-align: right;\">\n",
              "      <th></th>\n",
              "      <th>Rank</th>\n",
              "      <th>Gold</th>\n",
              "      <th>Silver</th>\n",
              "      <th>Bronze</th>\n",
              "      <th>Total</th>\n",
              "      <th>Rank by Total</th>\n",
              "    </tr>\n",
              "  </thead>\n",
              "  <tbody>\n",
              "    <tr>\n",
              "      <th>Rank</th>\n",
              "      <td>1.000000</td>\n",
              "      <td>-0.655477</td>\n",
              "      <td>-0.597835</td>\n",
              "      <td>-0.637166</td>\n",
              "      <td>-0.655877</td>\n",
              "      <td>0.873539</td>\n",
              "    </tr>\n",
              "    <tr>\n",
              "      <th>Gold</th>\n",
              "      <td>-0.655477</td>\n",
              "      <td>1.000000</td>\n",
              "      <td>0.929046</td>\n",
              "      <td>0.862425</td>\n",
              "      <td>0.970840</td>\n",
              "      <td>-0.626012</td>\n",
              "    </tr>\n",
              "    <tr>\n",
              "      <th>Silver</th>\n",
              "      <td>-0.597835</td>\n",
              "      <td>0.929046</td>\n",
              "      <td>1.000000</td>\n",
              "      <td>0.862646</td>\n",
              "      <td>0.969439</td>\n",
              "      <td>-0.632831</td>\n",
              "    </tr>\n",
              "    <tr>\n",
              "      <th>Bronze</th>\n",
              "      <td>-0.637166</td>\n",
              "      <td>0.862425</td>\n",
              "      <td>0.862646</td>\n",
              "      <td>1.000000</td>\n",
              "      <td>0.941941</td>\n",
              "      <td>-0.745573</td>\n",
              "    </tr>\n",
              "    <tr>\n",
              "      <th>Total</th>\n",
              "      <td>-0.655877</td>\n",
              "      <td>0.970840</td>\n",
              "      <td>0.969439</td>\n",
              "      <td>0.941941</td>\n",
              "      <td>1.000000</td>\n",
              "      <td>-0.692450</td>\n",
              "    </tr>\n",
              "    <tr>\n",
              "      <th>Rank by Total</th>\n",
              "      <td>0.873539</td>\n",
              "      <td>-0.626012</td>\n",
              "      <td>-0.632831</td>\n",
              "      <td>-0.745573</td>\n",
              "      <td>-0.692450</td>\n",
              "      <td>1.000000</td>\n",
              "    </tr>\n",
              "  </tbody>\n",
              "</table>\n",
              "</div>\n",
              "      <button class=\"colab-df-convert\" onclick=\"convertToInteractive('df-60386861-b9b8-4dbe-9634-ead2c1b43cd4')\"\n",
              "              title=\"Convert this dataframe to an interactive table.\"\n",
              "              style=\"display:none;\">\n",
              "        \n",
              "  <svg xmlns=\"http://www.w3.org/2000/svg\" height=\"24px\"viewBox=\"0 0 24 24\"\n",
              "       width=\"24px\">\n",
              "    <path d=\"M0 0h24v24H0V0z\" fill=\"none\"/>\n",
              "    <path d=\"M18.56 5.44l.94 2.06.94-2.06 2.06-.94-2.06-.94-.94-2.06-.94 2.06-2.06.94zm-11 1L8.5 8.5l.94-2.06 2.06-.94-2.06-.94L8.5 2.5l-.94 2.06-2.06.94zm10 10l.94 2.06.94-2.06 2.06-.94-2.06-.94-.94-2.06-.94 2.06-2.06.94z\"/><path d=\"M17.41 7.96l-1.37-1.37c-.4-.4-.92-.59-1.43-.59-.52 0-1.04.2-1.43.59L10.3 9.45l-7.72 7.72c-.78.78-.78 2.05 0 2.83L4 21.41c.39.39.9.59 1.41.59.51 0 1.02-.2 1.41-.59l7.78-7.78 2.81-2.81c.8-.78.8-2.07 0-2.86zM5.41 20L4 18.59l7.72-7.72 1.47 1.35L5.41 20z\"/>\n",
              "  </svg>\n",
              "      </button>\n",
              "      \n",
              "  <style>\n",
              "    .colab-df-container {\n",
              "      display:flex;\n",
              "      flex-wrap:wrap;\n",
              "      gap: 12px;\n",
              "    }\n",
              "\n",
              "    .colab-df-convert {\n",
              "      background-color: #E8F0FE;\n",
              "      border: none;\n",
              "      border-radius: 50%;\n",
              "      cursor: pointer;\n",
              "      display: none;\n",
              "      fill: #1967D2;\n",
              "      height: 32px;\n",
              "      padding: 0 0 0 0;\n",
              "      width: 32px;\n",
              "    }\n",
              "\n",
              "    .colab-df-convert:hover {\n",
              "      background-color: #E2EBFA;\n",
              "      box-shadow: 0px 1px 2px rgba(60, 64, 67, 0.3), 0px 1px 3px 1px rgba(60, 64, 67, 0.15);\n",
              "      fill: #174EA6;\n",
              "    }\n",
              "\n",
              "    [theme=dark] .colab-df-convert {\n",
              "      background-color: #3B4455;\n",
              "      fill: #D2E3FC;\n",
              "    }\n",
              "\n",
              "    [theme=dark] .colab-df-convert:hover {\n",
              "      background-color: #434B5C;\n",
              "      box-shadow: 0px 1px 3px 1px rgba(0, 0, 0, 0.15);\n",
              "      filter: drop-shadow(0px 1px 2px rgba(0, 0, 0, 0.3));\n",
              "      fill: #FFFFFF;\n",
              "    }\n",
              "  </style>\n",
              "\n",
              "      <script>\n",
              "        const buttonEl =\n",
              "          document.querySelector('#df-60386861-b9b8-4dbe-9634-ead2c1b43cd4 button.colab-df-convert');\n",
              "        buttonEl.style.display =\n",
              "          google.colab.kernel.accessAllowed ? 'block' : 'none';\n",
              "\n",
              "        async function convertToInteractive(key) {\n",
              "          const element = document.querySelector('#df-60386861-b9b8-4dbe-9634-ead2c1b43cd4');\n",
              "          const dataTable =\n",
              "            await google.colab.kernel.invokeFunction('convertToInteractive',\n",
              "                                                     [key], {});\n",
              "          if (!dataTable) return;\n",
              "\n",
              "          const docLinkHtml = 'Like what you see? Visit the ' +\n",
              "            '<a target=\"_blank\" href=https://colab.research.google.com/notebooks/data_table.ipynb>data table notebook</a>'\n",
              "            + ' to learn more about interactive tables.';\n",
              "          element.innerHTML = '';\n",
              "          dataTable['output_type'] = 'display_data';\n",
              "          await google.colab.output.renderOutput(dataTable, element);\n",
              "          const docLink = document.createElement('div');\n",
              "          docLink.innerHTML = docLinkHtml;\n",
              "          element.appendChild(docLink);\n",
              "        }\n",
              "      </script>\n",
              "    </div>\n",
              "  </div>\n",
              "  "
            ]
          },
          "metadata": {},
          "execution_count": 51
        }
      ]
    },
    {
      "cell_type": "code",
      "source": [
        "df.plot.scatter(x='Gold', y='Bronze')"
      ],
      "metadata": {
        "colab": {
          "base_uri": "https://localhost:8080/",
          "height": 296
        },
        "id": "2CIyhnL2iQWT",
        "outputId": "eec8e99c-57cb-4cdd-903d-45e19552a4ae"
      },
      "execution_count": 52,
      "outputs": [
        {
          "output_type": "execute_result",
          "data": {
            "text/plain": [
              "<matplotlib.axes._subplots.AxesSubplot at 0x7fab482bbc40>"
            ]
          },
          "metadata": {},
          "execution_count": 52
        },
        {
          "output_type": "display_data",
          "data": {
            "text/plain": [
              "<Figure size 432x288 with 1 Axes>"
            ],
            "image/png": "[encoded data removed]"
          },
          "metadata": {
            "needs_background": "light"
          }
        }
      ]
    },
    {
      "cell_type": "code",
      "source": [
        "from matplotlib.pylab import hexbin\n",
        "df.plot(x='Gold', y='Bronze', kind='hexbin', gridsize=20 )"
      ],
      "metadata": {
        "colab": {
          "base_uri": "https://localhost:8080/",
          "height": 271
        },
        "id": "LcvqF3w6iv8c",
        "outputId": "493177ca-9b3f-4af6-8039-3294b48f9439"
      },
      "execution_count": 54,
      "outputs": [
        {
          "output_type": "execute_result",
          "data": {
            "text/plain": [
              "<matplotlib.axes._subplots.AxesSubplot at 0x7fab482136a0>"
            ]
          },
          "metadata": {},
          "execution_count": 54
        },
        {
          "output_type": "display_data",
          "data": {
            "text/plain": [
              "<Figure size 432x288 with 2 Axes>"
            ],
            "image/png": "[encoded data removed]"
          },
          "metadata": {
            "needs_background": "light"
          }
        }
      ]
    },
    {
      "cell_type": "code",
      "source": [
        "import seaborn as sns\n",
        "sns.kdeplot(df['Gold'],df['Bronze'])"
      ],
      "metadata": {
        "colab": {
          "base_uri": "https://localhost:8080/",
          "height": 351
        },
        "id": "KIbT0SS0jUIb",
        "outputId": "70f4ce37-61d9-419b-efc4-e5fecec2db1a"
      },
      "execution_count": 56,
      "outputs": [
        {
          "output_type": "stream",
          "name": "stderr",
          "text": [
            "/usr/local/lib/python3.8/dist-packages/seaborn/_decorators.py:36: FutureWarning: Pass the following variable as a keyword arg: y. From version 0.12, the only valid positional argument will be `data`, and passing other arguments without an explicit keyword will result in an error or misinterpretation.\n",
            "  warnings.warn(\n"
          ]
        },
        {
          "output_type": "execute_result",
          "data": {
            "text/plain": [
              "<matplotlib.axes._subplots.AxesSubplot at 0x7fab48387f40>"
            ]
          },
          "metadata": {},
          "execution_count": 56
        },
        {
          "output_type": "display_data",
          "data": {
            "text/plain": [
              "<Figure size 432x288 with 1 Axes>"
            ],
            "image/png": "[encoded data removed]"
          },
          "metadata": {
            "needs_background": "light"
          }
        }
      ]
    },
    {
      "cell_type": "code",
      "source": [
        "sns.kdeplot(df['Gold'],df['Rank'])"
      ],
      "metadata": {
        "colab": {
          "base_uri": "https://localhost:8080/",
          "height": 351
        },
        "id": "qF1iBQwmkEi1",
        "outputId": "80894b2c-108e-4b3a-c55c-de79413118ef"
      },
      "execution_count": 57,
      "outputs": [
        {
          "output_type": "stream",
          "name": "stderr",
          "text": [
            "/usr/local/lib/python3.8/dist-packages/seaborn/_decorators.py:36: FutureWarning: Pass the following variable as a keyword arg: y. From version 0.12, the only valid positional argument will be `data`, and passing other arguments without an explicit keyword will result in an error or misinterpretation.\n",
            "  warnings.warn(\n"
          ]
        },
        {
          "output_type": "execute_result",
          "data": {
            "text/plain": [
              "<matplotlib.axes._subplots.AxesSubplot at 0x7fab48268f10>"
            ]
          },
          "metadata": {},
          "execution_count": 57
        },
        {
          "output_type": "display_data",
          "data": {
            "text/plain": [
              "<Figure size 432x288 with 1 Axes>"
            ],
            "image/png": "[encoded data removed]"
          },
          "metadata": {
            "needs_background": "light"
          }
        }
      ]
    },
    {
      "cell_type": "code",
      "source": [
        "import scipy\n",
        "from scipy.stats import spearmanr\n",
        "spearmanr(df['Gold'], df['Rank']) \n"
      ],
      "metadata": {
        "colab": {
          "base_uri": "https://localhost:8080/"
        },
        "id": "WVetlkBBkc-1",
        "outputId": "4959bdab-50b0-4b46-f2f1-c914e31ccab4"
      },
      "execution_count": 59,
      "outputs": [
        {
          "output_type": "execute_result",
          "data": {
            "text/plain": [
              "SpearmanrResult(correlation=-0.9782473544469465, pvalue=5.863199191096883e-64)"
            ]
          },
          "metadata": {},
          "execution_count": 59
        }
      ]
    },
    {
      "cell_type": "code",
      "source": [
        "a=np.random.normal(loc=0.0, scale=5, size=10)\n",
        "print(a)"
      ],
      "metadata": {
        "colab": {
          "base_uri": "https://localhost:8080/"
        },
        "id": "roXjHa4gllUg",
        "outputId": "889526e5-9022-42c4-d12f-94e8b04bc307"
      },
      "execution_count": 62,
      "outputs": [
        {
          "output_type": "stream",
          "name": "stdout",
          "text": [
            "[-1.90499747 -2.19160684  0.28049668 -0.08668886 -3.64376594  6.28379965\n",
            " -0.4376658  -1.95853589 -6.7403174   0.82513131]\n"
          ]
        }
      ]
    },
    {
      "cell_type": "code",
      "source": [
        "scipy.stats.ttest_1samp(a, 0.0)"
      ],
      "metadata": {
        "colab": {
          "base_uri": "https://localhost:8080/"
        },
        "id": "9WCf3mE4mXgj",
        "outputId": "87259910-0001-447e-c506-9f77e3fd45a2"
      },
      "execution_count": 67,
      "outputs": [
        {
          "output_type": "execute_result",
          "data": {
            "text/plain": [
              "Ttest_1sampResult(statistic=-0.8982118317856679, pvalue=0.3924679947309724)"
            ]
          },
          "metadata": {},
          "execution_count": 67
        }
      ]
    },
    {
      "cell_type": "code",
      "source": [
        "scipy.stats.ks_1samp(a, stats.norm.cdf)"
      ],
      "metadata": {
        "colab": {
          "base_uri": "https://localhost:8080/"
        },
        "id": "eHMQ1JRhnedI",
        "outputId": "b8e49a93-ff10-4c83-8294-9a85fc3303ed"
      },
      "execution_count": 68,
      "outputs": [
        {
          "output_type": "execute_result",
          "data": {
            "text/plain": [
              "KstestResult(statistic=0.47160980000891556, pvalue=0.014607278724106054)"
            ]
          },
          "metadata": {},
          "execution_count": 68
        }
      ]
    },
    {
      "cell_type": "code",
      "source": [
        "b=np.random.uniform(size=20)\n",
        "b"
      ],
      "metadata": {
        "colab": {
          "base_uri": "https://localhost:8080/"
        },
        "id": "c8-5VoyAn8gX",
        "outputId": "d4dba524-9e69-46d4-ff33-d593d0916cb1"
      },
      "execution_count": 69,
      "outputs": [
        {
          "output_type": "execute_result",
          "data": {
            "text/plain": [
              "array([0.43099672, 0.22415176, 0.77350299, 0.490472  , 0.80820091,\n",
              "       0.59179884, 0.30051868, 0.51987021, 0.12021421, 0.77270771,\n",
              "       0.94494075, 0.67789796, 0.1409857 , 0.86992047, 0.9086795 ,\n",
              "       0.78418996, 0.40993588, 0.2072166 , 0.77820353, 0.92358293])"
            ]
          },
          "metadata": {},
          "execution_count": 69
        }
      ]
    },
    {
      "cell_type": "code",
      "source": [
        "scipy.stats.ks_2samp(df['Gold'],['Silver'])"
      ],
      "metadata": {
        "colab": {
          "base_uri": "https://localhost:8080/"
        },
        "id": "SSY-pGpXomOv",
        "outputId": "f191aea7-62d3-492e-fdbd-de8115fdee7b"
      },
      "execution_count": 70,
      "outputs": [
        {
          "output_type": "execute_result",
          "data": {
            "text/plain": [
              "KstestResult(statistic=1.0, pvalue=0.021276595744680882)"
            ]
          },
          "metadata": {},
          "execution_count": 70
        }
      ]
    },
    {
      "cell_type": "code",
      "source": [
        "scipy.stats.ks_2samp(df['Gold'],['Rank'])"
      ],
      "metadata": {
        "colab": {
          "base_uri": "https://localhost:8080/"
        },
        "id": "rGtx4RuCo7qG",
        "outputId": "a1d14339-c6cf-43ef-896a-02b2da2b61ab"
      },
      "execution_count": 71,
      "outputs": [
        {
          "output_type": "execute_result",
          "data": {
            "text/plain": [
              "KstestResult(statistic=1.0, pvalue=0.021276595744680882)"
            ]
          },
          "metadata": {},
          "execution_count": 71
        }
      ]
    }
  ]
}